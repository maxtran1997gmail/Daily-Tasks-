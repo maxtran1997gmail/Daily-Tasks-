{
 "cells": [
  {
   "cell_type": "code",
   "execution_count": 1,
   "metadata": {},
   "outputs": [],
   "source": [
    "import findspark\n",
    "findspark.init()\n",
    "\n",
    "from pyspark.sql import SparkSession\n",
    "from pyspark import StorageLevel\n",
    "import datetime\n",
    "from datetime import datetime, date, timedelta\n",
    "from pyspark.sql.functions import col, collect_list, udf, lower, from_json, to_timestamp, substring, date_add, unix_timestamp, hour\n",
    "from pyspark.sql.functions import max as ps_max\n",
    "from pyspark.sql.functions import sum as ps_sum\n",
    "from pyspark.sql.functions import count as ps_count\n",
    "import pandas as pd\n",
    "import numpy as np\n",
    "import matplotlib.pyplot as plt\n",
    "\n",
    "import seaborn as sns\n",
    "import pymssql\n",
    "from pyspark.sql.types import StructField, StructType, IntegerType, ArrayType, StringType, TimestampType\n",
    "\n",
    "from pymongo import MongoClient\n",
    "import numpy as np\n",
    "import pandas as pd\n",
    "from tqdm import tqdm\n",
    "\n",
    "import json\n",
    "import os\n",
    "\n",
    "import traceback\n",
    "\n",
    "from datetime import datetime\n",
    "from bson.objectid import ObjectId"
   ]
  },
  {
   "cell_type": "code",
   "execution_count": 2,
   "metadata": {},
   "outputs": [],
   "source": [
    "class config:\n",
    "    folder_save_json = r\"file_of_phimbo_boxmobilesmattv\""
   ]
  },
  {
   "cell_type": "code",
   "execution_count": 3,
   "metadata": {},
   "outputs": [
    {
     "name": "stderr",
     "output_type": "stream",
     "text": [
      "Picked up JAVA_TOOL_OPTIONS: -Dhttp.proxyHost=210.245.31.15 -Dhttp.proxyPort=80 -Dhttps.proxyHost=210.245.31.15 -Dhttps.proxyPort=80\n",
      "Picked up JAVA_TOOL_OPTIONS: -Dhttp.proxyHost=210.245.31.15 -Dhttp.proxyPort=80 -Dhttps.proxyHost=210.245.31.15 -Dhttps.proxyPort=80\n",
      "Setting default log level to \"WARN\".\n",
      "To adjust logging level use sc.setLogLevel(newLevel). For SparkR, use setLogLevel(newLevel).\n",
      "2023-01-30 14:26:44,630 WARN spark.SparkConf: Note that spark.local.dir will be overridden by the value set by the cluster manager (via SPARK_LOCAL_DIRS in mesos/standalone/kubernetes and LOCAL_DIRS in YARN).\n",
      "2023-01-30 14:27:14,233 WARN util.Utils: Service 'org.apache.spark.network.netty.NettyBlockTransferService' could not bind on port 33100. Attempting port 33101.\n",
      "2023-01-30 14:27:14,238 WARN util.Utils: Service 'org.apache.spark.network.netty.NettyBlockTransferService' could not bind on port 33101. Attempting port 33102.\n",
      "2023-01-30 14:27:14,241 WARN util.Utils: Service 'org.apache.spark.network.netty.NettyBlockTransferService' could not bind on port 33102. Attempting port 33103.\n",
      "2023-01-30 14:27:14,245 WARN util.Utils: Service 'org.apache.spark.network.netty.NettyBlockTransferService' could not bind on port 33103. Attempting port 33104.\n"
     ]
    }
   ],
   "source": [
    "def get_spark_session():    \n",
    "    spark = SparkSession.builder\\\n",
    "                        .master('yarn')\\\n",
    "                        .config('spark.submit.deployMode', 'client')\\\n",
    "                        .config('spark.driver.memory', '4g')\\\n",
    "                        .config('spark.driver.cores', '4')\\\n",
    "                        .config('spark.executor.memory', '4g')\\\n",
    "                        .config('spark.executor.cores', '4')\\\n",
    "                        .config('spark.dynamicAllocation.initialExecutors', '4')\\\n",
    "                        .config('spark.local.dir','/mnt/big-data/ViVH6_52/review_code_pyspark/evaluate_top_10/fd_log_draft1_evaluate_top_10')\\\n",
    "                        .appName('etl_testing_top10_vivh6_52_phimbo_boxmobilesmattv').getOrCreate()\n",
    "    spark.sql(\"set spark.sql.caseSensitive=true\")\n",
    "    return spark\n",
    "\n",
    "spark = get_spark_session()"
   ]
  },
  {
   "cell_type": "code",
   "execution_count": 4,
   "metadata": {},
   "outputs": [],
   "source": [
    "device_ordering = [\"mobile\", \"box\", \"smarttv\"]"
   ]
  },
  {
   "cell_type": "code",
   "execution_count": 5,
   "metadata": {},
   "outputs": [],
   "source": [
    "def read_json():\n",
    "    with open(path_json) as json_file:\n",
    "        data = json.load(json_file)\n",
    "    return data\n",
    "    \n",
    "def write_json(path_json, data):\n",
    "    with open(path_json, 'w', encoding='utf-8') as outfile:\n",
    "        json.dump(data, outfile, ensure_ascii=False)"
   ]
  },
  {
   "cell_type": "code",
   "execution_count": 6,
   "metadata": {},
   "outputs": [],
   "source": [
    "def get_ls_day_between(str_start_date, str_end_date):\n",
    "    sy, sm, sd = list(map(int, str_start_date.split(\"-\")))\n",
    "    ey, em, ed = list(map(int, str_end_date.split(\"-\")))\n",
    "\n",
    "    start_date = date(sy, sm, sd)\n",
    "    end_date = date(ey, em, ed)\n",
    "\n",
    "    ls_day_between = []\n",
    "    delta = end_date - start_date\n",
    "    for i in range(delta.days + 1):\n",
    "        day = start_date + timedelta(days=i)\n",
    "        day = str(day).replace(\"-\", \"/\")\n",
    "        ls_day_between.append(day)\n",
    "    return ls_day_between"
   ]
  },
  {
   "cell_type": "code",
   "execution_count": 7,
   "metadata": {},
   "outputs": [
    {
     "data": {
      "text/plain": [
       "['2022-12-01',\n",
       " '2022-12-02',\n",
       " '2022-12-03',\n",
       " '2022-12-04',\n",
       " '2022-12-05',\n",
       " '2022-12-06',\n",
       " '2022-12-07',\n",
       " '2022-12-08',\n",
       " '2022-12-09',\n",
       " '2022-12-10',\n",
       " '2022-12-11',\n",
       " '2022-12-12',\n",
       " '2022-12-13',\n",
       " '2022-12-14',\n",
       " '2022-12-15',\n",
       " '2022-12-16',\n",
       " '2022-12-17',\n",
       " '2022-12-18',\n",
       " '2022-12-19',\n",
       " '2022-12-20',\n",
       " '2022-12-21',\n",
       " '2022-12-22',\n",
       " '2022-12-23',\n",
       " '2022-12-24',\n",
       " '2022-12-25',\n",
       " '2022-12-26',\n",
       " '2022-12-27',\n",
       " '2022-12-28',\n",
       " '2022-12-29',\n",
       " '2022-12-30',\n",
       " '2022-12-31']"
      ]
     },
     "execution_count": 7,
     "metadata": {},
     "output_type": "execute_result"
    }
   ],
   "source": [
    "ls_day = get_ls_day_between(str_start_date = \"2022-12-01\",\n",
    "                            str_end_date = \"2022-12-31\")\n",
    "\n",
    "ls_day = [e.replace(\"/\", \"-\") for e in ls_day]\n",
    "ls_day"
   ]
  },
  {
   "cell_type": "code",
   "execution_count": 8,
   "metadata": {},
   "outputs": [
    {
     "data": {
      "text/plain": [
       "['2022-12-01-Thu',\n",
       " '2022-12-02-Fri',\n",
       " '2022-12-03-Sat',\n",
       " '2022-12-04-Sun',\n",
       " '2022-12-05-Mon',\n",
       " '2022-12-06-Tue',\n",
       " '2022-12-07-Wed',\n",
       " '2022-12-08-Thu',\n",
       " '2022-12-09-Fri',\n",
       " '2022-12-10-Sat',\n",
       " '2022-12-11-Sun',\n",
       " '2022-12-12-Mon',\n",
       " '2022-12-13-Tue',\n",
       " '2022-12-14-Wed',\n",
       " '2022-12-15-Thu',\n",
       " '2022-12-16-Fri',\n",
       " '2022-12-17-Sat',\n",
       " '2022-12-18-Sun',\n",
       " '2022-12-19-Mon',\n",
       " '2022-12-20-Tue',\n",
       " '2022-12-21-Wed',\n",
       " '2022-12-22-Thu',\n",
       " '2022-12-23-Fri',\n",
       " '2022-12-24-Sat',\n",
       " '2022-12-25-Sun',\n",
       " '2022-12-26-Mon',\n",
       " '2022-12-27-Tue',\n",
       " '2022-12-28-Wed',\n",
       " '2022-12-29-Thu',\n",
       " '2022-12-30-Fri',\n",
       " '2022-12-31-Sat']"
      ]
     },
     "execution_count": 8,
     "metadata": {},
     "output_type": "execute_result"
    }
   ],
   "source": [
    "ls_days_of_week = [r\"{}-{}\".format(e, datetime.strptime(e, \"%Y-%m-%d\").strftime('%A')[:3]) for e in ls_day]\n",
    "ls_days_of_week"
   ]
  },
  {
   "cell_type": "code",
   "execution_count": 9,
   "metadata": {},
   "outputs": [
    {
     "name": "stdout",
     "output_type": "stream",
     "text": [
      "['hdfs://172.20.2.52:8020/ViVH6_52/analysis_round3/mobile/phimbophimleIPTV_2022-12-01', 'hdfs://172.20.2.52:8020/ViVH6_52/analysis_round3/mobile/phimbophimleIPTV_2022-12-02', 'hdfs://172.20.2.52:8020/ViVH6_52/analysis_round3/mobile/phimbophimleIPTV_2022-12-03', 'hdfs://172.20.2.52:8020/ViVH6_52/analysis_round3/mobile/phimbophimleIPTV_2022-12-04', 'hdfs://172.20.2.52:8020/ViVH6_52/analysis_round3/mobile/phimbophimleIPTV_2022-12-05', 'hdfs://172.20.2.52:8020/ViVH6_52/analysis_round3/mobile/phimbophimleIPTV_2022-12-06', 'hdfs://172.20.2.52:8020/ViVH6_52/analysis_round3/mobile/phimbophimleIPTV_2022-12-07', 'hdfs://172.20.2.52:8020/ViVH6_52/analysis_round3/mobile/phimbophimleIPTV_2022-12-08', 'hdfs://172.20.2.52:8020/ViVH6_52/analysis_round3/mobile/phimbophimleIPTV_2022-12-09', 'hdfs://172.20.2.52:8020/ViVH6_52/analysis_round3/mobile/phimbophimleIPTV_2022-12-10', 'hdfs://172.20.2.52:8020/ViVH6_52/analysis_round3/mobile/phimbophimleIPTV_2022-12-11', 'hdfs://172.20.2.52:8020/ViVH6_52/analysis_round3/mobile/phimbophimleIPTV_2022-12-12', 'hdfs://172.20.2.52:8020/ViVH6_52/analysis_round3/mobile/phimbophimleIPTV_2022-12-13', 'hdfs://172.20.2.52:8020/ViVH6_52/analysis_round3/mobile/phimbophimleIPTV_2022-12-14', 'hdfs://172.20.2.52:8020/ViVH6_52/analysis_round3/mobile/phimbophimleIPTV_2022-12-15', 'hdfs://172.20.2.52:8020/ViVH6_52/analysis_round3/mobile/phimbophimleIPTV_2022-12-16', 'hdfs://172.20.2.52:8020/ViVH6_52/analysis_round3/mobile/phimbophimleIPTV_2022-12-17', 'hdfs://172.20.2.52:8020/ViVH6_52/analysis_round3/mobile/phimbophimleIPTV_2022-12-18', 'hdfs://172.20.2.52:8020/ViVH6_52/analysis_round3/mobile/phimbophimleIPTV_2022-12-19', 'hdfs://172.20.2.52:8020/ViVH6_52/analysis_round3/mobile/phimbophimleIPTV_2022-12-20', 'hdfs://172.20.2.52:8020/ViVH6_52/analysis_round3/mobile/phimbophimleIPTV_2022-12-21', 'hdfs://172.20.2.52:8020/ViVH6_52/analysis_round3/mobile/phimbophimleIPTV_2022-12-22', 'hdfs://172.20.2.52:8020/ViVH6_52/analysis_round3/mobile/phimbophimleIPTV_2022-12-23', 'hdfs://172.20.2.52:8020/ViVH6_52/analysis_round3/mobile/phimbophimleIPTV_2022-12-24', 'hdfs://172.20.2.52:8020/ViVH6_52/analysis_round3/mobile/phimbophimleIPTV_2022-12-25', 'hdfs://172.20.2.52:8020/ViVH6_52/analysis_round3/mobile/phimbophimleIPTV_2022-12-26', 'hdfs://172.20.2.52:8020/ViVH6_52/analysis_round3/mobile/phimbophimleIPTV_2022-12-27', 'hdfs://172.20.2.52:8020/ViVH6_52/analysis_round3/mobile/phimbophimleIPTV_2022-12-28', 'hdfs://172.20.2.52:8020/ViVH6_52/analysis_round3/mobile/phimbophimleIPTV_2022-12-29', 'hdfs://172.20.2.52:8020/ViVH6_52/analysis_round3/mobile/phimbophimleIPTV_2022-12-30', 'hdfs://172.20.2.52:8020/ViVH6_52/analysis_round3/mobile/phimbophimleIPTV_2022-12-31']\n",
      "['hdfs://172.20.2.52:8020/ViVH6_52/analysis_round3/box/phimbophimleIPTV_2022-12-01', 'hdfs://172.20.2.52:8020/ViVH6_52/analysis_round3/box/phimbophimleIPTV_2022-12-02', 'hdfs://172.20.2.52:8020/ViVH6_52/analysis_round3/box/phimbophimleIPTV_2022-12-03', 'hdfs://172.20.2.52:8020/ViVH6_52/analysis_round3/box/phimbophimleIPTV_2022-12-04', 'hdfs://172.20.2.52:8020/ViVH6_52/analysis_round3/box/phimbophimleIPTV_2022-12-05', 'hdfs://172.20.2.52:8020/ViVH6_52/analysis_round3/box/phimbophimleIPTV_2022-12-06', 'hdfs://172.20.2.52:8020/ViVH6_52/analysis_round3/box/phimbophimleIPTV_2022-12-07', 'hdfs://172.20.2.52:8020/ViVH6_52/analysis_round3/box/phimbophimleIPTV_2022-12-08', 'hdfs://172.20.2.52:8020/ViVH6_52/analysis_round3/box/phimbophimleIPTV_2022-12-09', 'hdfs://172.20.2.52:8020/ViVH6_52/analysis_round3/box/phimbophimleIPTV_2022-12-10', 'hdfs://172.20.2.52:8020/ViVH6_52/analysis_round3/box/phimbophimleIPTV_2022-12-11', 'hdfs://172.20.2.52:8020/ViVH6_52/analysis_round3/box/phimbophimleIPTV_2022-12-12', 'hdfs://172.20.2.52:8020/ViVH6_52/analysis_round3/box/phimbophimleIPTV_2022-12-13', 'hdfs://172.20.2.52:8020/ViVH6_52/analysis_round3/box/phimbophimleIPTV_2022-12-14', 'hdfs://172.20.2.52:8020/ViVH6_52/analysis_round3/box/phimbophimleIPTV_2022-12-15', 'hdfs://172.20.2.52:8020/ViVH6_52/analysis_round3/box/phimbophimleIPTV_2022-12-16', 'hdfs://172.20.2.52:8020/ViVH6_52/analysis_round3/box/phimbophimleIPTV_2022-12-17', 'hdfs://172.20.2.52:8020/ViVH6_52/analysis_round3/box/phimbophimleIPTV_2022-12-18', 'hdfs://172.20.2.52:8020/ViVH6_52/analysis_round3/box/phimbophimleIPTV_2022-12-19', 'hdfs://172.20.2.52:8020/ViVH6_52/analysis_round3/box/phimbophimleIPTV_2022-12-20', 'hdfs://172.20.2.52:8020/ViVH6_52/analysis_round3/box/phimbophimleIPTV_2022-12-21', 'hdfs://172.20.2.52:8020/ViVH6_52/analysis_round3/box/phimbophimleIPTV_2022-12-22', 'hdfs://172.20.2.52:8020/ViVH6_52/analysis_round3/box/phimbophimleIPTV_2022-12-23', 'hdfs://172.20.2.52:8020/ViVH6_52/analysis_round3/box/phimbophimleIPTV_2022-12-24', 'hdfs://172.20.2.52:8020/ViVH6_52/analysis_round3/box/phimbophimleIPTV_2022-12-25', 'hdfs://172.20.2.52:8020/ViVH6_52/analysis_round3/box/phimbophimleIPTV_2022-12-26', 'hdfs://172.20.2.52:8020/ViVH6_52/analysis_round3/box/phimbophimleIPTV_2022-12-27', 'hdfs://172.20.2.52:8020/ViVH6_52/analysis_round3/box/phimbophimleIPTV_2022-12-28', 'hdfs://172.20.2.52:8020/ViVH6_52/analysis_round3/box/phimbophimleIPTV_2022-12-29', 'hdfs://172.20.2.52:8020/ViVH6_52/analysis_round3/box/phimbophimleIPTV_2022-12-30', 'hdfs://172.20.2.52:8020/ViVH6_52/analysis_round3/box/phimbophimleIPTV_2022-12-31']\n",
      "['hdfs://172.20.2.52:8020/ViVH6_52/analysis_round3/smarttv/phimbophimleIPTV_2022-12-01', 'hdfs://172.20.2.52:8020/ViVH6_52/analysis_round3/smarttv/phimbophimleIPTV_2022-12-02', 'hdfs://172.20.2.52:8020/ViVH6_52/analysis_round3/smarttv/phimbophimleIPTV_2022-12-03', 'hdfs://172.20.2.52:8020/ViVH6_52/analysis_round3/smarttv/phimbophimleIPTV_2022-12-04', 'hdfs://172.20.2.52:8020/ViVH6_52/analysis_round3/smarttv/phimbophimleIPTV_2022-12-05', 'hdfs://172.20.2.52:8020/ViVH6_52/analysis_round3/smarttv/phimbophimleIPTV_2022-12-06', 'hdfs://172.20.2.52:8020/ViVH6_52/analysis_round3/smarttv/phimbophimleIPTV_2022-12-07', 'hdfs://172.20.2.52:8020/ViVH6_52/analysis_round3/smarttv/phimbophimleIPTV_2022-12-08', 'hdfs://172.20.2.52:8020/ViVH6_52/analysis_round3/smarttv/phimbophimleIPTV_2022-12-09', 'hdfs://172.20.2.52:8020/ViVH6_52/analysis_round3/smarttv/phimbophimleIPTV_2022-12-10', 'hdfs://172.20.2.52:8020/ViVH6_52/analysis_round3/smarttv/phimbophimleIPTV_2022-12-11', 'hdfs://172.20.2.52:8020/ViVH6_52/analysis_round3/smarttv/phimbophimleIPTV_2022-12-12', 'hdfs://172.20.2.52:8020/ViVH6_52/analysis_round3/smarttv/phimbophimleIPTV_2022-12-13', 'hdfs://172.20.2.52:8020/ViVH6_52/analysis_round3/smarttv/phimbophimleIPTV_2022-12-14', 'hdfs://172.20.2.52:8020/ViVH6_52/analysis_round3/smarttv/phimbophimleIPTV_2022-12-15', 'hdfs://172.20.2.52:8020/ViVH6_52/analysis_round3/smarttv/phimbophimleIPTV_2022-12-16', 'hdfs://172.20.2.52:8020/ViVH6_52/analysis_round3/smarttv/phimbophimleIPTV_2022-12-17', 'hdfs://172.20.2.52:8020/ViVH6_52/analysis_round3/smarttv/phimbophimleIPTV_2022-12-18', 'hdfs://172.20.2.52:8020/ViVH6_52/analysis_round3/smarttv/phimbophimleIPTV_2022-12-19', 'hdfs://172.20.2.52:8020/ViVH6_52/analysis_round3/smarttv/phimbophimleIPTV_2022-12-20', 'hdfs://172.20.2.52:8020/ViVH6_52/analysis_round3/smarttv/phimbophimleIPTV_2022-12-21', 'hdfs://172.20.2.52:8020/ViVH6_52/analysis_round3/smarttv/phimbophimleIPTV_2022-12-22', 'hdfs://172.20.2.52:8020/ViVH6_52/analysis_round3/smarttv/phimbophimleIPTV_2022-12-23', 'hdfs://172.20.2.52:8020/ViVH6_52/analysis_round3/smarttv/phimbophimleIPTV_2022-12-24', 'hdfs://172.20.2.52:8020/ViVH6_52/analysis_round3/smarttv/phimbophimleIPTV_2022-12-25', 'hdfs://172.20.2.52:8020/ViVH6_52/analysis_round3/smarttv/phimbophimleIPTV_2022-12-26', 'hdfs://172.20.2.52:8020/ViVH6_52/analysis_round3/smarttv/phimbophimleIPTV_2022-12-27', 'hdfs://172.20.2.52:8020/ViVH6_52/analysis_round3/smarttv/phimbophimleIPTV_2022-12-28', 'hdfs://172.20.2.52:8020/ViVH6_52/analysis_round3/smarttv/phimbophimleIPTV_2022-12-29', 'hdfs://172.20.2.52:8020/ViVH6_52/analysis_round3/smarttv/phimbophimleIPTV_2022-12-30', 'hdfs://172.20.2.52:8020/ViVH6_52/analysis_round3/smarttv/phimbophimleIPTV_2022-12-31']\n"
     ]
    }
   ],
   "source": [
    "template_hdfs_mobile = r\"hdfs://172.20.2.52:8020/ViVH6_52/analysis_round3/mobile/phimbophimleIPTV_{}\"\n",
    "path_hdfs_mobile = [template_hdfs_mobile.format(e) for e in ls_day]\n",
    "\n",
    "template_hdfs_box = r\"hdfs://172.20.2.52:8020/ViVH6_52/analysis_round3/box/phimbophimleIPTV_{}\"\n",
    "path_hdfs_box = [template_hdfs_box.format(e) for e in ls_day]\n",
    "\n",
    "template_hdfs_smarttv = r\"hdfs://172.20.2.52:8020/ViVH6_52/analysis_round3/smarttv/phimbophimleIPTV_{}\"\n",
    "path_hdfs_smarttv = [template_hdfs_smarttv.format(e) for e in ls_day]\n",
    "\n",
    "\n",
    "print(path_hdfs_mobile)\n",
    "print(path_hdfs_box)\n",
    "print(path_hdfs_smarttv)\n"
   ]
  },
  {
   "cell_type": "code",
   "execution_count": 10,
   "metadata": {},
   "outputs": [
    {
     "name": "stderr",
     "output_type": "stream",
     "text": [
      "2023-01-30 14:27:47,532 WARN cluster.YarnScheduler: Initial job has not accepted any resources; check your cluster UI to ensure that workers are registered and have sufficient resources\n",
      "2023-01-30 14:28:02,531 WARN cluster.YarnScheduler: Initial job has not accepted any resources; check your cluster UI to ensure that workers are registered and have sufficient resources\n",
      "                                                                                \r"
     ]
    },
    {
     "name": "stdout",
     "output_type": "stream",
     "text": [
      "Mobile:\t 2022-12-01 :\t 32685\n"
     ]
    },
    {
     "name": "stderr",
     "output_type": "stream",
     "text": [
      "                                                                                \r"
     ]
    },
    {
     "name": "stdout",
     "output_type": "stream",
     "text": [
      "Mobile:\t 2022-12-02 :\t 32069\n",
      "Mobile:\t 2022-12-03 :\t 35987\n",
      "Mobile:\t 2022-12-04 :\t 38551\n",
      "Mobile:\t 2022-12-05 :\t 32118\n",
      "Mobile:\t 2022-12-06 :\t 32349\n",
      "Mobile:\t 2022-12-07 :\t 32539\n",
      "Mobile:\t 2022-12-08 :\t 28825\n",
      "Mobile:\t 2022-12-09 :\t 33821\n",
      "Mobile:\t 2022-12-10 :\t 35549\n",
      "Mobile:\t 2022-12-11 :\t 38947\n",
      "Mobile:\t 2022-12-12 :\t 29735\n",
      "Mobile:\t 2022-12-13 :\t 30946\n",
      "Mobile:\t 2022-12-14 :\t 31379\n",
      "Mobile:\t 2022-12-15 :\t 30512\n",
      "Mobile:\t 2022-12-16 :\t 30598\n",
      "Mobile:\t 2022-12-17 :\t 33669\n"
     ]
    },
    {
     "name": "stderr",
     "output_type": "stream",
     "text": [
      "                                                                                \r"
     ]
    },
    {
     "name": "stdout",
     "output_type": "stream",
     "text": [
      "Mobile:\t 2022-12-18 :\t 36870\n",
      "Mobile:\t 2022-12-19 :\t 32511\n",
      "Mobile:\t 2022-12-20 :\t 28921\n",
      "Mobile:\t 2022-12-21 :\t 31550\n",
      "Mobile:\t 2022-12-22 :\t 30437\n",
      "Mobile:\t 2022-12-23 :\t 27899\n",
      "Mobile:\t 2022-12-24 :\t 27986\n",
      "Mobile:\t 2022-12-25 :\t 30234\n",
      "Mobile:\t 2022-12-26 :\t 26685\n",
      "Mobile:\t 2022-12-27 :\t 33261\n",
      "Mobile:\t 2022-12-28 :\t 34303\n",
      "Mobile:\t 2022-12-29 :\t 35335\n",
      "Mobile:\t 2022-12-30 :\t 34055\n",
      "Mobile:\t 2022-12-31 :\t 35474\n",
      "total_view_LogId111_mobile:\t 1005800\n",
      "Box:\t 2022-12-01 :\t 25826\n",
      "Box:\t 2022-12-02 :\t 25257\n",
      "Box:\t 2022-12-03 :\t 27849\n",
      "Box:\t 2022-12-04 :\t 30032\n",
      "Box:\t 2022-12-05 :\t 26306\n",
      "Box:\t 2022-12-06 :\t 26189\n",
      "Box:\t 2022-12-07 :\t 28302\n",
      "Box:\t 2022-12-08 :\t 29282\n",
      "Box:\t 2022-12-09 :\t 28598\n",
      "Box:\t 2022-12-10 :\t 27177\n",
      "Box:\t 2022-12-11 :\t 30427\n",
      "Box:\t 2022-12-12 :\t 28720\n",
      "Box:\t 2022-12-13 :\t 27490\n",
      "Box:\t 2022-12-14 :\t 26045\n",
      "Box:\t 2022-12-15 :\t 26482\n",
      "Box:\t 2022-12-16 :\t 27345\n",
      "Box:\t 2022-12-17 :\t 27977\n",
      "Box:\t 2022-12-18 :\t 28017\n",
      "Box:\t 2022-12-19 :\t 23867\n",
      "Box:\t 2022-12-20 :\t 26105\n",
      "Box:\t 2022-12-21 :\t 26099\n",
      "Box:\t 2022-12-22 :\t 27415\n",
      "Box:\t 2022-12-23 :\t 26094\n",
      "Box:\t 2022-12-24 :\t 26288\n",
      "Box:\t 2022-12-25 :\t 28484\n",
      "Box:\t 2022-12-26 :\t 26103\n",
      "Box:\t 2022-12-27 :\t 26827\n",
      "Box:\t 2022-12-28 :\t 30182\n",
      "Box:\t 2022-12-29 :\t 29671\n",
      "Box:\t 2022-12-30 :\t 27159\n",
      "Box:\t 2022-12-31 :\t 29592\n",
      "total_view_LogId111_box:\t 851207\n",
      "Smarttv:\t 2022-12-01 :\t 57710\n",
      "Smarttv:\t 2022-12-02 :\t 56954\n",
      "Smarttv:\t 2022-12-03 :\t 63480\n",
      "Smarttv:\t 2022-12-04 :\t 65213\n",
      "Smarttv:\t 2022-12-05 :\t 52517\n",
      "Smarttv:\t 2022-12-06 :\t 53026\n",
      "Smarttv:\t 2022-12-07 :\t 55442\n",
      "Smarttv:\t 2022-12-08 :\t 55281\n",
      "Smarttv:\t 2022-12-09 :\t 57953\n",
      "Smarttv:\t 2022-12-10 :\t 58221\n",
      "Smarttv:\t 2022-12-11 :\t 64729\n",
      "Smarttv:\t 2022-12-12 :\t 53108\n",
      "Smarttv:\t 2022-12-13 :\t 50954\n",
      "Smarttv:\t 2022-12-14 :\t 51016\n",
      "Smarttv:\t 2022-12-15 :\t 51241\n",
      "Smarttv:\t 2022-12-16 :\t 50523\n",
      "Smarttv:\t 2022-12-17 :\t 53663\n",
      "Smarttv:\t 2022-12-18 :\t 55383\n",
      "Smarttv:\t 2022-12-19 :\t 44508\n",
      "Smarttv:\t 2022-12-20 :\t 46981\n",
      "Smarttv:\t 2022-12-21 :\t 47102\n",
      "Smarttv:\t 2022-12-22 :\t 47705\n",
      "Smarttv:\t 2022-12-23 :\t 46386\n",
      "Smarttv:\t 2022-12-24 :\t 47226\n",
      "Smarttv:\t 2022-12-25 :\t 50722\n",
      "Smarttv:\t 2022-12-26 :\t 46019\n",
      "Smarttv:\t 2022-12-27 :\t 45198\n",
      "Smarttv:\t 2022-12-28 :\t 50219\n",
      "Smarttv:\t 2022-12-29 :\t 51158\n",
      "Smarttv:\t 2022-12-30 :\t 47915\n",
      "Smarttv:\t 2022-12-31 :\t 55098\n",
      "total_view_LogId111_smarttv:\t 1632651\n"
     ]
    }
   ],
   "source": [
    "# _mobile\n",
    "\n",
    "total_view_LogId111_mobile = 0\n",
    "ls_view_LogId111_each_day_mobile = []\n",
    "\n",
    "for day, path_hdfs_1_day_mobile in zip(ls_day, path_hdfs_mobile):\n",
    "    df_mobile = spark.read.orc(path_hdfs_1_day_mobile)\n",
    "    df_mobile = df_mobile.filter(lower(col('AppName')) == \"phim bộ\")\n",
    "    df_count_mobile = df_mobile.count()\n",
    "    ls_view_LogId111_each_day_mobile.append(df_count_mobile)\n",
    "    total_view_LogId111_mobile += df_count_mobile\n",
    "    print(\"Mobile:\\t\", day, \":\\t\", df_count_mobile)\n",
    "\n",
    "print(\"total_view_LogId111_mobile:\\t\", total_view_LogId111_mobile)\n",
    "\n",
    "# _box\n",
    "\n",
    "total_view_LogId111_box = 0\n",
    "ls_view_LogId111_each_day_box = []\n",
    "\n",
    "for day, path_hdfs_1_day_box in zip(ls_day, path_hdfs_box):\n",
    "    df_box = spark.read.orc(path_hdfs_1_day_box)\n",
    "    df_box = df_box.filter(lower(col('AppName')) == \"phim bộ\")\n",
    "    df_count_box = df_box.count()\n",
    "    ls_view_LogId111_each_day_box.append(df_count_box)\n",
    "    total_view_LogId111_box += df_count_box\n",
    "    print(\"Box:\\t\", day, \":\\t\", df_count_box)\n",
    "\n",
    "print(\"total_view_LogId111_box:\\t\", total_view_LogId111_box)\n",
    "\n",
    "# _smarttv\n",
    "\n",
    "total_view_LogId111_smarttv = 0\n",
    "ls_view_LogId111_each_day_smarttv = []\n",
    "\n",
    "for day, path_hdfs_1_day_smarttv in zip(ls_day, path_hdfs_smarttv):\n",
    "    df_smarttv = spark.read.orc(path_hdfs_1_day_smarttv)\n",
    "    df_smarttv = df_smarttv.filter(lower(col('AppName')) == \"phim bộ\")\n",
    "    df_count_smarttv = df_smarttv.count()\n",
    "    ls_view_LogId111_each_day_smarttv.append(df_count_smarttv)\n",
    "    total_view_LogId111_smarttv += df_count_smarttv\n",
    "    print(\"Smarttv:\\t\", day, \":\\t\", df_count_smarttv)\n",
    "\n",
    "print(\"total_view_LogId111_smarttv:\\t\", total_view_LogId111_smarttv)"
   ]
  },
  {
   "cell_type": "code",
   "execution_count": 11,
   "metadata": {},
   "outputs": [],
   "source": [
    "write_json(r\"{}/{}.json\".format(config.folder_save_json, \"ls_view_LogId111_each_day_mobile\"), ls_view_LogId111_each_day_mobile)\n",
    "write_json(r\"{}/{}.json\".format(config.folder_save_json, \"ls_view_LogId111_each_day_box\"), ls_view_LogId111_each_day_box)\n",
    "write_json(r\"{}/{}.json\".format(config.folder_save_json, \"ls_view_LogId111_each_day_smarttv\"), ls_view_LogId111_each_day_smarttv)"
   ]
  },
  {
   "cell_type": "code",
   "execution_count": 12,
   "metadata": {},
   "outputs": [],
   "source": [
    "write_json(r\"{}/{}.json\".format(config.folder_save_json, \"total_view_LogId111_mobile\"), total_view_LogId111_mobile)\n",
    "write_json(r\"{}/{}.json\".format(config.folder_save_json, \"total_view_LogId111_box\"), total_view_LogId111_box)\n",
    "write_json(r\"{}/{}.json\".format(config.folder_save_json, \"total_view_LogId111_smarttv\"), total_view_LogId111_smarttv)"
   ]
  },
  {
   "cell_type": "code",
   "execution_count": 13,
   "metadata": {},
   "outputs": [
    {
     "data": {
      "text/plain": [
       "Text(0.5, 1.0, 'Số lượt xem phim bộ mỗi ngày trên mobile')"
      ]
     },
     "execution_count": 13,
     "metadata": {},
     "output_type": "execute_result"
    },
    {
     "data": {
      "image/png": "[encoded data removed]",
      "text/plain": [
       "<Figure size 1440x576 with 1 Axes>"
      ]
     },
     "metadata": {
      "needs_background": "light"
     },
     "output_type": "display_data"
    }
   ],
   "source": [
    "plt.figure(figsize=(20,8))\n",
    "plt.bar(ls_days_of_week, ls_view_LogId111_each_day_mobile)\n",
    "plt.plot(ls_days_of_week, ls_view_LogId111_each_day_mobile, color='red')\n",
    "plt.xticks(rotation=60)\n",
    "plt.grid(linewidth=0.2)\n",
    "plt.title(\"Số lượt xem phim bộ mỗi ngày trên mobile\")"
   ]
  },
  {
   "cell_type": "code",
   "execution_count": 14,
   "metadata": {},
   "outputs": [
    {
     "data": {
      "text/plain": [
       "Text(0.5, 1.0, 'Số lượt xem phim bộ mỗi ngày trên box')"
      ]
     },
     "execution_count": 14,
     "metadata": {},
     "output_type": "execute_result"
    },
    {
     "data": {
      "image/png": "[encoded data removed]",
      "text/plain": [
       "<Figure size 1440x576 with 1 Axes>"
      ]
     },
     "metadata": {
      "needs_background": "light"
     },
     "output_type": "display_data"
    }
   ],
   "source": [
    "plt.figure(figsize=(20,8))\n",
    "plt.bar(ls_days_of_week, ls_view_LogId111_each_day_box)\n",
    "plt.plot(ls_days_of_week, ls_view_LogId111_each_day_box, color='red')\n",
    "plt.xticks(rotation=60)\n",
    "plt.grid(linewidth=0.2)\n",
    "plt.title(\"Số lượt xem phim bộ mỗi ngày trên box\")"
   ]
  },
  {
   "cell_type": "code",
   "execution_count": 15,
   "metadata": {},
   "outputs": [
    {
     "data": {
      "text/plain": [
       "Text(0.5, 1.0, 'Số lượt xem phim bộ mỗi ngày trên smarttv')"
      ]
     },
     "execution_count": 15,
     "metadata": {},
     "output_type": "execute_result"
    },
    {
     "data": {
      "image/png": "[encoded data removed]",
      "text/plain": [
       "<Figure size 1440x576 with 1 Axes>"
      ]
     },
     "metadata": {
      "needs_background": "light"
     },
     "output_type": "display_data"
    }
   ],
   "source": [
    "plt.figure(figsize=(20,8))\n",
    "plt.bar(ls_days_of_week, ls_view_LogId111_each_day_smarttv)\n",
    "plt.plot(ls_days_of_week, ls_view_LogId111_each_day_smarttv, color='red')\n",
    "plt.xticks(rotation=60)\n",
    "plt.grid(linewidth=0.2)\n",
    "plt.title(\"Số lượt xem phim bộ mỗi ngày trên smarttv\")"
   ]
  },
  {
   "cell_type": "code",
   "execution_count": 16,
   "metadata": {},
   "outputs": [
    {
     "data": {
      "text/plain": [
       "Text(0.5, 1.0, 'Số lượt xem phim bộ mỗi ngày trên từng thiết bị')"
      ]
     },
     "execution_count": 16,
     "metadata": {},
     "output_type": "execute_result"
    },
    {
     "data": {
      "image/png": "[encoded data removed]",
      "text/plain": [
       "<Figure size 1440x576 with 1 Axes>"
      ]
     },
     "metadata": {
      "needs_background": "light"
     },
     "output_type": "display_data"
    }
   ],
   "source": [
    "plt.figure(figsize=(20,8))\n",
    "plt.plot(ls_days_of_week, ls_view_LogId111_each_day_mobile, color='red', label = \"mobile\")\n",
    "plt.plot(ls_days_of_week, ls_view_LogId111_each_day_box, color='green', label = \"box\")\n",
    "plt.plot(ls_days_of_week, ls_view_LogId111_each_day_smarttv, color='blue', label = \"smarttv\")\n",
    "\n",
    "plt.xticks(rotation=60)\n",
    "plt.grid(linewidth=0.5)\n",
    "plt.legend()\n",
    "plt.title(\"Số lượt xem phim bộ mỗi ngày trên từng thiết bị\")\n"
   ]
  },
  {
   "cell_type": "code",
   "execution_count": 17,
   "metadata": {},
   "outputs": [
    {
     "name": "stderr",
     "output_type": "stream",
     "text": [
      "0it [00:00, ?it/s]"
     ]
    },
    {
     "name": "stdout",
     "output_type": "stream",
     "text": [
      "day:\t 2022-12-01\n"
     ]
    },
    {
     "name": "stderr",
     "output_type": "stream",
     "text": [
      "1it [00:10, 10.17s/it]                                                          "
     ]
    },
    {
     "name": "stdout",
     "output_type": "stream",
     "text": [
      "day:\t 2022-12-02\n"
     ]
    },
    {
     "name": "stderr",
     "output_type": "stream",
     "text": [
      "2it [00:20, 10.07s/it]"
     ]
    },
    {
     "name": "stdout",
     "output_type": "stream",
     "text": [
      "day:\t 2022-12-03\n"
     ]
    },
    {
     "name": "stderr",
     "output_type": "stream",
     "text": [
      "3it [00:41, 15.05s/it]                                                          "
     ]
    },
    {
     "name": "stdout",
     "output_type": "stream",
     "text": [
      "day:\t 2022-12-04\n"
     ]
    },
    {
     "name": "stderr",
     "output_type": "stream",
     "text": [
      "4it [00:53, 13.81s/it]                                                          "
     ]
    },
    {
     "name": "stdout",
     "output_type": "stream",
     "text": [
      "day:\t 2022-12-05\n"
     ]
    },
    {
     "name": "stderr",
     "output_type": "stream",
     "text": [
      "5it [01:04, 12.81s/it]"
     ]
    },
    {
     "name": "stdout",
     "output_type": "stream",
     "text": [
      "day:\t 2022-12-06\n"
     ]
    },
    {
     "name": "stderr",
     "output_type": "stream",
     "text": [
      "6it [01:14, 12.06s/it]"
     ]
    },
    {
     "name": "stdout",
     "output_type": "stream",
     "text": [
      "day:\t 2022-12-07\n"
     ]
    },
    {
     "name": "stderr",
     "output_type": "stream",
     "text": [
      "7it [01:25, 11.62s/it]                                                          "
     ]
    },
    {
     "name": "stdout",
     "output_type": "stream",
     "text": [
      "day:\t 2022-12-08\n"
     ]
    },
    {
     "name": "stderr",
     "output_type": "stream",
     "text": [
      "8it [01:36, 11.34s/it]"
     ]
    },
    {
     "name": "stdout",
     "output_type": "stream",
     "text": [
      "day:\t 2022-12-09\n"
     ]
    },
    {
     "name": "stderr",
     "output_type": "stream",
     "text": [
      "9it [01:56, 14.12s/it]                                                          "
     ]
    },
    {
     "name": "stdout",
     "output_type": "stream",
     "text": [
      "day:\t 2022-12-10\n"
     ]
    },
    {
     "name": "stderr",
     "output_type": "stream",
     "text": [
      "10it [02:06, 12.91s/it]"
     ]
    },
    {
     "name": "stdout",
     "output_type": "stream",
     "text": [
      "day:\t 2022-12-11\n"
     ]
    },
    {
     "name": "stderr",
     "output_type": "stream",
     "text": [
      "11it [02:16, 12.08s/it]                                                         "
     ]
    },
    {
     "name": "stdout",
     "output_type": "stream",
     "text": [
      "day:\t 2022-12-12\n"
     ]
    },
    {
     "name": "stderr",
     "output_type": "stream",
     "text": [
      "12it [02:26, 11.48s/it]"
     ]
    },
    {
     "name": "stdout",
     "output_type": "stream",
     "text": [
      "day:\t 2022-12-13\n"
     ]
    },
    {
     "name": "stderr",
     "output_type": "stream",
     "text": [
      "13it [02:36, 11.00s/it]                                                         "
     ]
    },
    {
     "name": "stdout",
     "output_type": "stream",
     "text": [
      "day:\t 2022-12-14\n"
     ]
    },
    {
     "name": "stderr",
     "output_type": "stream",
     "text": [
      "14it [02:56, 13.62s/it]                                                         "
     ]
    },
    {
     "name": "stdout",
     "output_type": "stream",
     "text": [
      "day:\t 2022-12-15\n"
     ]
    },
    {
     "name": "stderr",
     "output_type": "stream",
     "text": [
      "15it [03:06, 12.48s/it]                                                         "
     ]
    },
    {
     "name": "stdout",
     "output_type": "stream",
     "text": [
      "day:\t 2022-12-16\n"
     ]
    },
    {
     "name": "stderr",
     "output_type": "stream",
     "text": [
      "16it [03:15, 11.46s/it]"
     ]
    },
    {
     "name": "stdout",
     "output_type": "stream",
     "text": [
      "day:\t 2022-12-17\n"
     ]
    },
    {
     "name": "stderr",
     "output_type": "stream",
     "text": [
      "17it [03:25, 11.11s/it]                                                         "
     ]
    },
    {
     "name": "stdout",
     "output_type": "stream",
     "text": [
      "day:\t 2022-12-18\n"
     ]
    },
    {
     "name": "stderr",
     "output_type": "stream",
     "text": [
      "18it [03:34, 10.44s/it]"
     ]
    },
    {
     "name": "stdout",
     "output_type": "stream",
     "text": [
      "day:\t 2022-12-19\n"
     ]
    },
    {
     "name": "stderr",
     "output_type": "stream",
     "text": [
      "19it [03:42,  9.83s/it]"
     ]
    },
    {
     "name": "stdout",
     "output_type": "stream",
     "text": [
      "day:\t 2022-12-20\n"
     ]
    },
    {
     "name": "stderr",
     "output_type": "stream",
     "text": [
      "20it [03:51,  9.55s/it]                                                         "
     ]
    },
    {
     "name": "stdout",
     "output_type": "stream",
     "text": [
      "day:\t 2022-12-21\n"
     ]
    },
    {
     "name": "stderr",
     "output_type": "stream",
     "text": [
      "21it [04:11, 12.61s/it]                                                         "
     ]
    },
    {
     "name": "stdout",
     "output_type": "stream",
     "text": [
      "day:\t 2022-12-22\n"
     ]
    },
    {
     "name": "stderr",
     "output_type": "stream",
     "text": [
      "22it [04:21, 11.65s/it]"
     ]
    },
    {
     "name": "stdout",
     "output_type": "stream",
     "text": [
      "day:\t 2022-12-23\n"
     ]
    },
    {
     "name": "stderr",
     "output_type": "stream",
     "text": [
      "23it [04:30, 10.85s/it]                                                         "
     ]
    },
    {
     "name": "stdout",
     "output_type": "stream",
     "text": [
      "day:\t 2022-12-24\n"
     ]
    },
    {
     "name": "stderr",
     "output_type": "stream",
     "text": [
      "24it [04:39, 10.48s/it]"
     ]
    },
    {
     "name": "stdout",
     "output_type": "stream",
     "text": [
      "day:\t 2022-12-25\n"
     ]
    },
    {
     "name": "stderr",
     "output_type": "stream",
     "text": [
      "25it [04:49, 10.31s/it]"
     ]
    },
    {
     "name": "stdout",
     "output_type": "stream",
     "text": [
      "day:\t 2022-12-26\n"
     ]
    },
    {
     "name": "stderr",
     "output_type": "stream",
     "text": [
      "26it [05:00, 10.39s/it]                                                         "
     ]
    },
    {
     "name": "stdout",
     "output_type": "stream",
     "text": [
      "day:\t 2022-12-27\n"
     ]
    },
    {
     "name": "stderr",
     "output_type": "stream",
     "text": [
      "27it [05:20, 13.42s/it]                                                         "
     ]
    },
    {
     "name": "stdout",
     "output_type": "stream",
     "text": [
      "day:\t 2022-12-28\n"
     ]
    },
    {
     "name": "stderr",
     "output_type": "stream",
     "text": [
      "28it [05:31, 12.62s/it]"
     ]
    },
    {
     "name": "stdout",
     "output_type": "stream",
     "text": [
      "day:\t 2022-12-29\n"
     ]
    },
    {
     "name": "stderr",
     "output_type": "stream",
     "text": [
      "29it [05:43, 12.34s/it]                                                         "
     ]
    },
    {
     "name": "stdout",
     "output_type": "stream",
     "text": [
      "day:\t 2022-12-30\n"
     ]
    },
    {
     "name": "stderr",
     "output_type": "stream",
     "text": [
      "30it [05:54, 12.00s/it]"
     ]
    },
    {
     "name": "stdout",
     "output_type": "stream",
     "text": [
      "day:\t 2022-12-31\n"
     ]
    },
    {
     "name": "stderr",
     "output_type": "stream",
     "text": [
      "31it [06:03, 11.73s/it]\n",
      "0it [00:00, ?it/s]"
     ]
    },
    {
     "name": "stdout",
     "output_type": "stream",
     "text": [
      "day:\t 2022-12-01\n"
     ]
    },
    {
     "name": "stderr",
     "output_type": "stream",
     "text": [
      "1it [00:10, 10.60s/it]                                                          "
     ]
    },
    {
     "name": "stdout",
     "output_type": "stream",
     "text": [
      "day:\t 2022-12-02\n"
     ]
    },
    {
     "name": "stderr",
     "output_type": "stream",
     "text": [
      "2it [00:30, 16.07s/it]                                                          "
     ]
    },
    {
     "name": "stdout",
     "output_type": "stream",
     "text": [
      "day:\t 2022-12-03\n"
     ]
    },
    {
     "name": "stderr",
     "output_type": "stream",
     "text": [
      "3it [00:41, 13.81s/it]"
     ]
    },
    {
     "name": "stdout",
     "output_type": "stream",
     "text": [
      "day:\t 2022-12-04\n"
     ]
    },
    {
     "name": "stderr",
     "output_type": "stream",
     "text": [
      "4it [00:53, 12.96s/it]                                                          "
     ]
    },
    {
     "name": "stdout",
     "output_type": "stream",
     "text": [
      "day:\t 2022-12-05\n"
     ]
    },
    {
     "name": "stderr",
     "output_type": "stream",
     "text": [
      "5it [01:03, 12.06s/it]"
     ]
    },
    {
     "name": "stdout",
     "output_type": "stream",
     "text": [
      "day:\t 2022-12-06\n"
     ]
    },
    {
     "name": "stderr",
     "output_type": "stream",
     "text": [
      "6it [01:14, 11.76s/it]                                                          "
     ]
    },
    {
     "name": "stdout",
     "output_type": "stream",
     "text": [
      "day:\t 2022-12-07\n"
     ]
    },
    {
     "name": "stderr",
     "output_type": "stream",
     "text": [
      "7it [01:34, 14.34s/it]                                                          "
     ]
    },
    {
     "name": "stdout",
     "output_type": "stream",
     "text": [
      "day:\t 2022-12-08\n"
     ]
    },
    {
     "name": "stderr",
     "output_type": "stream",
     "text": [
      "8it [01:43, 12.74s/it]"
     ]
    },
    {
     "name": "stdout",
     "output_type": "stream",
     "text": [
      "day:\t 2022-12-09\n"
     ]
    },
    {
     "name": "stderr",
     "output_type": "stream",
     "text": [
      "9it [01:54, 11.96s/it]                                                          "
     ]
    },
    {
     "name": "stdout",
     "output_type": "stream",
     "text": [
      "day:\t 2022-12-10\n"
     ]
    },
    {
     "name": "stderr",
     "output_type": "stream",
     "text": [
      "10it [02:03, 11.24s/it]"
     ]
    },
    {
     "name": "stdout",
     "output_type": "stream",
     "text": [
      "day:\t 2022-12-11\n"
     ]
    },
    {
     "name": "stderr",
     "output_type": "stream",
     "text": [
      "11it [02:13, 10.70s/it]"
     ]
    },
    {
     "name": "stdout",
     "output_type": "stream",
     "text": [
      "day:\t 2022-12-12\n"
     ]
    },
    {
     "name": "stderr",
     "output_type": "stream",
     "text": [
      "12it [02:23, 10.45s/it]                                                         "
     ]
    },
    {
     "name": "stdout",
     "output_type": "stream",
     "text": [
      "day:\t 2022-12-13\n"
     ]
    },
    {
     "name": "stderr",
     "output_type": "stream",
     "text": [
      "13it [02:31,  9.81s/it]"
     ]
    },
    {
     "name": "stdout",
     "output_type": "stream",
     "text": [
      "day:\t 2022-12-14\n"
     ]
    },
    {
     "name": "stderr",
     "output_type": "stream",
     "text": [
      "14it [02:50, 12.63s/it]                                                         "
     ]
    },
    {
     "name": "stdout",
     "output_type": "stream",
     "text": [
      "day:\t 2022-12-15\n"
     ]
    },
    {
     "name": "stderr",
     "output_type": "stream",
     "text": [
      "15it [03:00, 11.74s/it]                                                         "
     ]
    },
    {
     "name": "stdout",
     "output_type": "stream",
     "text": [
      "day:\t 2022-12-16\n"
     ]
    },
    {
     "name": "stderr",
     "output_type": "stream",
     "text": [
      "16it [03:10, 11.26s/it]"
     ]
    },
    {
     "name": "stdout",
     "output_type": "stream",
     "text": [
      "day:\t 2022-12-17\n"
     ]
    },
    {
     "name": "stderr",
     "output_type": "stream",
     "text": [
      "17it [03:20, 10.88s/it]"
     ]
    },
    {
     "name": "stdout",
     "output_type": "stream",
     "text": [
      "day:\t 2022-12-18\n"
     ]
    },
    {
     "name": "stderr",
     "output_type": "stream",
     "text": [
      "18it [03:29, 10.37s/it]                                                         "
     ]
    },
    {
     "name": "stdout",
     "output_type": "stream",
     "text": [
      "day:\t 2022-12-19\n"
     ]
    },
    {
     "name": "stderr",
     "output_type": "stream",
     "text": [
      "19it [03:39, 10.23s/it]"
     ]
    },
    {
     "name": "stdout",
     "output_type": "stream",
     "text": [
      "day:\t 2022-12-20\n"
     ]
    },
    {
     "name": "stderr",
     "output_type": "stream",
     "text": [
      "20it [03:59, 13.18s/it]                                                         "
     ]
    },
    {
     "name": "stdout",
     "output_type": "stream",
     "text": [
      "day:\t 2022-12-21\n"
     ]
    },
    {
     "name": "stderr",
     "output_type": "stream",
     "text": [
      "21it [04:10, 12.65s/it]                                                         "
     ]
    },
    {
     "name": "stdout",
     "output_type": "stream",
     "text": [
      "day:\t 2022-12-22\n"
     ]
    },
    {
     "name": "stderr",
     "output_type": "stream",
     "text": [
      "22it [04:21, 11.96s/it]"
     ]
    },
    {
     "name": "stdout",
     "output_type": "stream",
     "text": [
      "day:\t 2022-12-23\n"
     ]
    },
    {
     "name": "stderr",
     "output_type": "stream",
     "text": [
      "23it [04:31, 11.53s/it]"
     ]
    },
    {
     "name": "stdout",
     "output_type": "stream",
     "text": [
      "day:\t 2022-12-24\n"
     ]
    },
    {
     "name": "stderr",
     "output_type": "stream",
     "text": [
      "24it [04:43, 11.71s/it]                                                         "
     ]
    },
    {
     "name": "stdout",
     "output_type": "stream",
     "text": [
      "day:\t 2022-12-25\n"
     ]
    },
    {
     "name": "stderr",
     "output_type": "stream",
     "text": [
      "25it [05:04, 14.25s/it]                                                         "
     ]
    },
    {
     "name": "stdout",
     "output_type": "stream",
     "text": [
      "day:\t 2022-12-26\n"
     ]
    },
    {
     "name": "stderr",
     "output_type": "stream",
     "text": [
      "26it [05:14, 13.07s/it]                                                         "
     ]
    },
    {
     "name": "stdout",
     "output_type": "stream",
     "text": [
      "day:\t 2022-12-27\n"
     ]
    },
    {
     "name": "stderr",
     "output_type": "stream",
     "text": [
      "27it [05:24, 12.13s/it]"
     ]
    },
    {
     "name": "stdout",
     "output_type": "stream",
     "text": [
      "day:\t 2022-12-28\n"
     ]
    },
    {
     "name": "stderr",
     "output_type": "stream",
     "text": [
      "28it [05:34, 11.40s/it]"
     ]
    },
    {
     "name": "stdout",
     "output_type": "stream",
     "text": [
      "day:\t 2022-12-29\n"
     ]
    },
    {
     "name": "stderr",
     "output_type": "stream",
     "text": [
      "29it [05:44, 11.08s/it]                                                         "
     ]
    },
    {
     "name": "stdout",
     "output_type": "stream",
     "text": [
      "day:\t 2022-12-30\n"
     ]
    },
    {
     "name": "stderr",
     "output_type": "stream",
     "text": [
      "30it [05:54, 10.76s/it]"
     ]
    },
    {
     "name": "stdout",
     "output_type": "stream",
     "text": [
      "day:\t 2022-12-31\n"
     ]
    },
    {
     "name": "stderr",
     "output_type": "stream",
     "text": [
      "31it [06:14, 12.07s/it]                                                         \n",
      "0it [00:00, ?it/s]"
     ]
    },
    {
     "name": "stdout",
     "output_type": "stream",
     "text": [
      "day:\t 2022-12-01\n"
     ]
    },
    {
     "name": "stderr",
     "output_type": "stream",
     "text": [
      "1it [00:08,  8.69s/it]                                                          "
     ]
    },
    {
     "name": "stdout",
     "output_type": "stream",
     "text": [
      "day:\t 2022-12-02\n"
     ]
    },
    {
     "name": "stderr",
     "output_type": "stream",
     "text": [
      "2it [00:17,  8.93s/it]"
     ]
    },
    {
     "name": "stdout",
     "output_type": "stream",
     "text": [
      "day:\t 2022-12-03\n"
     ]
    },
    {
     "name": "stderr",
     "output_type": "stream",
     "text": [
      "3it [00:26,  8.79s/it]"
     ]
    },
    {
     "name": "stdout",
     "output_type": "stream",
     "text": [
      "day:\t 2022-12-04\n"
     ]
    },
    {
     "name": "stderr",
     "output_type": "stream",
     "text": [
      "4it [00:35,  8.93s/it]                                                          "
     ]
    },
    {
     "name": "stdout",
     "output_type": "stream",
     "text": [
      "day:\t 2022-12-05\n"
     ]
    },
    {
     "name": "stderr",
     "output_type": "stream",
     "text": [
      "5it [00:43,  8.70s/it]"
     ]
    },
    {
     "name": "stdout",
     "output_type": "stream",
     "text": [
      "day:\t 2022-12-06\n"
     ]
    },
    {
     "name": "stderr",
     "output_type": "stream",
     "text": [
      "6it [00:52,  8.69s/it]"
     ]
    },
    {
     "name": "stdout",
     "output_type": "stream",
     "text": [
      "day:\t 2022-12-07\n"
     ]
    },
    {
     "name": "stderr",
     "output_type": "stream",
     "text": [
      "7it [01:11, 12.05s/it]                                                          "
     ]
    },
    {
     "name": "stdout",
     "output_type": "stream",
     "text": [
      "day:\t 2022-12-08\n"
     ]
    },
    {
     "name": "stderr",
     "output_type": "stream",
     "text": [
      "8it [01:20, 11.11s/it]"
     ]
    },
    {
     "name": "stdout",
     "output_type": "stream",
     "text": [
      "day:\t 2022-12-09\n"
     ]
    },
    {
     "name": "stderr",
     "output_type": "stream",
     "text": [
      "9it [01:29, 10.57s/it]"
     ]
    },
    {
     "name": "stdout",
     "output_type": "stream",
     "text": [
      "day:\t 2022-12-10\n"
     ]
    },
    {
     "name": "stderr",
     "output_type": "stream",
     "text": [
      "10it [01:39, 10.29s/it]                                                         "
     ]
    },
    {
     "name": "stdout",
     "output_type": "stream",
     "text": [
      "day:\t 2022-12-11\n"
     ]
    },
    {
     "name": "stderr",
     "output_type": "stream",
     "text": [
      "11it [01:49, 10.06s/it]"
     ]
    },
    {
     "name": "stdout",
     "output_type": "stream",
     "text": [
      "day:\t 2022-12-12\n"
     ]
    },
    {
     "name": "stderr",
     "output_type": "stream",
     "text": [
      "12it [01:58,  9.92s/it]"
     ]
    },
    {
     "name": "stdout",
     "output_type": "stream",
     "text": [
      "day:\t 2022-12-13\n"
     ]
    },
    {
     "name": "stderr",
     "output_type": "stream",
     "text": [
      "13it [02:19, 13.17s/it]                                                         "
     ]
    },
    {
     "name": "stdout",
     "output_type": "stream",
     "text": [
      "day:\t 2022-12-14\n"
     ]
    },
    {
     "name": "stderr",
     "output_type": "stream",
     "text": [
      "14it [02:30, 12.54s/it]"
     ]
    },
    {
     "name": "stdout",
     "output_type": "stream",
     "text": [
      "day:\t 2022-12-15\n"
     ]
    },
    {
     "name": "stderr",
     "output_type": "stream",
     "text": [
      "15it [02:40, 11.92s/it]"
     ]
    },
    {
     "name": "stdout",
     "output_type": "stream",
     "text": [
      "day:\t 2022-12-16\n"
     ]
    },
    {
     "name": "stderr",
     "output_type": "stream",
     "text": [
      "16it [02:51, 11.45s/it]                                                         "
     ]
    },
    {
     "name": "stdout",
     "output_type": "stream",
     "text": [
      "day:\t 2022-12-17\n"
     ]
    },
    {
     "name": "stderr",
     "output_type": "stream",
     "text": [
      "17it [03:01, 10.99s/it]"
     ]
    },
    {
     "name": "stdout",
     "output_type": "stream",
     "text": [
      "day:\t 2022-12-18\n"
     ]
    },
    {
     "name": "stderr",
     "output_type": "stream",
     "text": [
      "18it [03:11, 10.74s/it]                                                         "
     ]
    },
    {
     "name": "stdout",
     "output_type": "stream",
     "text": [
      "day:\t 2022-12-19\n"
     ]
    },
    {
     "name": "stderr",
     "output_type": "stream",
     "text": [
      "19it [03:31, 13.53s/it]                                                         "
     ]
    },
    {
     "name": "stdout",
     "output_type": "stream",
     "text": [
      "day:\t 2022-12-20\n"
     ]
    },
    {
     "name": "stderr",
     "output_type": "stream",
     "text": [
      "20it [03:40, 12.28s/it]"
     ]
    },
    {
     "name": "stdout",
     "output_type": "stream",
     "text": [
      "day:\t 2022-12-21\n"
     ]
    },
    {
     "name": "stderr",
     "output_type": "stream",
     "text": [
      "21it [03:51, 11.73s/it]                                                         "
     ]
    },
    {
     "name": "stdout",
     "output_type": "stream",
     "text": [
      "day:\t 2022-12-22\n"
     ]
    },
    {
     "name": "stderr",
     "output_type": "stream",
     "text": [
      "22it [04:02, 11.51s/it]"
     ]
    },
    {
     "name": "stdout",
     "output_type": "stream",
     "text": [
      "day:\t 2022-12-23\n"
     ]
    },
    {
     "name": "stderr",
     "output_type": "stream",
     "text": [
      "23it [04:12, 11.22s/it]"
     ]
    },
    {
     "name": "stdout",
     "output_type": "stream",
     "text": [
      "day:\t 2022-12-24\n"
     ]
    },
    {
     "name": "stderr",
     "output_type": "stream",
     "text": [
      "24it [04:24, 11.31s/it]                                                         "
     ]
    },
    {
     "name": "stdout",
     "output_type": "stream",
     "text": [
      "day:\t 2022-12-25\n"
     ]
    },
    {
     "name": "stderr",
     "output_type": "stream",
     "text": [
      "25it [04:44, 14.02s/it]                                                         "
     ]
    },
    {
     "name": "stdout",
     "output_type": "stream",
     "text": [
      "day:\t 2022-12-26\n"
     ]
    },
    {
     "name": "stderr",
     "output_type": "stream",
     "text": [
      "26it [04:55, 13.03s/it]"
     ]
    },
    {
     "name": "stdout",
     "output_type": "stream",
     "text": [
      "day:\t 2022-12-27\n"
     ]
    },
    {
     "name": "stderr",
     "output_type": "stream",
     "text": [
      "27it [05:07, 12.60s/it]                                                         "
     ]
    },
    {
     "name": "stdout",
     "output_type": "stream",
     "text": [
      "day:\t 2022-12-28\n"
     ]
    },
    {
     "name": "stderr",
     "output_type": "stream",
     "text": [
      "28it [05:17, 12.12s/it]"
     ]
    },
    {
     "name": "stdout",
     "output_type": "stream",
     "text": [
      "day:\t 2022-12-29\n"
     ]
    },
    {
     "name": "stderr",
     "output_type": "stream",
     "text": [
      "29it [05:29, 11.84s/it]"
     ]
    },
    {
     "name": "stdout",
     "output_type": "stream",
     "text": [
      "day:\t 2022-12-30\n"
     ]
    },
    {
     "name": "stderr",
     "output_type": "stream",
     "text": [
      "30it [05:50, 14.74s/it]                                                         "
     ]
    },
    {
     "name": "stdout",
     "output_type": "stream",
     "text": [
      "day:\t 2022-12-31\n"
     ]
    },
    {
     "name": "stderr",
     "output_type": "stream",
     "text": [
      "31it [06:01, 11.65s/it]\n"
     ]
    }
   ],
   "source": [
    "# Xem xét trong mỗi ngày, vào mỗi khung giờ có bao nhiêu lượt xem\n",
    "\n",
    "def convert_to_2_chars(x, prefix = \"0\"):\n",
    "    if len(str(x)) > 1:\n",
    "        return str(x)\n",
    "    else:\n",
    "        return prefix + str(x)\n",
    "\n",
    "# _mobile\n",
    "dict_view_by_hour_each_day_mobile = dict()\n",
    "for day in ls_day:\n",
    "    sub_dict_mobile = {convert_to_2_chars(h):0 for h in range(0,24)}\n",
    "    dict_view_by_hour_each_day_mobile.update({day:sub_dict_mobile})\n",
    "\n",
    "for day, path_hdfs_1_day_mobile in tqdm(zip(ls_day, path_hdfs_mobile)):\n",
    "    print(\"day:\\t\", day)\n",
    "    df_mobile = spark.read.orc(path_hdfs_1_day_mobile)\n",
    "    df_mobile = df_mobile.filter(lower(col('AppName')) == \"phim bộ\")\n",
    "    for h in range(0,24):\n",
    "        sub_df_mobile = df_mobile.filter(hour(col(\"playing_session\")) == h)\n",
    "        sub_df_count_mobile = sub_df_mobile.count()\n",
    "        dict_view_by_hour_each_day_mobile[day][convert_to_2_chars(h)] += sub_df_count_mobile\n",
    "\n",
    "# _box\n",
    "dict_view_by_hour_each_day_box = dict()\n",
    "for day in ls_day:\n",
    "    sub_dict_box = {convert_to_2_chars(h):0 for h in range(0,24)}\n",
    "    dict_view_by_hour_each_day_box.update({day:sub_dict_box})\n",
    "\n",
    "for day, path_hdfs_1_day_box in tqdm(zip(ls_day, path_hdfs_box)):\n",
    "    print(\"day:\\t\", day)\n",
    "    df_box = spark.read.orc(path_hdfs_1_day_box)\n",
    "    df_box = df_box.filter(lower(col('AppName')) == \"phim bộ\")\n",
    "    for h in range(0,24):\n",
    "        sub_df_box = df_box.filter(hour(col(\"playing_session\")) == h)\n",
    "        sub_df_count_box = sub_df_box.count()\n",
    "        dict_view_by_hour_each_day_box[day][convert_to_2_chars(h)] += sub_df_count_box\n",
    "\n",
    "# _smarttv\n",
    "dict_view_by_hour_each_day_smarttv = dict()\n",
    "for day in ls_day:\n",
    "    sub_dict_smarttv = {convert_to_2_chars(h):0 for h in range(0,24)}\n",
    "    dict_view_by_hour_each_day_smarttv.update({day:sub_dict_smarttv})\n",
    "\n",
    "for day, path_hdfs_1_day_smarttv in tqdm(zip(ls_day, path_hdfs_smarttv)):\n",
    "    print(\"day:\\t\", day)\n",
    "    df_smarttv = spark.read.orc(path_hdfs_1_day_smarttv)\n",
    "    df_smarttv = df_smarttv.filter(lower(col('AppName')) == \"phim bộ\")\n",
    "    for h in range(0,24):\n",
    "        sub_df_smarttv = df_smarttv.filter(hour(col(\"playing_session\")) == h)\n",
    "        sub_df_count_smarttv = sub_df_smarttv.count()\n",
    "        dict_view_by_hour_each_day_smarttv[day][convert_to_2_chars(h)] += sub_df_count_smarttv"
   ]
  },
  {
   "cell_type": "code",
   "execution_count": 18,
   "metadata": {},
   "outputs": [],
   "source": [
    "write_json(r\"{}/{}.json\".format(config.folder_save_json, \"dict_view_by_hour_each_day_mobile\"), dict_view_by_hour_each_day_mobile)\n",
    "write_json(r\"{}/{}.json\".format(config.folder_save_json, \"dict_view_by_hour_each_day_box\"), dict_view_by_hour_each_day_box)\n",
    "write_json(r\"{}/{}.json\".format(config.folder_save_json, \"dict_view_by_hour_each_day_smarttv\"), dict_view_by_hour_each_day_smarttv)"
   ]
  },
  {
   "cell_type": "code",
   "execution_count": 19,
   "metadata": {},
   "outputs": [
    {
     "name": "stdout",
     "output_type": "stream",
     "text": [
      "dict_view_by_hour_each_day_mobile:\t {'2022-12-01': {'00': 1410, '01': 814, '02': 525, '03': 345, '04': 275, '05': 298, '06': 405, '07': 690, '08': 816, '09': 1130, '10': 1144, '11': 1493, '12': 1809, '13': 1497, '14': 1357, '15': 1275, '16': 966, '17': 1239, '18': 1648, '19': 2189, '20': 2690, '21': 3052, '22': 2965, '23': 2653}, '2022-12-02': {'00': 1378, '01': 777, '02': 624, '03': 420, '04': 265, '05': 263, '06': 369, '07': 596, '08': 833, '09': 1059, '10': 1171, '11': 1344, '12': 1681, '13': 1331, '14': 1294, '15': 1267, '16': 1114, '17': 1251, '18': 1611, '19': 2264, '20': 2562, '21': 2900, '22': 3045, '23': 2650}, '2022-12-03': {'00': 1348, '01': 817, '02': 542, '03': 428, '04': 237, '05': 346, '06': 346, '07': 488, '08': 851, '09': 1086, '10': 1250, '11': 1549, '12': 1869, '13': 1868, '14': 1645, '15': 1676, '16': 1457, '17': 1447, '18': 2026, '19': 2417, '20': 2997, '21': 3288, '22': 3194, '23': 2815}, '2022-12-04': {'00': 1561, '01': 913, '02': 615, '03': 474, '04': 322, '05': 358, '06': 473, '07': 750, '08': 995, '09': 1341, '10': 1588, '11': 1747, '12': 2079, '13': 2222, '14': 1925, '15': 1828, '16': 1635, '17': 1472, '18': 1779, '19': 2387, '20': 3125, '21': 3132, '22': 3129, '23': 2701}, '2022-12-05': {'00': 1316, '01': 902, '02': 569, '03': 420, '04': 243, '05': 255, '06': 365, '07': 538, '08': 747, '09': 799, '10': 944, '11': 1092, '12': 1516, '13': 1392, '14': 1362, '15': 1353, '16': 1036, '17': 1188, '18': 1751, '19': 2375, '20': 2826, '21': 3276, '22': 3198, '23': 2655}, '2022-12-06': {'00': 1488, '01': 806, '02': 618, '03': 387, '04': 211, '05': 285, '06': 392, '07': 536, '08': 696, '09': 1000, '10': 1127, '11': 1379, '12': 1751, '13': 1493, '14': 1331, '15': 1266, '16': 1270, '17': 1163, '18': 1476, '19': 1919, '20': 2776, '21': 3173, '22': 3247, '23': 2559}, '2022-12-07': {'00': 1546, '01': 735, '02': 548, '03': 390, '04': 242, '05': 267, '06': 329, '07': 520, '08': 781, '09': 1025, '10': 1097, '11': 1337, '12': 1656, '13': 1423, '14': 1301, '15': 1402, '16': 1180, '17': 1421, '18': 1744, '19': 2204, '20': 3055, '21': 3267, '22': 2802, '23': 2267}, '2022-12-08': {'00': 1117, '01': 598, '02': 395, '03': 361, '04': 243, '05': 267, '06': 358, '07': 479, '08': 831, '09': 1016, '10': 1052, '11': 1362, '12': 1636, '13': 1367, '14': 1252, '15': 1284, '16': 1092, '17': 1191, '18': 1575, '19': 1873, '20': 2371, '21': 2595, '22': 2448, '23': 2062}, '2022-12-09': {'00': 1031, '01': 588, '02': 305, '03': 233, '04': 189, '05': 288, '06': 357, '07': 627, '08': 839, '09': 1096, '10': 1246, '11': 1589, '12': 2023, '13': 1736, '14': 1697, '15': 1430, '16': 1246, '17': 1252, '18': 1885, '19': 2186, '20': 2585, '21': 3122, '22': 3338, '23': 2933}, '2022-12-10': {'00': 1963, '01': 873, '02': 549, '03': 456, '04': 493, '05': 305, '06': 378, '07': 605, '08': 911, '09': 1014, '10': 1223, '11': 1461, '12': 1878, '13': 1796, '14': 1604, '15': 1467, '16': 1266, '17': 1183, '18': 1493, '19': 1939, '20': 2569, '21': 3031, '22': 3632, '23': 3460}, '2022-12-11': {'00': 1739, '01': 1077, '02': 815, '03': 592, '04': 305, '05': 308, '06': 461, '07': 740, '08': 1110, '09': 1357, '10': 1625, '11': 1713, '12': 2135, '13': 1950, '14': 2032, '15': 1824, '16': 1709, '17': 1598, '18': 1962, '19': 2354, '20': 2825, '21': 3157, '22': 2966, '23': 2593}, '2022-12-12': {'00': 1363, '01': 754, '02': 438, '03': 398, '04': 227, '05': 299, '06': 386, '07': 533, '08': 713, '09': 890, '10': 1110, '11': 1275, '12': 1708, '13': 1461, '14': 1299, '15': 1277, '16': 1012, '17': 1241, '18': 1436, '19': 1917, '20': 2415, '21': 2892, '22': 2655, '23': 2036}, '2022-12-13': {'00': 1058, '01': 641, '02': 349, '03': 295, '04': 254, '05': 278, '06': 394, '07': 544, '08': 877, '09': 1048, '10': 1295, '11': 1499, '12': 1778, '13': 1508, '14': 1403, '15': 1325, '16': 1094, '17': 1255, '18': 1522, '19': 2072, '20': 2573, '21': 2977, '22': 2757, '23': 2150}, '2022-12-14': {'00': 1114, '01': 784, '02': 768, '03': 600, '04': 283, '05': 327, '06': 468, '07': 583, '08': 913, '09': 1095, '10': 1145, '11': 1470, '12': 1801, '13': 1583, '14': 1366, '15': 1236, '16': 1015, '17': 1028, '18': 1460, '19': 1838, '20': 2645, '21': 3006, '22': 2630, '23': 2221}, '2022-12-15': {'00': 1145, '01': 695, '02': 758, '03': 569, '04': 307, '05': 337, '06': 434, '07': 579, '08': 823, '09': 928, '10': 1020, '11': 1340, '12': 1719, '13': 1425, '14': 1410, '15': 1204, '16': 1145, '17': 1156, '18': 1533, '19': 2062, '20': 2525, '21': 2769, '22': 2554, '23': 2075}, '2022-12-16': {'00': 1152, '01': 663, '02': 475, '03': 333, '04': 220, '05': 319, '06': 488, '07': 581, '08': 740, '09': 1105, '10': 1223, '11': 1351, '12': 1639, '13': 1422, '14': 1507, '15': 1345, '16': 1109, '17': 1156, '18': 1574, '19': 2162, '20': 2404, '21': 2667, '22': 2587, '23': 2376}, '2022-12-17': {'00': 1280, '01': 826, '02': 476, '03': 328, '04': 260, '05': 284, '06': 380, '07': 545, '08': 788, '09': 908, '10': 1346, '11': 1452, '12': 1708, '13': 1609, '14': 1581, '15': 1509, '16': 1374, '17': 1285, '18': 1690, '19': 2079, '20': 2393, '21': 2931, '22': 3638, '23': 2999}, '2022-12-18': {'00': 1319, '01': 899, '02': 583, '03': 368, '04': 362, '05': 415, '06': 416, '07': 697, '08': 990, '09': 1257, '10': 1435, '11': 1654, '12': 2059, '13': 1928, '14': 1951, '15': 1653, '16': 1498, '17': 1352, '18': 1665, '19': 2099, '20': 2528, '21': 2730, '22': 3614, '23': 3398}, '2022-12-19': {'00': 2899, '01': 1293, '02': 428, '03': 282, '04': 213, '05': 246, '06': 249, '07': 504, '08': 619, '09': 825, '10': 990, '11': 1310, '12': 1638, '13': 1294, '14': 1381, '15': 1254, '16': 1005, '17': 1533, '18': 2140, '19': 2244, '20': 2407, '21': 2646, '22': 2710, '23': 2401}, '2022-12-20': {'00': 1043, '01': 749, '02': 417, '03': 262, '04': 253, '05': 306, '06': 334, '07': 467, '08': 726, '09': 902, '10': 1035, '11': 1276, '12': 1696, '13': 1522, '14': 1277, '15': 1206, '16': 953, '17': 1118, '18': 1506, '19': 1853, '20': 2379, '21': 2805, '22': 2691, '23': 2145}, '2022-12-21': {'00': 1091, '01': 602, '02': 397, '03': 309, '04': 277, '05': 280, '06': 299, '07': 536, '08': 920, '09': 1019, '10': 1110, '11': 1425, '12': 1847, '13': 1575, '14': 1432, '15': 1323, '16': 1195, '17': 1300, '18': 1561, '19': 2127, '20': 2598, '21': 2979, '22': 2875, '23': 2473}, '2022-12-22': {'00': 1277, '01': 761, '02': 410, '03': 276, '04': 235, '05': 276, '06': 424, '07': 547, '08': 727, '09': 970, '10': 1156, '11': 1380, '12': 1566, '13': 1385, '14': 1354, '15': 1280, '16': 998, '17': 1057, '18': 1569, '19': 2079, '20': 2610, '21': 2898, '22': 2847, '23': 2355}, '2022-12-23': {'00': 1131, '01': 723, '02': 460, '03': 274, '04': 201, '05': 246, '06': 380, '07': 524, '08': 836, '09': 846, '10': 1028, '11': 1333, '12': 1635, '13': 1529, '14': 1387, '15': 1220, '16': 1056, '17': 1090, '18': 1312, '19': 1673, '20': 2081, '21': 2671, '22': 2325, '23': 1938}, '2022-12-24': {'00': 1186, '01': 683, '02': 417, '03': 234, '04': 263, '05': 293, '06': 412, '07': 511, '08': 694, '09': 885, '10': 1185, '11': 1292, '12': 1654, '13': 1630, '14': 1525, '15': 1307, '16': 1084, '17': 1124, '18': 1376, '19': 1744, '20': 1919, '21': 2323, '22': 2197, '23': 2048}, '2022-12-25': {'00': 1178, '01': 692, '02': 422, '03': 246, '04': 185, '05': 204, '06': 406, '07': 541, '08': 748, '09': 1074, '10': 1196, '11': 1547, '12': 1848, '13': 1791, '14': 1812, '15': 1558, '16': 1274, '17': 1304, '18': 1593, '19': 1899, '20': 2215, '21': 2469, '22': 2265, '23': 1767}, '2022-12-26': {'00': 944, '01': 623, '02': 416, '03': 326, '04': 278, '05': 305, '06': 348, '07': 429, '08': 675, '09': 925, '10': 967, '11': 1162, '12': 1604, '13': 1361, '14': 1259, '15': 1205, '16': 1030, '17': 1129, '18': 1260, '19': 1717, '20': 2052, '21': 2597, '22': 2187, '23': 1886}, '2022-12-27': {'00': 1084, '01': 714, '02': 412, '03': 225, '04': 257, '05': 246, '06': 322, '07': 585, '08': 841, '09': 1057, '10': 1116, '11': 1243, '12': 1677, '13': 1582, '14': 1392, '15': 1361, '16': 1192, '17': 1298, '18': 1660, '19': 2412, '20': 3089, '21': 3438, '22': 3144, '23': 2914}, '2022-12-28': {'00': 1460, '01': 830, '02': 567, '03': 499, '04': 273, '05': 309, '06': 439, '07': 669, '08': 884, '09': 1408, '10': 1344, '11': 1530, '12': 2009, '13': 1644, '14': 1431, '15': 1225, '16': 1137, '17': 1247, '18': 1544, '19': 2188, '20': 2943, '21': 3050, '22': 3123, '23': 2550}, '2022-12-29': {'00': 1317, '01': 754, '02': 468, '03': 289, '04': 250, '05': 325, '06': 427, '07': 677, '08': 898, '09': 1185, '10': 1193, '11': 1649, '12': 2102, '13': 1727, '14': 1589, '15': 1592, '16': 1319, '17': 1406, '18': 1675, '19': 2220, '20': 2970, '21': 3616, '22': 3344, '23': 2343}, '2022-12-30': {'00': 1265, '01': 982, '02': 525, '03': 366, '04': 344, '05': 385, '06': 533, '07': 545, '08': 766, '09': 1000, '10': 1160, '11': 1356, '12': 1643, '13': 1499, '14': 1319, '15': 1317, '16': 1000, '17': 1187, '18': 1464, '19': 2248, '20': 2991, '21': 3591, '22': 3653, '23': 2916}, '2022-12-31': {'00': 1552, '01': 921, '02': 537, '03': 447, '04': 324, '05': 398, '06': 483, '07': 642, '08': 1016, '09': 1241, '10': 1463, '11': 1658, '12': 2039, '13': 1861, '14': 1874, '15': 1553, '16': 1478, '17': 1266, '18': 1409, '19': 1916, '20': 2399, '21': 2815, '22': 3287, '23': 2895}}\n",
      "dict_view_by_hour_each_day_box:\t {'2022-12-01': {'00': 636, '01': 444, '02': 309, '03': 260, '04': 295, '05': 357, '06': 412, '07': 596, '08': 845, '09': 901, '10': 1052, '11': 1255, '12': 1387, '13': 1342, '14': 1394, '15': 1294, '16': 1200, '17': 1508, '18': 1909, '19': 2182, '20': 2247, '21': 1871, '22': 1138, '23': 992}, '2022-12-02': {'00': 695, '01': 435, '02': 319, '03': 264, '04': 325, '05': 298, '06': 370, '07': 582, '08': 757, '09': 936, '10': 1053, '11': 1205, '12': 1374, '13': 1343, '14': 1336, '15': 1190, '16': 1153, '17': 1350, '18': 1731, '19': 2193, '20': 2435, '21': 2009, '22': 1026, '23': 878}, '2022-12-03': {'00': 611, '01': 450, '02': 273, '03': 241, '04': 274, '05': 327, '06': 423, '07': 601, '08': 773, '09': 921, '10': 1150, '11': 1385, '12': 1516, '13': 1497, '14': 1505, '15': 1443, '16': 1440, '17': 1697, '18': 2043, '19': 2349, '20': 2458, '21': 2095, '22': 1286, '23': 1091}, '2022-12-04': {'00': 750, '01': 497, '02': 321, '03': 288, '04': 321, '05': 374, '06': 472, '07': 672, '08': 964, '09': 1206, '10': 1428, '11': 1564, '12': 1803, '13': 1619, '14': 1655, '15': 1659, '16': 1688, '17': 1787, '18': 1953, '19': 2215, '20': 2489, '21': 2030, '22': 1213, '23': 1064}, '2022-12-05': {'00': 705, '01': 453, '02': 334, '03': 264, '04': 318, '05': 410, '06': 426, '07': 655, '08': 842, '09': 1034, '10': 1147, '11': 975, '12': 1244, '13': 1224, '14': 1195, '15': 1197, '16': 1203, '17': 1546, '18': 1957, '19': 2385, '20': 2606, '21': 2081, '22': 1131, '23': 974}, '2022-12-06': {'00': 553, '01': 396, '02': 271, '03': 235, '04': 279, '05': 317, '06': 400, '07': 568, '08': 731, '09': 907, '10': 1141, '11': 1378, '12': 1529, '13': 1419, '14': 1392, '15': 1314, '16': 1308, '17': 1653, '18': 1938, '19': 2153, '20': 2423, '21': 1897, '22': 1092, '23': 895}, '2022-12-07': {'00': 466, '01': 385, '02': 208, '03': 200, '04': 216, '05': 275, '06': 348, '07': 594, '08': 842, '09': 1005, '10': 1148, '11': 1308, '12': 1557, '13': 1401, '14': 1384, '15': 1430, '16': 1391, '17': 1813, '18': 2225, '19': 2487, '20': 2552, '21': 2159, '22': 1636, '23': 1272}, '2022-12-08': {'00': 680, '01': 485, '02': 447, '03': 387, '04': 418, '05': 440, '06': 531, '07': 686, '08': 870, '09': 1000, '10': 1199, '11': 1428, '12': 1617, '13': 1517, '14': 1326, '15': 1363, '16': 1370, '17': 1582, '18': 1919, '19': 2323, '20': 2440, '21': 2092, '22': 1631, '23': 1531}, '2022-12-09': {'00': 748, '01': 521, '02': 402, '03': 345, '04': 379, '05': 456, '06': 564, '07': 693, '08': 871, '09': 961, '10': 1144, '11': 1468, '12': 1575, '13': 1439, '14': 1425, '15': 1358, '16': 1401, '17': 1671, '18': 1968, '19': 2337, '20': 2555, '21': 2122, '22': 1122, '23': 1073}, '2022-12-10': {'00': 472, '01': 518, '02': 274, '03': 236, '04': 218, '05': 330, '06': 381, '07': 587, '08': 789, '09': 1078, '10': 1191, '11': 1415, '12': 1577, '13': 1467, '14': 1362, '15': 1314, '16': 1433, '17': 1665, '18': 1953, '19': 2170, '20': 2410, '21': 2140, '22': 1242, '23': 955}, '2022-12-11': {'00': 927, '01': 582, '02': 335, '03': 249, '04': 332, '05': 347, '06': 411, '07': 633, '08': 906, '09': 1159, '10': 1365, '11': 1502, '12': 1714, '13': 1656, '14': 1524, '15': 1615, '16': 1603, '17': 1752, '18': 1921, '19': 2316, '20': 2485, '21': 2144, '22': 1614, '23': 1335}, '2022-12-12': {'00': 709, '01': 485, '02': 419, '03': 363, '04': 360, '05': 412, '06': 488, '07': 692, '08': 895, '09': 994, '10': 1131, '11': 1410, '12': 1621, '13': 1482, '14': 1305, '15': 1320, '16': 1327, '17': 1597, '18': 1934, '19': 2302, '20': 2487, '21': 2060, '22': 1505, '23': 1422}, '2022-12-13': {'00': 669, '01': 524, '02': 458, '03': 384, '04': 394, '05': 407, '06': 538, '07': 767, '08': 842, '09': 1097, '10': 1177, '11': 1348, '12': 1488, '13': 1361, '14': 1362, '15': 1266, '16': 1125, '17': 1432, '18': 1703, '19': 2084, '20': 2321, '21': 1916, '22': 1448, '23': 1379}, '2022-12-14': {'00': 691, '01': 507, '02': 304, '03': 233, '04': 302, '05': 350, '06': 341, '07': 576, '08': 778, '09': 970, '10': 1109, '11': 1284, '12': 1510, '13': 1420, '14': 1303, '15': 1171, '16': 1149, '17': 1405, '18': 1642, '19': 2077, '20': 2184, '21': 1916, '22': 1453, '23': 1370}, '2022-12-15': {'00': 735, '01': 480, '02': 314, '03': 236, '04': 276, '05': 316, '06': 416, '07': 555, '08': 798, '09': 845, '10': 1012, '11': 1294, '12': 1565, '13': 1484, '14': 1392, '15': 1290, '16': 1195, '17': 1403, '18': 1729, '19': 2082, '20': 2364, '21': 1923, '22': 1432, '23': 1346}, '2022-12-16': {'00': 661, '01': 508, '02': 387, '03': 341, '04': 317, '05': 395, '06': 479, '07': 633, '08': 851, '09': 999, '10': 1074, '11': 1303, '12': 1388, '13': 1328, '14': 1275, '15': 1291, '16': 1292, '17': 1442, '18': 1851, '19': 2153, '20': 2229, '21': 2138, '22': 1596, '23': 1414}, '2022-12-17': {'00': 670, '01': 495, '02': 392, '03': 332, '04': 290, '05': 364, '06': 465, '07': 725, '08': 860, '09': 935, '10': 1195, '11': 1361, '12': 1467, '13': 1488, '14': 1408, '15': 1527, '16': 1524, '17': 1630, '18': 1865, '19': 2242, '20': 2434, '21': 1948, '22': 1213, '23': 1147}, '2022-12-18': {'00': 851, '01': 521, '02': 392, '03': 338, '04': 329, '05': 339, '06': 449, '07': 649, '08': 905, '09': 1230, '10': 1219, '11': 1397, '12': 1646, '13': 1548, '14': 1517, '15': 1515, '16': 1604, '17': 1663, '18': 1873, '19': 2219, '20': 2401, '21': 1747, '22': 817, '23': 848}, '2022-12-19': {'00': 395, '01': 398, '02': 344, '03': 276, '04': 262, '05': 350, '06': 441, '07': 634, '08': 837, '09': 875, '10': 1001, '11': 1366, '12': 1477, '13': 1501, '14': 1411, '15': 1423, '16': 1245, '17': 1395, '18': 1321, '19': 1383, '20': 1512, '21': 1639, '22': 1351, '23': 1030}, '2022-12-20': {'00': 553, '01': 400, '02': 316, '03': 280, '04': 280, '05': 295, '06': 423, '07': 576, '08': 751, '09': 853, '10': 1038, '11': 1220, '12': 1414, '13': 1478, '14': 1411, '15': 1318, '16': 1204, '17': 1421, '18': 1632, '19': 2057, '20': 2211, '21': 2099, '22': 1539, '23': 1336}, '2022-12-21': {'00': 668, '01': 497, '02': 377, '03': 327, '04': 302, '05': 357, '06': 478, '07': 720, '08': 874, '09': 1154, '10': 1228, '11': 1413, '12': 1536, '13': 1389, '14': 1341, '15': 1229, '16': 1191, '17': 1324, '18': 1577, '19': 1715, '20': 1787, '21': 1900, '22': 1438, '23': 1277}, '2022-12-22': {'00': 580, '01': 415, '02': 344, '03': 301, '04': 321, '05': 357, '06': 431, '07': 656, '08': 816, '09': 989, '10': 1217, '11': 1331, '12': 1472, '13': 1399, '14': 1382, '15': 1290, '16': 1191, '17': 1427, '18': 1821, '19': 2205, '20': 2450, '21': 2134, '22': 1539, '23': 1347}, '2022-12-23': {'00': 641, '01': 427, '02': 321, '03': 308, '04': 292, '05': 371, '06': 514, '07': 623, '08': 820, '09': 968, '10': 1142, '11': 1286, '12': 1483, '13': 1346, '14': 1294, '15': 1223, '16': 1202, '17': 1239, '18': 1644, '19': 2005, '20': 2335, '21': 1854, '22': 1433, '23': 1323}, '2022-12-24': {'00': 586, '01': 394, '02': 295, '03': 300, '04': 341, '05': 348, '06': 462, '07': 691, '08': 856, '09': 952, '10': 1080, '11': 1395, '12': 1550, '13': 1483, '14': 1390, '15': 1303, '16': 1240, '17': 1294, '18': 1444, '19': 1759, '20': 1908, '21': 2065, '22': 1704, '23': 1448}, '2022-12-25': {'00': 780, '01': 553, '02': 438, '03': 380, '04': 359, '05': 409, '06': 472, '07': 714, '08': 917, '09': 1140, '10': 1277, '11': 1404, '12': 1544, '13': 1487, '14': 1453, '15': 1472, '16': 1398, '17': 1640, '18': 1716, '19': 2061, '20': 2257, '21': 1925, '22': 1400, '23': 1288}, '2022-12-26': {'00': 547, '01': 420, '02': 347, '03': 289, '04': 309, '05': 352, '06': 475, '07': 699, '08': 821, '09': 875, '10': 968, '11': 1332, '12': 1474, '13': 1249, '14': 1144, '15': 1154, '16': 1176, '17': 1432, '18': 1720, '19': 2131, '20': 2192, '21': 2099, '22': 1548, '23': 1350}, '2022-12-27': {'00': 701, '01': 522, '02': 414, '03': 377, '04': 352, '05': 431, '06': 562, '07': 710, '08': 922, '09': 988, '10': 1141, '11': 1403, '12': 1568, '13': 1410, '14': 1383, '15': 1327, '16': 1328, '17': 1406, '18': 1606, '19': 1539, '20': 1628, '21': 2045, '22': 1624, '23': 1440}, '2022-12-28': {'00': 675, '01': 502, '02': 402, '03': 359, '04': 394, '05': 412, '06': 520, '07': 789, '08': 1057, '09': 1113, '10': 1177, '11': 1499, '12': 1624, '13': 1532, '14': 1461, '15': 1486, '16': 1511, '17': 1693, '18': 1967, '19': 2444, '20': 2503, '21': 2090, '22': 1549, '23': 1423}, '2022-12-29': {'00': 711, '01': 539, '02': 422, '03': 360, '04': 392, '05': 463, '06': 564, '07': 738, '08': 916, '09': 1035, '10': 1157, '11': 1402, '12': 1586, '13': 1495, '14': 1381, '15': 1387, '16': 1360, '17': 1576, '18': 1798, '19': 2320, '20': 2621, '21': 2271, '22': 1704, '23': 1473}, '2022-12-30': {'00': 756, '01': 591, '02': 468, '03': 410, '04': 410, '05': 427, '06': 511, '07': 653, '08': 909, '09': 958, '10': 1163, '11': 1402, '12': 1482, '13': 1307, '14': 1267, '15': 1312, '16': 1315, '17': 1495, '18': 1623, '19': 1595, '20': 1610, '21': 2150, '22': 1804, '23': 1541}, '2022-12-31': {'00': 758, '01': 511, '02': 411, '03': 383, '04': 365, '05': 373, '06': 522, '07': 715, '08': 866, '09': 1139, '10': 1176, '11': 1436, '12': 1662, '13': 1480, '14': 1457, '15': 1407, '16': 1540, '17': 1638, '18': 1909, '19': 2099, '20': 2368, '21': 2232, '22': 1612, '23': 1533}}\n",
      "dict_view_by_hour_each_day_smarttv:\t {'2022-12-01': {'00': 1228, '01': 1233, '02': 1288, '03': 1320, '04': 1715, '05': 2093, '06': 2000, '07': 2028, '08': 2245, '09': 2300, '10': 2842, '11': 3795, '12': 4483, '13': 4811, '14': 4068, '15': 2866, '16': 2426, '17': 2124, '18': 2301, '19': 2575, '20': 2705, '21': 2385, '22': 1492, '23': 1387}, '2022-12-02': {'00': 1197, '01': 1279, '02': 1327, '03': 1368, '04': 1694, '05': 2074, '06': 1948, '07': 1968, '08': 2124, '09': 2121, '10': 2608, '11': 3547, '12': 4463, '13': 4923, '14': 4291, '15': 2787, '16': 2450, '17': 2088, '18': 2259, '19': 2512, '20': 2688, '21': 2349, '22': 1496, '23': 1393}, '2022-12-03': {'00': 1191, '01': 1305, '02': 1379, '03': 1560, '04': 1764, '05': 2201, '06': 2279, '07': 2294, '08': 2541, '09': 2613, '10': 3135, '11': 3898, '12': 4709, '13': 5197, '14': 4759, '15': 3433, '16': 2953, '17': 2418, '18': 2488, '19': 2674, '20': 2859, '21': 2633, '22': 1664, '23': 1533}, '2022-12-04': {'00': 1291, '01': 1319, '02': 1565, '03': 1775, '04': 2165, '05': 2444, '06': 2420, '07': 2476, '08': 2839, '09': 2974, '10': 3499, '11': 3990, '12': 4574, '13': 5075, '14': 4659, '15': 3450, '16': 2986, '17': 2576, '18': 2466, '19': 2518, '20': 2837, '21': 2572, '22': 1452, '23': 1291}, '2022-12-05': {'00': 1105, '01': 1163, '02': 1146, '03': 1330, '04': 1180, '05': 1680, '06': 1757, '07': 2026, '08': 2077, '09': 1997, '10': 2450, '11': 3108, '12': 4153, '13': 4488, '14': 3796, '15': 2617, '16': 2076, '17': 1947, '18': 2146, '19': 2392, '20': 2785, '21': 2369, '22': 1461, '23': 1268}, '2022-12-06': {'00': 1069, '01': 1178, '02': 1164, '03': 1224, '04': 1629, '05': 1927, '06': 1810, '07': 1898, '08': 2048, '09': 2026, '10': 2417, '11': 3327, '12': 4249, '13': 4490, '14': 3958, '15': 2805, '16': 2231, '17': 1767, '18': 2065, '19': 2374, '20': 2601, '21': 2209, '22': 1397, '23': 1163}, '2022-12-07': {'00': 996, '01': 1158, '02': 1149, '03': 1146, '04': 1505, '05': 1860, '06': 1759, '07': 1941, '08': 2074, '09': 2057, '10': 2349, '11': 3403, '12': 4462, '13': 4556, '14': 4161, '15': 3281, '16': 2736, '17': 1932, '18': 2263, '19': 2435, '20': 2669, '21': 2356, '22': 1772, '23': 1422}, '2022-12-08': {'00': 1139, '01': 1161, '02': 1078, '03': 1227, '04': 1615, '05': 1966, '06': 1868, '07': 1960, '08': 1987, '09': 2098, '10': 2514, '11': 3351, '12': 4166, '13': 4365, '14': 4007, '15': 3163, '16': 2693, '17': 1996, '18': 2155, '19': 2461, '20': 2655, '21': 2406, '22': 1815, '23': 1435}, '2022-12-09': {'00': 1191, '01': 1235, '02': 1326, '03': 1477, '04': 1812, '05': 2190, '06': 2085, '07': 2098, '08': 2222, '09': 2235, '10': 2598, '11': 3606, '12': 4543, '13': 4755, '14': 4208, '15': 2911, '16': 2403, '17': 2057, '18': 2269, '19': 2548, '20': 2851, '21': 2506, '22': 1532, '23': 1295}, '2022-12-10': {'00': 1015, '01': 1336, '02': 1270, '03': 1408, '04': 1776, '05': 1993, '06': 1977, '07': 2061, '08': 2247, '09': 2360, '10': 2599, '11': 3430, '12': 4336, '13': 4862, '14': 4419, '15': 3103, '16': 2736, '17': 2069, '18': 2362, '19': 2520, '20': 2795, '21': 2615, '22': 1640, '23': 1292}, '2022-12-11': {'00': 1389, '01': 1391, '02': 1478, '03': 1637, '04': 2114, '05': 2268, '06': 2231, '07': 2218, '08': 2634, '09': 2759, '10': 3078, '11': 3849, '12': 4462, '13': 5140, '14': 4509, '15': 3823, '16': 3052, '17': 2909, '18': 2637, '19': 2483, '20': 2711, '21': 2542, '22': 1851, '23': 1564}, '2022-12-12': {'00': 996, '01': 1012, '02': 1040, '03': 1123, '04': 1536, '05': 1917, '06': 1824, '07': 1995, '08': 1957, '09': 1961, '10': 2479, '11': 3224, '12': 4069, '13': 4186, '14': 3929, '15': 2933, '16': 2703, '17': 1904, '18': 2091, '19': 2325, '20': 2582, '21': 2183, '22': 1687, '23': 1452}, '2022-12-13': {'00': 1052, '01': 1072, '02': 1070, '03': 1000, '04': 1386, '05': 1659, '06': 1797, '07': 1883, '08': 1922, '09': 1853, '10': 2179, '11': 3009, '12': 3840, '13': 4051, '14': 3730, '15': 3028, '16': 2508, '17': 1842, '18': 1898, '19': 2255, '20': 2375, '21': 2178, '22': 1802, '23': 1565}, '2022-12-14': {'00': 1149, '01': 1134, '02': 1062, '03': 1152, '04': 1584, '05': 1781, '06': 1765, '07': 1797, '08': 1968, '09': 1829, '10': 2249, '11': 2973, '12': 3747, '13': 4074, '14': 3671, '15': 2849, '16': 2473, '17': 1918, '18': 1907, '19': 2143, '20': 2357, '21': 2236, '22': 1613, '23': 1585}, '2022-12-15': {'00': 1189, '01': 1128, '02': 1030, '03': 1146, '04': 1637, '05': 1802, '06': 1754, '07': 1867, '08': 1913, '09': 1912, '10': 2322, '11': 3082, '12': 3738, '13': 4115, '14': 3646, '15': 2742, '16': 2257, '17': 1864, '18': 1972, '19': 2249, '20': 2420, '21': 2290, '22': 1706, '23': 1460}, '2022-12-16': {'00': 988, '01': 1028, '02': 1052, '03': 1165, '04': 1412, '05': 1818, '06': 1714, '07': 1668, '08': 1709, '09': 1774, '10': 2155, '11': 3022, '12': 3898, '13': 4067, '14': 3760, '15': 3004, '16': 2427, '17': 1640, '18': 1896, '19': 2090, '20': 2566, '21': 2372, '22': 1730, '23': 1568}, '2022-12-17': {'00': 1064, '01': 982, '02': 1057, '03': 1243, '04': 1514, '05': 1749, '06': 1819, '07': 1843, '08': 1983, '09': 2217, '10': 2481, '11': 3205, '12': 4100, '13': 4484, '14': 4052, '15': 2878, '16': 2612, '17': 2061, '18': 1977, '19': 2274, '20': 2662, '21': 2395, '22': 1561, '23': 1450}, '2022-12-18': {'00': 1222, '01': 1266, '02': 1314, '03': 1526, '04': 1810, '05': 2054, '06': 1942, '07': 2034, '08': 2258, '09': 2634, '10': 2872, '11': 3452, '12': 4188, '13': 4551, '14': 3857, '15': 2580, '16': 2311, '17': 2269, '18': 2132, '19': 2326, '20': 2474, '21': 2076, '22': 1118, '23': 1117}, '2022-12-19': {'00': 851, '01': 878, '02': 956, '03': 1021, '04': 1371, '05': 1705, '06': 1567, '07': 1581, '08': 1748, '09': 1831, '10': 2248, '11': 2961, '12': 3321, '13': 3315, '14': 3353, '15': 2564, '16': 1900, '17': 1462, '18': 1752, '19': 1687, '20': 1832, '21': 1901, '22': 1534, '23': 1169}, '2022-12-20': {'00': 984, '01': 994, '02': 954, '03': 1097, '04': 1343, '05': 1598, '06': 1460, '07': 1732, '08': 1840, '09': 1761, '10': 1994, '11': 2671, '12': 3508, '13': 3609, '14': 3533, '15': 2827, '16': 2251, '17': 1632, '18': 1766, '19': 2025, '20': 2193, '21': 2201, '22': 1652, '23': 1356}, '2022-12-21': {'00': 978, '01': 995, '02': 1040, '03': 1132, '04': 1403, '05': 1876, '06': 1771, '07': 1743, '08': 1748, '09': 1716, '10': 1910, '11': 2777, '12': 3281, '13': 3277, '14': 3602, '15': 2717, '16': 2289, '17': 1590, '18': 1792, '19': 1922, '20': 2116, '21': 2360, '22': 1690, '23': 1377}, '2022-12-22': {'00': 960, '01': 1056, '02': 1037, '03': 1107, '04': 1227, '05': 1656, '06': 1544, '07': 1649, '08': 1723, '09': 1665, '10': 2057, '11': 2740, '12': 3606, '13': 3807, '14': 3417, '15': 2706, '16': 2157, '17': 1758, '18': 1925, '19': 2101, '20': 2380, '21': 2225, '22': 1712, '23': 1490}, '2022-12-23': {'00': 931, '01': 760, '02': 917, '03': 966, '04': 1211, '05': 1530, '06': 1570, '07': 1562, '08': 1691, '09': 1685, '10': 1998, '11': 2735, '12': 3566, '13': 3707, '14': 3425, '15': 2881, '16': 2209, '17': 1610, '18': 1729, '19': 2089, '20': 2428, '21': 2122, '22': 1636, '23': 1428}, '2022-12-24': {'00': 994, '01': 951, '02': 1027, '03': 1033, '04': 1350, '05': 1515, '06': 1583, '07': 1696, '08': 1849, '09': 2032, '10': 2246, '11': 2674, '12': 3283, '13': 3331, '14': 3505, '15': 3039, '16': 2550, '17': 1694, '18': 1576, '19': 1838, '20': 1977, '21': 2130, '22': 1811, '23': 1542}, '2022-12-25': {'00': 1104, '01': 1080, '02': 1151, '03': 1305, '04': 1497, '05': 1747, '06': 1801, '07': 1907, '08': 2077, '09': 2205, '10': 2546, '11': 3015, '12': 3547, '13': 3898, '14': 3493, '15': 2896, '16': 2411, '17': 1841, '18': 1835, '19': 2051, '20': 2238, '21': 2042, '22': 1647, '23': 1388}, '2022-12-26': {'00': 905, '01': 920, '02': 940, '03': 1012, '04': 1179, '05': 1475, '06': 1470, '07': 1636, '08': 1564, '09': 1640, '10': 2064, '11': 2705, '12': 3467, '13': 3493, '14': 3408, '15': 2740, '16': 2167, '17': 1626, '18': 1810, '19': 2098, '20': 2313, '21': 2237, '22': 1716, '23': 1434}, '2022-12-27': {'00': 1031, '01': 978, '02': 1061, '03': 1159, '04': 1307, '05': 1659, '06': 1563, '07': 1652, '08': 1658, '09': 1717, '10': 2039, '11': 2550, '12': 3047, '13': 3029, '14': 3491, '15': 2821, '16': 2212, '17': 1595, '18': 1710, '19': 1769, '20': 1807, '21': 2102, '22': 1785, '23': 1456}, '2022-12-28': {'00': 1065, '01': 1105, '02': 1074, '03': 1215, '04': 1457, '05': 1731, '06': 1675, '07': 1780, '08': 1762, '09': 1860, '10': 2244, '11': 3002, '12': 3760, '13': 3932, '14': 3557, '15': 2707, '16': 2314, '17': 1820, '18': 1892, '19': 2224, '20': 2404, '21': 2290, '22': 1814, '23': 1535}, '2022-12-29': {'00': 1000, '01': 988, '02': 1014, '03': 1160, '04': 1447, '05': 1900, '06': 1727, '07': 1772, '08': 1918, '09': 1946, '10': 2109, '11': 3012, '12': 3863, '13': 4082, '14': 3656, '15': 3056, '16': 2524, '17': 1690, '18': 1871, '19': 2314, '20': 2601, '21': 2242, '22': 1763, '23': 1503}, '2022-12-30': {'00': 1038, '01': 986, '02': 960, '03': 1025, '04': 1308, '05': 1559, '06': 1615, '07': 1618, '08': 1820, '09': 1821, '10': 2037, '11': 2595, '12': 3092, '13': 3165, '14': 3719, '15': 3326, '16': 2644, '17': 1754, '18': 1865, '19': 1938, '20': 1893, '21': 2388, '22': 2089, '23': 1660}, '2022-12-31': {'00': 1062, '01': 1161, '02': 1190, '03': 1321, '04': 1523, '05': 1935, '06': 1840, '07': 1937, '08': 2162, '09': 2305, '10': 2628, '11': 3103, '12': 3753, '13': 4121, '14': 3886, '15': 3303, '16': 2985, '17': 2232, '18': 2126, '19': 2094, '20': 2347, '21': 2357, '22': 1956, '23': 1771}}\n"
     ]
    }
   ],
   "source": [
    "print(\"dict_view_by_hour_each_day_mobile:\\t\", dict_view_by_hour_each_day_mobile)\n",
    "print(\"dict_view_by_hour_each_day_box:\\t\", dict_view_by_hour_each_day_box)\n",
    "print(\"dict_view_by_hour_each_day_smarttv:\\t\", dict_view_by_hour_each_day_smarttv)"
   ]
  },
  {
   "cell_type": "code",
   "execution_count": 20,
   "metadata": {},
   "outputs": [],
   "source": [
    "# _mobile\n",
    "list_view_by_hour_each_day_mobile = []\n",
    "for day in dict_view_by_hour_each_day_mobile:\n",
    "    list_view_by_hour_each_day_mobile.append(list(dict_view_by_hour_each_day_mobile[day].values()))\n",
    "\n",
    "# _box\n",
    "list_view_by_hour_each_day_box = []\n",
    "for day in dict_view_by_hour_each_day_box:\n",
    "    list_view_by_hour_each_day_box.append(list(dict_view_by_hour_each_day_box[day].values()))\n",
    "\n",
    "# _smarttv\n",
    "list_view_by_hour_each_day_smarttv = []\n",
    "for day in dict_view_by_hour_each_day_smarttv:\n",
    "    list_view_by_hour_each_day_smarttv.append(list(dict_view_by_hour_each_day_smarttv[day].values()))"
   ]
  },
  {
   "cell_type": "code",
   "execution_count": 21,
   "metadata": {},
   "outputs": [],
   "source": [
    "write_json(r\"{}/{}.json\".format(config.folder_save_json, \"list_view_by_hour_each_day_mobile\"), list_view_by_hour_each_day_mobile)\n",
    "write_json(r\"{}/{}.json\".format(config.folder_save_json, \"list_view_by_hour_each_day_box\"), list_view_by_hour_each_day_box)\n",
    "write_json(r\"{}/{}.json\".format(config.folder_save_json, \"list_view_by_hour_each_day_smarttv\"), list_view_by_hour_each_day_smarttv)"
   ]
  },
  {
   "cell_type": "code",
   "execution_count": 22,
   "metadata": {},
   "outputs": [],
   "source": [
    "def convert_num_to_K_or_M(list_num_2d, type_unit = \"K\"):\n",
    "    new_list_num_2d = []\n",
    "    for i in range(len(list_num_2d)):\n",
    "        row = []\n",
    "        for j in range(len(list_num_2d[0])):\n",
    "            if type_unit == \"K\":\n",
    "                row.append(str(list_num_2d[i][j]/1000) + type_unit)\n",
    "            else:\n",
    "                row.append(str(list_num_2d[i][j]/1000000) + type_unit)\n",
    "        new_list_num_2d.append(row)\n",
    "    return new_list_num_2d"
   ]
  },
  {
   "cell_type": "code",
   "execution_count": 23,
   "metadata": {},
   "outputs": [
    {
     "data": {
      "text/plain": [
       "[['1.41K',\n",
       "  '0.814K',\n",
       "  '0.525K',\n",
       "  '0.345K',\n",
       "  '0.275K',\n",
       "  '0.298K',\n",
       "  '0.405K',\n",
       "  '0.69K',\n",
       "  '0.816K',\n",
       "  '1.13K',\n",
       "  '1.144K',\n",
       "  '1.493K',\n",
       "  '1.809K',\n",
       "  '1.497K',\n",
       "  '1.357K',\n",
       "  '1.275K',\n",
       "  '0.966K',\n",
       "  '1.239K',\n",
       "  '1.648K',\n",
       "  '2.189K',\n",
       "  '2.69K',\n",
       "  '3.052K',\n",
       "  '2.965K',\n",
       "  '2.653K'],\n",
       " ['1.378K',\n",
       "  '0.777K',\n",
       "  '0.624K',\n",
       "  '0.42K',\n",
       "  '0.265K',\n",
       "  '0.263K',\n",
       "  '0.369K',\n",
       "  '0.596K',\n",
       "  '0.833K',\n",
       "  '1.059K',\n",
       "  '1.171K',\n",
       "  '1.344K',\n",
       "  '1.681K',\n",
       "  '1.331K',\n",
       "  '1.294K',\n",
       "  '1.267K',\n",
       "  '1.114K',\n",
       "  '1.251K',\n",
       "  '1.611K',\n",
       "  '2.264K',\n",
       "  '2.562K',\n",
       "  '2.9K',\n",
       "  '3.045K',\n",
       "  '2.65K'],\n",
       " ['1.348K',\n",
       "  '0.817K',\n",
       "  '0.542K',\n",
       "  '0.428K',\n",
       "  '0.237K',\n",
       "  '0.346K',\n",
       "  '0.346K',\n",
       "  '0.488K',\n",
       "  '0.851K',\n",
       "  '1.086K',\n",
       "  '1.25K',\n",
       "  '1.549K',\n",
       "  '1.869K',\n",
       "  '1.868K',\n",
       "  '1.645K',\n",
       "  '1.676K',\n",
       "  '1.457K',\n",
       "  '1.447K',\n",
       "  '2.026K',\n",
       "  '2.417K',\n",
       "  '2.997K',\n",
       "  '3.288K',\n",
       "  '3.194K',\n",
       "  '2.815K'],\n",
       " ['1.561K',\n",
       "  '0.913K',\n",
       "  '0.615K',\n",
       "  '0.474K',\n",
       "  '0.322K',\n",
       "  '0.358K',\n",
       "  '0.473K',\n",
       "  '0.75K',\n",
       "  '0.995K',\n",
       "  '1.341K',\n",
       "  '1.588K',\n",
       "  '1.747K',\n",
       "  '2.079K',\n",
       "  '2.222K',\n",
       "  '1.925K',\n",
       "  '1.828K',\n",
       "  '1.635K',\n",
       "  '1.472K',\n",
       "  '1.779K',\n",
       "  '2.387K',\n",
       "  '3.125K',\n",
       "  '3.132K',\n",
       "  '3.129K',\n",
       "  '2.701K'],\n",
       " ['1.316K',\n",
       "  '0.902K',\n",
       "  '0.569K',\n",
       "  '0.42K',\n",
       "  '0.243K',\n",
       "  '0.255K',\n",
       "  '0.365K',\n",
       "  '0.538K',\n",
       "  '0.747K',\n",
       "  '0.799K',\n",
       "  '0.944K',\n",
       "  '1.092K',\n",
       "  '1.516K',\n",
       "  '1.392K',\n",
       "  '1.362K',\n",
       "  '1.353K',\n",
       "  '1.036K',\n",
       "  '1.188K',\n",
       "  '1.751K',\n",
       "  '2.375K',\n",
       "  '2.826K',\n",
       "  '3.276K',\n",
       "  '3.198K',\n",
       "  '2.655K'],\n",
       " ['1.488K',\n",
       "  '0.806K',\n",
       "  '0.618K',\n",
       "  '0.387K',\n",
       "  '0.211K',\n",
       "  '0.285K',\n",
       "  '0.392K',\n",
       "  '0.536K',\n",
       "  '0.696K',\n",
       "  '1.0K',\n",
       "  '1.127K',\n",
       "  '1.379K',\n",
       "  '1.751K',\n",
       "  '1.493K',\n",
       "  '1.331K',\n",
       "  '1.266K',\n",
       "  '1.27K',\n",
       "  '1.163K',\n",
       "  '1.476K',\n",
       "  '1.919K',\n",
       "  '2.776K',\n",
       "  '3.173K',\n",
       "  '3.247K',\n",
       "  '2.559K'],\n",
       " ['1.546K',\n",
       "  '0.735K',\n",
       "  '0.548K',\n",
       "  '0.39K',\n",
       "  '0.242K',\n",
       "  '0.267K',\n",
       "  '0.329K',\n",
       "  '0.52K',\n",
       "  '0.781K',\n",
       "  '1.025K',\n",
       "  '1.097K',\n",
       "  '1.337K',\n",
       "  '1.656K',\n",
       "  '1.423K',\n",
       "  '1.301K',\n",
       "  '1.402K',\n",
       "  '1.18K',\n",
       "  '1.421K',\n",
       "  '1.744K',\n",
       "  '2.204K',\n",
       "  '3.055K',\n",
       "  '3.267K',\n",
       "  '2.802K',\n",
       "  '2.267K'],\n",
       " ['1.117K',\n",
       "  '0.598K',\n",
       "  '0.395K',\n",
       "  '0.361K',\n",
       "  '0.243K',\n",
       "  '0.267K',\n",
       "  '0.358K',\n",
       "  '0.479K',\n",
       "  '0.831K',\n",
       "  '1.016K',\n",
       "  '1.052K',\n",
       "  '1.362K',\n",
       "  '1.636K',\n",
       "  '1.367K',\n",
       "  '1.252K',\n",
       "  '1.284K',\n",
       "  '1.092K',\n",
       "  '1.191K',\n",
       "  '1.575K',\n",
       "  '1.873K',\n",
       "  '2.371K',\n",
       "  '2.595K',\n",
       "  '2.448K',\n",
       "  '2.062K'],\n",
       " ['1.031K',\n",
       "  '0.588K',\n",
       "  '0.305K',\n",
       "  '0.233K',\n",
       "  '0.189K',\n",
       "  '0.288K',\n",
       "  '0.357K',\n",
       "  '0.627K',\n",
       "  '0.839K',\n",
       "  '1.096K',\n",
       "  '1.246K',\n",
       "  '1.589K',\n",
       "  '2.023K',\n",
       "  '1.736K',\n",
       "  '1.697K',\n",
       "  '1.43K',\n",
       "  '1.246K',\n",
       "  '1.252K',\n",
       "  '1.885K',\n",
       "  '2.186K',\n",
       "  '2.585K',\n",
       "  '3.122K',\n",
       "  '3.338K',\n",
       "  '2.933K'],\n",
       " ['1.963K',\n",
       "  '0.873K',\n",
       "  '0.549K',\n",
       "  '0.456K',\n",
       "  '0.493K',\n",
       "  '0.305K',\n",
       "  '0.378K',\n",
       "  '0.605K',\n",
       "  '0.911K',\n",
       "  '1.014K',\n",
       "  '1.223K',\n",
       "  '1.461K',\n",
       "  '1.878K',\n",
       "  '1.796K',\n",
       "  '1.604K',\n",
       "  '1.467K',\n",
       "  '1.266K',\n",
       "  '1.183K',\n",
       "  '1.493K',\n",
       "  '1.939K',\n",
       "  '2.569K',\n",
       "  '3.031K',\n",
       "  '3.632K',\n",
       "  '3.46K'],\n",
       " ['1.739K',\n",
       "  '1.077K',\n",
       "  '0.815K',\n",
       "  '0.592K',\n",
       "  '0.305K',\n",
       "  '0.308K',\n",
       "  '0.461K',\n",
       "  '0.74K',\n",
       "  '1.11K',\n",
       "  '1.357K',\n",
       "  '1.625K',\n",
       "  '1.713K',\n",
       "  '2.135K',\n",
       "  '1.95K',\n",
       "  '2.032K',\n",
       "  '1.824K',\n",
       "  '1.709K',\n",
       "  '1.598K',\n",
       "  '1.962K',\n",
       "  '2.354K',\n",
       "  '2.825K',\n",
       "  '3.157K',\n",
       "  '2.966K',\n",
       "  '2.593K'],\n",
       " ['1.363K',\n",
       "  '0.754K',\n",
       "  '0.438K',\n",
       "  '0.398K',\n",
       "  '0.227K',\n",
       "  '0.299K',\n",
       "  '0.386K',\n",
       "  '0.533K',\n",
       "  '0.713K',\n",
       "  '0.89K',\n",
       "  '1.11K',\n",
       "  '1.275K',\n",
       "  '1.708K',\n",
       "  '1.461K',\n",
       "  '1.299K',\n",
       "  '1.277K',\n",
       "  '1.012K',\n",
       "  '1.241K',\n",
       "  '1.436K',\n",
       "  '1.917K',\n",
       "  '2.415K',\n",
       "  '2.892K',\n",
       "  '2.655K',\n",
       "  '2.036K'],\n",
       " ['1.058K',\n",
       "  '0.641K',\n",
       "  '0.349K',\n",
       "  '0.295K',\n",
       "  '0.254K',\n",
       "  '0.278K',\n",
       "  '0.394K',\n",
       "  '0.544K',\n",
       "  '0.877K',\n",
       "  '1.048K',\n",
       "  '1.295K',\n",
       "  '1.499K',\n",
       "  '1.778K',\n",
       "  '1.508K',\n",
       "  '1.403K',\n",
       "  '1.325K',\n",
       "  '1.094K',\n",
       "  '1.255K',\n",
       "  '1.522K',\n",
       "  '2.072K',\n",
       "  '2.573K',\n",
       "  '2.977K',\n",
       "  '2.757K',\n",
       "  '2.15K'],\n",
       " ['1.114K',\n",
       "  '0.784K',\n",
       "  '0.768K',\n",
       "  '0.6K',\n",
       "  '0.283K',\n",
       "  '0.327K',\n",
       "  '0.468K',\n",
       "  '0.583K',\n",
       "  '0.913K',\n",
       "  '1.095K',\n",
       "  '1.145K',\n",
       "  '1.47K',\n",
       "  '1.801K',\n",
       "  '1.583K',\n",
       "  '1.366K',\n",
       "  '1.236K',\n",
       "  '1.015K',\n",
       "  '1.028K',\n",
       "  '1.46K',\n",
       "  '1.838K',\n",
       "  '2.645K',\n",
       "  '3.006K',\n",
       "  '2.63K',\n",
       "  '2.221K'],\n",
       " ['1.145K',\n",
       "  '0.695K',\n",
       "  '0.758K',\n",
       "  '0.569K',\n",
       "  '0.307K',\n",
       "  '0.337K',\n",
       "  '0.434K',\n",
       "  '0.579K',\n",
       "  '0.823K',\n",
       "  '0.928K',\n",
       "  '1.02K',\n",
       "  '1.34K',\n",
       "  '1.719K',\n",
       "  '1.425K',\n",
       "  '1.41K',\n",
       "  '1.204K',\n",
       "  '1.145K',\n",
       "  '1.156K',\n",
       "  '1.533K',\n",
       "  '2.062K',\n",
       "  '2.525K',\n",
       "  '2.769K',\n",
       "  '2.554K',\n",
       "  '2.075K'],\n",
       " ['1.152K',\n",
       "  '0.663K',\n",
       "  '0.475K',\n",
       "  '0.333K',\n",
       "  '0.22K',\n",
       "  '0.319K',\n",
       "  '0.488K',\n",
       "  '0.581K',\n",
       "  '0.74K',\n",
       "  '1.105K',\n",
       "  '1.223K',\n",
       "  '1.351K',\n",
       "  '1.639K',\n",
       "  '1.422K',\n",
       "  '1.507K',\n",
       "  '1.345K',\n",
       "  '1.109K',\n",
       "  '1.156K',\n",
       "  '1.574K',\n",
       "  '2.162K',\n",
       "  '2.404K',\n",
       "  '2.667K',\n",
       "  '2.587K',\n",
       "  '2.376K'],\n",
       " ['1.28K',\n",
       "  '0.826K',\n",
       "  '0.476K',\n",
       "  '0.328K',\n",
       "  '0.26K',\n",
       "  '0.284K',\n",
       "  '0.38K',\n",
       "  '0.545K',\n",
       "  '0.788K',\n",
       "  '0.908K',\n",
       "  '1.346K',\n",
       "  '1.452K',\n",
       "  '1.708K',\n",
       "  '1.609K',\n",
       "  '1.581K',\n",
       "  '1.509K',\n",
       "  '1.374K',\n",
       "  '1.285K',\n",
       "  '1.69K',\n",
       "  '2.079K',\n",
       "  '2.393K',\n",
       "  '2.931K',\n",
       "  '3.638K',\n",
       "  '2.999K'],\n",
       " ['1.319K',\n",
       "  '0.899K',\n",
       "  '0.583K',\n",
       "  '0.368K',\n",
       "  '0.362K',\n",
       "  '0.415K',\n",
       "  '0.416K',\n",
       "  '0.697K',\n",
       "  '0.99K',\n",
       "  '1.257K',\n",
       "  '1.435K',\n",
       "  '1.654K',\n",
       "  '2.059K',\n",
       "  '1.928K',\n",
       "  '1.951K',\n",
       "  '1.653K',\n",
       "  '1.498K',\n",
       "  '1.352K',\n",
       "  '1.665K',\n",
       "  '2.099K',\n",
       "  '2.528K',\n",
       "  '2.73K',\n",
       "  '3.614K',\n",
       "  '3.398K'],\n",
       " ['2.899K',\n",
       "  '1.293K',\n",
       "  '0.428K',\n",
       "  '0.282K',\n",
       "  '0.213K',\n",
       "  '0.246K',\n",
       "  '0.249K',\n",
       "  '0.504K',\n",
       "  '0.619K',\n",
       "  '0.825K',\n",
       "  '0.99K',\n",
       "  '1.31K',\n",
       "  '1.638K',\n",
       "  '1.294K',\n",
       "  '1.381K',\n",
       "  '1.254K',\n",
       "  '1.005K',\n",
       "  '1.533K',\n",
       "  '2.14K',\n",
       "  '2.244K',\n",
       "  '2.407K',\n",
       "  '2.646K',\n",
       "  '2.71K',\n",
       "  '2.401K'],\n",
       " ['1.043K',\n",
       "  '0.749K',\n",
       "  '0.417K',\n",
       "  '0.262K',\n",
       "  '0.253K',\n",
       "  '0.306K',\n",
       "  '0.334K',\n",
       "  '0.467K',\n",
       "  '0.726K',\n",
       "  '0.902K',\n",
       "  '1.035K',\n",
       "  '1.276K',\n",
       "  '1.696K',\n",
       "  '1.522K',\n",
       "  '1.277K',\n",
       "  '1.206K',\n",
       "  '0.953K',\n",
       "  '1.118K',\n",
       "  '1.506K',\n",
       "  '1.853K',\n",
       "  '2.379K',\n",
       "  '2.805K',\n",
       "  '2.691K',\n",
       "  '2.145K'],\n",
       " ['1.091K',\n",
       "  '0.602K',\n",
       "  '0.397K',\n",
       "  '0.309K',\n",
       "  '0.277K',\n",
       "  '0.28K',\n",
       "  '0.299K',\n",
       "  '0.536K',\n",
       "  '0.92K',\n",
       "  '1.019K',\n",
       "  '1.11K',\n",
       "  '1.425K',\n",
       "  '1.847K',\n",
       "  '1.575K',\n",
       "  '1.432K',\n",
       "  '1.323K',\n",
       "  '1.195K',\n",
       "  '1.3K',\n",
       "  '1.561K',\n",
       "  '2.127K',\n",
       "  '2.598K',\n",
       "  '2.979K',\n",
       "  '2.875K',\n",
       "  '2.473K'],\n",
       " ['1.277K',\n",
       "  '0.761K',\n",
       "  '0.41K',\n",
       "  '0.276K',\n",
       "  '0.235K',\n",
       "  '0.276K',\n",
       "  '0.424K',\n",
       "  '0.547K',\n",
       "  '0.727K',\n",
       "  '0.97K',\n",
       "  '1.156K',\n",
       "  '1.38K',\n",
       "  '1.566K',\n",
       "  '1.385K',\n",
       "  '1.354K',\n",
       "  '1.28K',\n",
       "  '0.998K',\n",
       "  '1.057K',\n",
       "  '1.569K',\n",
       "  '2.079K',\n",
       "  '2.61K',\n",
       "  '2.898K',\n",
       "  '2.847K',\n",
       "  '2.355K'],\n",
       " ['1.131K',\n",
       "  '0.723K',\n",
       "  '0.46K',\n",
       "  '0.274K',\n",
       "  '0.201K',\n",
       "  '0.246K',\n",
       "  '0.38K',\n",
       "  '0.524K',\n",
       "  '0.836K',\n",
       "  '0.846K',\n",
       "  '1.028K',\n",
       "  '1.333K',\n",
       "  '1.635K',\n",
       "  '1.529K',\n",
       "  '1.387K',\n",
       "  '1.22K',\n",
       "  '1.056K',\n",
       "  '1.09K',\n",
       "  '1.312K',\n",
       "  '1.673K',\n",
       "  '2.081K',\n",
       "  '2.671K',\n",
       "  '2.325K',\n",
       "  '1.938K'],\n",
       " ['1.186K',\n",
       "  '0.683K',\n",
       "  '0.417K',\n",
       "  '0.234K',\n",
       "  '0.263K',\n",
       "  '0.293K',\n",
       "  '0.412K',\n",
       "  '0.511K',\n",
       "  '0.694K',\n",
       "  '0.885K',\n",
       "  '1.185K',\n",
       "  '1.292K',\n",
       "  '1.654K',\n",
       "  '1.63K',\n",
       "  '1.525K',\n",
       "  '1.307K',\n",
       "  '1.084K',\n",
       "  '1.124K',\n",
       "  '1.376K',\n",
       "  '1.744K',\n",
       "  '1.919K',\n",
       "  '2.323K',\n",
       "  '2.197K',\n",
       "  '2.048K'],\n",
       " ['1.178K',\n",
       "  '0.692K',\n",
       "  '0.422K',\n",
       "  '0.246K',\n",
       "  '0.185K',\n",
       "  '0.204K',\n",
       "  '0.406K',\n",
       "  '0.541K',\n",
       "  '0.748K',\n",
       "  '1.074K',\n",
       "  '1.196K',\n",
       "  '1.547K',\n",
       "  '1.848K',\n",
       "  '1.791K',\n",
       "  '1.812K',\n",
       "  '1.558K',\n",
       "  '1.274K',\n",
       "  '1.304K',\n",
       "  '1.593K',\n",
       "  '1.899K',\n",
       "  '2.215K',\n",
       "  '2.469K',\n",
       "  '2.265K',\n",
       "  '1.767K'],\n",
       " ['0.944K',\n",
       "  '0.623K',\n",
       "  '0.416K',\n",
       "  '0.326K',\n",
       "  '0.278K',\n",
       "  '0.305K',\n",
       "  '0.348K',\n",
       "  '0.429K',\n",
       "  '0.675K',\n",
       "  '0.925K',\n",
       "  '0.967K',\n",
       "  '1.162K',\n",
       "  '1.604K',\n",
       "  '1.361K',\n",
       "  '1.259K',\n",
       "  '1.205K',\n",
       "  '1.03K',\n",
       "  '1.129K',\n",
       "  '1.26K',\n",
       "  '1.717K',\n",
       "  '2.052K',\n",
       "  '2.597K',\n",
       "  '2.187K',\n",
       "  '1.886K'],\n",
       " ['1.084K',\n",
       "  '0.714K',\n",
       "  '0.412K',\n",
       "  '0.225K',\n",
       "  '0.257K',\n",
       "  '0.246K',\n",
       "  '0.322K',\n",
       "  '0.585K',\n",
       "  '0.841K',\n",
       "  '1.057K',\n",
       "  '1.116K',\n",
       "  '1.243K',\n",
       "  '1.677K',\n",
       "  '1.582K',\n",
       "  '1.392K',\n",
       "  '1.361K',\n",
       "  '1.192K',\n",
       "  '1.298K',\n",
       "  '1.66K',\n",
       "  '2.412K',\n",
       "  '3.089K',\n",
       "  '3.438K',\n",
       "  '3.144K',\n",
       "  '2.914K'],\n",
       " ['1.46K',\n",
       "  '0.83K',\n",
       "  '0.567K',\n",
       "  '0.499K',\n",
       "  '0.273K',\n",
       "  '0.309K',\n",
       "  '0.439K',\n",
       "  '0.669K',\n",
       "  '0.884K',\n",
       "  '1.408K',\n",
       "  '1.344K',\n",
       "  '1.53K',\n",
       "  '2.009K',\n",
       "  '1.644K',\n",
       "  '1.431K',\n",
       "  '1.225K',\n",
       "  '1.137K',\n",
       "  '1.247K',\n",
       "  '1.544K',\n",
       "  '2.188K',\n",
       "  '2.943K',\n",
       "  '3.05K',\n",
       "  '3.123K',\n",
       "  '2.55K'],\n",
       " ['1.317K',\n",
       "  '0.754K',\n",
       "  '0.468K',\n",
       "  '0.289K',\n",
       "  '0.25K',\n",
       "  '0.325K',\n",
       "  '0.427K',\n",
       "  '0.677K',\n",
       "  '0.898K',\n",
       "  '1.185K',\n",
       "  '1.193K',\n",
       "  '1.649K',\n",
       "  '2.102K',\n",
       "  '1.727K',\n",
       "  '1.589K',\n",
       "  '1.592K',\n",
       "  '1.319K',\n",
       "  '1.406K',\n",
       "  '1.675K',\n",
       "  '2.22K',\n",
       "  '2.97K',\n",
       "  '3.616K',\n",
       "  '3.344K',\n",
       "  '2.343K'],\n",
       " ['1.265K',\n",
       "  '0.982K',\n",
       "  '0.525K',\n",
       "  '0.366K',\n",
       "  '0.344K',\n",
       "  '0.385K',\n",
       "  '0.533K',\n",
       "  '0.545K',\n",
       "  '0.766K',\n",
       "  '1.0K',\n",
       "  '1.16K',\n",
       "  '1.356K',\n",
       "  '1.643K',\n",
       "  '1.499K',\n",
       "  '1.319K',\n",
       "  '1.317K',\n",
       "  '1.0K',\n",
       "  '1.187K',\n",
       "  '1.464K',\n",
       "  '2.248K',\n",
       "  '2.991K',\n",
       "  '3.591K',\n",
       "  '3.653K',\n",
       "  '2.916K'],\n",
       " ['1.552K',\n",
       "  '0.921K',\n",
       "  '0.537K',\n",
       "  '0.447K',\n",
       "  '0.324K',\n",
       "  '0.398K',\n",
       "  '0.483K',\n",
       "  '0.642K',\n",
       "  '1.016K',\n",
       "  '1.241K',\n",
       "  '1.463K',\n",
       "  '1.658K',\n",
       "  '2.039K',\n",
       "  '1.861K',\n",
       "  '1.874K',\n",
       "  '1.553K',\n",
       "  '1.478K',\n",
       "  '1.266K',\n",
       "  '1.409K',\n",
       "  '1.916K',\n",
       "  '2.399K',\n",
       "  '2.815K',\n",
       "  '3.287K',\n",
       "  '2.895K']]"
      ]
     },
     "execution_count": 23,
     "metadata": {},
     "output_type": "execute_result"
    }
   ],
   "source": [
    "convert_num_to_K_or_M(list_view_by_hour_each_day_mobile, type_unit = \"K\")"
   ]
  },
  {
   "cell_type": "code",
   "execution_count": 26,
   "metadata": {},
   "outputs": [
    {
     "data": {
      "text/plain": [
       "Text(0.5, 1.0, '2D Heat Map mobile')"
      ]
     },
     "execution_count": 26,
     "metadata": {},
     "output_type": "execute_result"
    },
    {
     "data": {
      "image/png": "[encoded data removed]",
      "text/plain": [
       "<Figure size 1296x864 with 2 Axes>"
      ]
     },
     "metadata": {
      "needs_background": "light"
     },
     "output_type": "display_data"
    }
   ],
   "source": [
    "plt.figure(figsize=(18,12))\n",
    "sns.heatmap(list_view_by_hour_each_day_mobile, \n",
    "            linewidth = 0.5, \n",
    "            cmap = 'Blues', \n",
    "            yticklabels = ls_days_of_week)\n",
    "plt.title( \"2D Heat Map mobile\")"
   ]
  },
  {
   "cell_type": "code",
   "execution_count": 27,
   "metadata": {},
   "outputs": [
    {
     "data": {
      "text/plain": [
       "Text(0.5, 1.0, '2D Heat Map box')"
      ]
     },
     "execution_count": 27,
     "metadata": {},
     "output_type": "execute_result"
    },
    {
     "data": {
      "image/png": "[encoded data removed]",
      "text/plain": [
       "<Figure size 1296x864 with 2 Axes>"
      ]
     },
     "metadata": {
      "needs_background": "light"
     },
     "output_type": "display_data"
    }
   ],
   "source": [
    "plt.figure(figsize=(18,12))\n",
    "sns.heatmap(list_view_by_hour_each_day_box , linewidth = 0.5, cmap = 'Blues', yticklabels = ls_days_of_week)\n",
    "plt.title( \"2D Heat Map box\")"
   ]
  },
  {
   "cell_type": "code",
   "execution_count": 28,
   "metadata": {},
   "outputs": [
    {
     "data": {
      "text/plain": [
       "Text(0.5, 1.0, '2D Heat Map smarttv')"
      ]
     },
     "execution_count": 28,
     "metadata": {},
     "output_type": "execute_result"
    },
    {
     "data": {
      "image/png": "[encoded data removed]",
      "text/plain": [
       "<Figure size 1296x864 with 2 Axes>"
      ]
     },
     "metadata": {
      "needs_background": "light"
     },
     "output_type": "display_data"
    }
   ],
   "source": [
    "plt.figure(figsize=(18,12))\n",
    "sns.heatmap(list_view_by_hour_each_day_smarttv , linewidth = 0.5, cmap = 'Blues', yticklabels = ls_days_of_week)\n",
    "plt.title( \"2D Heat Map smarttv\")"
   ]
  },
  {
   "cell_type": "code",
   "execution_count": 29,
   "metadata": {},
   "outputs": [
    {
     "data": {
      "text/plain": [
       "[[1228,\n",
       "  1233,\n",
       "  1288,\n",
       "  1320,\n",
       "  1715,\n",
       "  2093,\n",
       "  2000,\n",
       "  2028,\n",
       "  2245,\n",
       "  2300,\n",
       "  2842,\n",
       "  3795,\n",
       "  4483,\n",
       "  4811,\n",
       "  4068,\n",
       "  2866,\n",
       "  2426,\n",
       "  2124,\n",
       "  2301,\n",
       "  2575,\n",
       "  2705,\n",
       "  2385,\n",
       "  1492,\n",
       "  1387],\n",
       " [1197,\n",
       "  1279,\n",
       "  1327,\n",
       "  1368,\n",
       "  1694,\n",
       "  2074,\n",
       "  1948,\n",
       "  1968,\n",
       "  2124,\n",
       "  2121,\n",
       "  2608,\n",
       "  3547,\n",
       "  4463,\n",
       "  4923,\n",
       "  4291,\n",
       "  2787,\n",
       "  2450,\n",
       "  2088,\n",
       "  2259,\n",
       "  2512,\n",
       "  2688,\n",
       "  2349,\n",
       "  1496,\n",
       "  1393],\n",
       " [1191,\n",
       "  1305,\n",
       "  1379,\n",
       "  1560,\n",
       "  1764,\n",
       "  2201,\n",
       "  2279,\n",
       "  2294,\n",
       "  2541,\n",
       "  2613,\n",
       "  3135,\n",
       "  3898,\n",
       "  4709,\n",
       "  5197,\n",
       "  4759,\n",
       "  3433,\n",
       "  2953,\n",
       "  2418,\n",
       "  2488,\n",
       "  2674,\n",
       "  2859,\n",
       "  2633,\n",
       "  1664,\n",
       "  1533],\n",
       " [1291,\n",
       "  1319,\n",
       "  1565,\n",
       "  1775,\n",
       "  2165,\n",
       "  2444,\n",
       "  2420,\n",
       "  2476,\n",
       "  2839,\n",
       "  2974,\n",
       "  3499,\n",
       "  3990,\n",
       "  4574,\n",
       "  5075,\n",
       "  4659,\n",
       "  3450,\n",
       "  2986,\n",
       "  2576,\n",
       "  2466,\n",
       "  2518,\n",
       "  2837,\n",
       "  2572,\n",
       "  1452,\n",
       "  1291],\n",
       " [1105,\n",
       "  1163,\n",
       "  1146,\n",
       "  1330,\n",
       "  1180,\n",
       "  1680,\n",
       "  1757,\n",
       "  2026,\n",
       "  2077,\n",
       "  1997,\n",
       "  2450,\n",
       "  3108,\n",
       "  4153,\n",
       "  4488,\n",
       "  3796,\n",
       "  2617,\n",
       "  2076,\n",
       "  1947,\n",
       "  2146,\n",
       "  2392,\n",
       "  2785,\n",
       "  2369,\n",
       "  1461,\n",
       "  1268],\n",
       " [1069,\n",
       "  1178,\n",
       "  1164,\n",
       "  1224,\n",
       "  1629,\n",
       "  1927,\n",
       "  1810,\n",
       "  1898,\n",
       "  2048,\n",
       "  2026,\n",
       "  2417,\n",
       "  3327,\n",
       "  4249,\n",
       "  4490,\n",
       "  3958,\n",
       "  2805,\n",
       "  2231,\n",
       "  1767,\n",
       "  2065,\n",
       "  2374,\n",
       "  2601,\n",
       "  2209,\n",
       "  1397,\n",
       "  1163],\n",
       " [996,\n",
       "  1158,\n",
       "  1149,\n",
       "  1146,\n",
       "  1505,\n",
       "  1860,\n",
       "  1759,\n",
       "  1941,\n",
       "  2074,\n",
       "  2057,\n",
       "  2349,\n",
       "  3403,\n",
       "  4462,\n",
       "  4556,\n",
       "  4161,\n",
       "  3281,\n",
       "  2736,\n",
       "  1932,\n",
       "  2263,\n",
       "  2435,\n",
       "  2669,\n",
       "  2356,\n",
       "  1772,\n",
       "  1422],\n",
       " [1139,\n",
       "  1161,\n",
       "  1078,\n",
       "  1227,\n",
       "  1615,\n",
       "  1966,\n",
       "  1868,\n",
       "  1960,\n",
       "  1987,\n",
       "  2098,\n",
       "  2514,\n",
       "  3351,\n",
       "  4166,\n",
       "  4365,\n",
       "  4007,\n",
       "  3163,\n",
       "  2693,\n",
       "  1996,\n",
       "  2155,\n",
       "  2461,\n",
       "  2655,\n",
       "  2406,\n",
       "  1815,\n",
       "  1435],\n",
       " [1191,\n",
       "  1235,\n",
       "  1326,\n",
       "  1477,\n",
       "  1812,\n",
       "  2190,\n",
       "  2085,\n",
       "  2098,\n",
       "  2222,\n",
       "  2235,\n",
       "  2598,\n",
       "  3606,\n",
       "  4543,\n",
       "  4755,\n",
       "  4208,\n",
       "  2911,\n",
       "  2403,\n",
       "  2057,\n",
       "  2269,\n",
       "  2548,\n",
       "  2851,\n",
       "  2506,\n",
       "  1532,\n",
       "  1295],\n",
       " [1015,\n",
       "  1336,\n",
       "  1270,\n",
       "  1408,\n",
       "  1776,\n",
       "  1993,\n",
       "  1977,\n",
       "  2061,\n",
       "  2247,\n",
       "  2360,\n",
       "  2599,\n",
       "  3430,\n",
       "  4336,\n",
       "  4862,\n",
       "  4419,\n",
       "  3103,\n",
       "  2736,\n",
       "  2069,\n",
       "  2362,\n",
       "  2520,\n",
       "  2795,\n",
       "  2615,\n",
       "  1640,\n",
       "  1292],\n",
       " [1389,\n",
       "  1391,\n",
       "  1478,\n",
       "  1637,\n",
       "  2114,\n",
       "  2268,\n",
       "  2231,\n",
       "  2218,\n",
       "  2634,\n",
       "  2759,\n",
       "  3078,\n",
       "  3849,\n",
       "  4462,\n",
       "  5140,\n",
       "  4509,\n",
       "  3823,\n",
       "  3052,\n",
       "  2909,\n",
       "  2637,\n",
       "  2483,\n",
       "  2711,\n",
       "  2542,\n",
       "  1851,\n",
       "  1564],\n",
       " [996,\n",
       "  1012,\n",
       "  1040,\n",
       "  1123,\n",
       "  1536,\n",
       "  1917,\n",
       "  1824,\n",
       "  1995,\n",
       "  1957,\n",
       "  1961,\n",
       "  2479,\n",
       "  3224,\n",
       "  4069,\n",
       "  4186,\n",
       "  3929,\n",
       "  2933,\n",
       "  2703,\n",
       "  1904,\n",
       "  2091,\n",
       "  2325,\n",
       "  2582,\n",
       "  2183,\n",
       "  1687,\n",
       "  1452],\n",
       " [1052,\n",
       "  1072,\n",
       "  1070,\n",
       "  1000,\n",
       "  1386,\n",
       "  1659,\n",
       "  1797,\n",
       "  1883,\n",
       "  1922,\n",
       "  1853,\n",
       "  2179,\n",
       "  3009,\n",
       "  3840,\n",
       "  4051,\n",
       "  3730,\n",
       "  3028,\n",
       "  2508,\n",
       "  1842,\n",
       "  1898,\n",
       "  2255,\n",
       "  2375,\n",
       "  2178,\n",
       "  1802,\n",
       "  1565],\n",
       " [1149,\n",
       "  1134,\n",
       "  1062,\n",
       "  1152,\n",
       "  1584,\n",
       "  1781,\n",
       "  1765,\n",
       "  1797,\n",
       "  1968,\n",
       "  1829,\n",
       "  2249,\n",
       "  2973,\n",
       "  3747,\n",
       "  4074,\n",
       "  3671,\n",
       "  2849,\n",
       "  2473,\n",
       "  1918,\n",
       "  1907,\n",
       "  2143,\n",
       "  2357,\n",
       "  2236,\n",
       "  1613,\n",
       "  1585],\n",
       " [1189,\n",
       "  1128,\n",
       "  1030,\n",
       "  1146,\n",
       "  1637,\n",
       "  1802,\n",
       "  1754,\n",
       "  1867,\n",
       "  1913,\n",
       "  1912,\n",
       "  2322,\n",
       "  3082,\n",
       "  3738,\n",
       "  4115,\n",
       "  3646,\n",
       "  2742,\n",
       "  2257,\n",
       "  1864,\n",
       "  1972,\n",
       "  2249,\n",
       "  2420,\n",
       "  2290,\n",
       "  1706,\n",
       "  1460],\n",
       " [988,\n",
       "  1028,\n",
       "  1052,\n",
       "  1165,\n",
       "  1412,\n",
       "  1818,\n",
       "  1714,\n",
       "  1668,\n",
       "  1709,\n",
       "  1774,\n",
       "  2155,\n",
       "  3022,\n",
       "  3898,\n",
       "  4067,\n",
       "  3760,\n",
       "  3004,\n",
       "  2427,\n",
       "  1640,\n",
       "  1896,\n",
       "  2090,\n",
       "  2566,\n",
       "  2372,\n",
       "  1730,\n",
       "  1568],\n",
       " [1064,\n",
       "  982,\n",
       "  1057,\n",
       "  1243,\n",
       "  1514,\n",
       "  1749,\n",
       "  1819,\n",
       "  1843,\n",
       "  1983,\n",
       "  2217,\n",
       "  2481,\n",
       "  3205,\n",
       "  4100,\n",
       "  4484,\n",
       "  4052,\n",
       "  2878,\n",
       "  2612,\n",
       "  2061,\n",
       "  1977,\n",
       "  2274,\n",
       "  2662,\n",
       "  2395,\n",
       "  1561,\n",
       "  1450],\n",
       " [1222,\n",
       "  1266,\n",
       "  1314,\n",
       "  1526,\n",
       "  1810,\n",
       "  2054,\n",
       "  1942,\n",
       "  2034,\n",
       "  2258,\n",
       "  2634,\n",
       "  2872,\n",
       "  3452,\n",
       "  4188,\n",
       "  4551,\n",
       "  3857,\n",
       "  2580,\n",
       "  2311,\n",
       "  2269,\n",
       "  2132,\n",
       "  2326,\n",
       "  2474,\n",
       "  2076,\n",
       "  1118,\n",
       "  1117],\n",
       " [851,\n",
       "  878,\n",
       "  956,\n",
       "  1021,\n",
       "  1371,\n",
       "  1705,\n",
       "  1567,\n",
       "  1581,\n",
       "  1748,\n",
       "  1831,\n",
       "  2248,\n",
       "  2961,\n",
       "  3321,\n",
       "  3315,\n",
       "  3353,\n",
       "  2564,\n",
       "  1900,\n",
       "  1462,\n",
       "  1752,\n",
       "  1687,\n",
       "  1832,\n",
       "  1901,\n",
       "  1534,\n",
       "  1169],\n",
       " [984,\n",
       "  994,\n",
       "  954,\n",
       "  1097,\n",
       "  1343,\n",
       "  1598,\n",
       "  1460,\n",
       "  1732,\n",
       "  1840,\n",
       "  1761,\n",
       "  1994,\n",
       "  2671,\n",
       "  3508,\n",
       "  3609,\n",
       "  3533,\n",
       "  2827,\n",
       "  2251,\n",
       "  1632,\n",
       "  1766,\n",
       "  2025,\n",
       "  2193,\n",
       "  2201,\n",
       "  1652,\n",
       "  1356],\n",
       " [978,\n",
       "  995,\n",
       "  1040,\n",
       "  1132,\n",
       "  1403,\n",
       "  1876,\n",
       "  1771,\n",
       "  1743,\n",
       "  1748,\n",
       "  1716,\n",
       "  1910,\n",
       "  2777,\n",
       "  3281,\n",
       "  3277,\n",
       "  3602,\n",
       "  2717,\n",
       "  2289,\n",
       "  1590,\n",
       "  1792,\n",
       "  1922,\n",
       "  2116,\n",
       "  2360,\n",
       "  1690,\n",
       "  1377],\n",
       " [960,\n",
       "  1056,\n",
       "  1037,\n",
       "  1107,\n",
       "  1227,\n",
       "  1656,\n",
       "  1544,\n",
       "  1649,\n",
       "  1723,\n",
       "  1665,\n",
       "  2057,\n",
       "  2740,\n",
       "  3606,\n",
       "  3807,\n",
       "  3417,\n",
       "  2706,\n",
       "  2157,\n",
       "  1758,\n",
       "  1925,\n",
       "  2101,\n",
       "  2380,\n",
       "  2225,\n",
       "  1712,\n",
       "  1490],\n",
       " [931,\n",
       "  760,\n",
       "  917,\n",
       "  966,\n",
       "  1211,\n",
       "  1530,\n",
       "  1570,\n",
       "  1562,\n",
       "  1691,\n",
       "  1685,\n",
       "  1998,\n",
       "  2735,\n",
       "  3566,\n",
       "  3707,\n",
       "  3425,\n",
       "  2881,\n",
       "  2209,\n",
       "  1610,\n",
       "  1729,\n",
       "  2089,\n",
       "  2428,\n",
       "  2122,\n",
       "  1636,\n",
       "  1428],\n",
       " [994,\n",
       "  951,\n",
       "  1027,\n",
       "  1033,\n",
       "  1350,\n",
       "  1515,\n",
       "  1583,\n",
       "  1696,\n",
       "  1849,\n",
       "  2032,\n",
       "  2246,\n",
       "  2674,\n",
       "  3283,\n",
       "  3331,\n",
       "  3505,\n",
       "  3039,\n",
       "  2550,\n",
       "  1694,\n",
       "  1576,\n",
       "  1838,\n",
       "  1977,\n",
       "  2130,\n",
       "  1811,\n",
       "  1542],\n",
       " [1104,\n",
       "  1080,\n",
       "  1151,\n",
       "  1305,\n",
       "  1497,\n",
       "  1747,\n",
       "  1801,\n",
       "  1907,\n",
       "  2077,\n",
       "  2205,\n",
       "  2546,\n",
       "  3015,\n",
       "  3547,\n",
       "  3898,\n",
       "  3493,\n",
       "  2896,\n",
       "  2411,\n",
       "  1841,\n",
       "  1835,\n",
       "  2051,\n",
       "  2238,\n",
       "  2042,\n",
       "  1647,\n",
       "  1388],\n",
       " [905,\n",
       "  920,\n",
       "  940,\n",
       "  1012,\n",
       "  1179,\n",
       "  1475,\n",
       "  1470,\n",
       "  1636,\n",
       "  1564,\n",
       "  1640,\n",
       "  2064,\n",
       "  2705,\n",
       "  3467,\n",
       "  3493,\n",
       "  3408,\n",
       "  2740,\n",
       "  2167,\n",
       "  1626,\n",
       "  1810,\n",
       "  2098,\n",
       "  2313,\n",
       "  2237,\n",
       "  1716,\n",
       "  1434],\n",
       " [1031,\n",
       "  978,\n",
       "  1061,\n",
       "  1159,\n",
       "  1307,\n",
       "  1659,\n",
       "  1563,\n",
       "  1652,\n",
       "  1658,\n",
       "  1717,\n",
       "  2039,\n",
       "  2550,\n",
       "  3047,\n",
       "  3029,\n",
       "  3491,\n",
       "  2821,\n",
       "  2212,\n",
       "  1595,\n",
       "  1710,\n",
       "  1769,\n",
       "  1807,\n",
       "  2102,\n",
       "  1785,\n",
       "  1456],\n",
       " [1065,\n",
       "  1105,\n",
       "  1074,\n",
       "  1215,\n",
       "  1457,\n",
       "  1731,\n",
       "  1675,\n",
       "  1780,\n",
       "  1762,\n",
       "  1860,\n",
       "  2244,\n",
       "  3002,\n",
       "  3760,\n",
       "  3932,\n",
       "  3557,\n",
       "  2707,\n",
       "  2314,\n",
       "  1820,\n",
       "  1892,\n",
       "  2224,\n",
       "  2404,\n",
       "  2290,\n",
       "  1814,\n",
       "  1535],\n",
       " [1000,\n",
       "  988,\n",
       "  1014,\n",
       "  1160,\n",
       "  1447,\n",
       "  1900,\n",
       "  1727,\n",
       "  1772,\n",
       "  1918,\n",
       "  1946,\n",
       "  2109,\n",
       "  3012,\n",
       "  3863,\n",
       "  4082,\n",
       "  3656,\n",
       "  3056,\n",
       "  2524,\n",
       "  1690,\n",
       "  1871,\n",
       "  2314,\n",
       "  2601,\n",
       "  2242,\n",
       "  1763,\n",
       "  1503],\n",
       " [1038,\n",
       "  986,\n",
       "  960,\n",
       "  1025,\n",
       "  1308,\n",
       "  1559,\n",
       "  1615,\n",
       "  1618,\n",
       "  1820,\n",
       "  1821,\n",
       "  2037,\n",
       "  2595,\n",
       "  3092,\n",
       "  3165,\n",
       "  3719,\n",
       "  3326,\n",
       "  2644,\n",
       "  1754,\n",
       "  1865,\n",
       "  1938,\n",
       "  1893,\n",
       "  2388,\n",
       "  2089,\n",
       "  1660],\n",
       " [1062,\n",
       "  1161,\n",
       "  1190,\n",
       "  1321,\n",
       "  1523,\n",
       "  1935,\n",
       "  1840,\n",
       "  1937,\n",
       "  2162,\n",
       "  2305,\n",
       "  2628,\n",
       "  3103,\n",
       "  3753,\n",
       "  4121,\n",
       "  3886,\n",
       "  3303,\n",
       "  2985,\n",
       "  2232,\n",
       "  2126,\n",
       "  2094,\n",
       "  2347,\n",
       "  2357,\n",
       "  1956,\n",
       "  1771]]"
      ]
     },
     "execution_count": 29,
     "metadata": {},
     "output_type": "execute_result"
    }
   ],
   "source": [
    "list_view_by_hour_each_day_smarttv"
   ]
  },
  {
   "cell_type": "code",
   "execution_count": 30,
   "metadata": {},
   "outputs": [
    {
     "data": {
      "text/plain": [
       "['0',\n",
       " '1',\n",
       " '2',\n",
       " '3',\n",
       " '4',\n",
       " '5',\n",
       " '6',\n",
       " '7',\n",
       " '8',\n",
       " '9',\n",
       " '10',\n",
       " '11',\n",
       " '12',\n",
       " '13',\n",
       " '14',\n",
       " '15',\n",
       " '16',\n",
       " '17',\n",
       " '18',\n",
       " '19',\n",
       " '20',\n",
       " '21',\n",
       " '22',\n",
       " '23']"
      ]
     },
     "execution_count": 30,
     "metadata": {},
     "output_type": "execute_result"
    }
   ],
   "source": [
    "list(map(str, list(range(0,24))))"
   ]
  },
  {
   "cell_type": "code",
   "execution_count": 31,
   "metadata": {},
   "outputs": [
    {
     "data": {
      "text/plain": [
       "Text(0.5, 1.0, 'Tổng lượt xem phim bộ mỗi giờ trong 31 ngày trên mỗi thiết bị')"
      ]
     },
     "execution_count": 31,
     "metadata": {},
     "output_type": "execute_result"
    },
    {
     "data": {
      "image/png": "[encoded data removed]",
      "text/plain": [
       "<Figure size 1440x576 with 1 Axes>"
      ]
     },
     "metadata": {
      "needs_background": "light"
     },
     "output_type": "display_data"
    }
   ],
   "source": [
    "plt.figure(figsize=(20,8))\n",
    "plt.plot(list(map(str, list(range(0,24)))), np.sum(list_view_by_hour_each_day_mobile, axis = 0), color='red', label = \"mobile\")\n",
    "plt.plot(list(map(str, list(range(0,24)))), np.sum(list_view_by_hour_each_day_box, axis = 0), color='green', label = \"box\")\n",
    "plt.plot(list(map(str, list(range(0,24)))), np.sum(list_view_by_hour_each_day_smarttv, axis = 0), color='blue', label = \"smarttv\")\n",
    "# plt.xticks(rotation=60)\n",
    "plt.grid(linewidth=0.2)\n",
    "plt.legend()\n",
    "plt.title(\"Tổng lượt xem phim bộ mỗi giờ trong 31 ngày trên mỗi thiết bị\")"
   ]
  },
  {
   "cell_type": "code",
   "execution_count": 32,
   "metadata": {},
   "outputs": [],
   "source": [
    "videos_ver2_collection = MongoClient(host=\"42.119.252.76:27017\")[\"fteluv\"][\"videos_ver2\"]"
   ]
  },
  {
   "cell_type": "code",
   "execution_count": 33,
   "metadata": {},
   "outputs": [],
   "source": [
    "def get_title_title_vie(ls_idx):\n",
    "    ls_ObjectIdx = [ObjectId(idx) for idx in ls_idx]\n",
    "    res = list(videos_ver2_collection.find({\"_id\":{\"$in\": ls_ObjectIdx}}, {\"title\":1, \"title_vie\":1}))\n",
    "    ls_title = [e[\"title\"] for e in res]\n",
    "    ls_title_vie = [e[\"title_vie\"] for e in res]\n",
    "    return {\"title\":ls_title, \"title_vie\":ls_title_vie}"
   ]
  },
  {
   "cell_type": "code",
   "execution_count": 36,
   "metadata": {},
   "outputs": [
    {
     "data": {
      "text/plain": [
       "DataFrame[user_id: string, playing_session: timestamp, AppId: string, AppName: string, ItemId: string, duration: int, end_time: timestamp]"
      ]
     },
     "execution_count": 36,
     "metadata": {},
     "output_type": "execute_result"
    }
   ],
   "source": [
    "df_mobile"
   ]
  },
  {
   "cell_type": "code",
   "execution_count": 37,
   "metadata": {},
   "outputs": [
    {
     "name": "stdout",
     "output_type": "stream",
     "text": [
      "day:\t 2022-12-01\n"
     ]
    },
    {
     "name": "stderr",
     "output_type": "stream",
     "text": [
      "                                                                                \r"
     ]
    },
    {
     "name": "stdout",
     "output_type": "stream",
     "text": [
      "day:\t 2022-12-02\n"
     ]
    },
    {
     "name": "stderr",
     "output_type": "stream",
     "text": [
      "                                                                                \r"
     ]
    },
    {
     "name": "stdout",
     "output_type": "stream",
     "text": [
      "day:\t 2022-12-03\n"
     ]
    },
    {
     "name": "stderr",
     "output_type": "stream",
     "text": [
      "                                                                                \r"
     ]
    },
    {
     "name": "stdout",
     "output_type": "stream",
     "text": [
      "day:\t 2022-12-04\n"
     ]
    },
    {
     "name": "stderr",
     "output_type": "stream",
     "text": [
      "                                                                                \r"
     ]
    },
    {
     "name": "stdout",
     "output_type": "stream",
     "text": [
      "day:\t 2022-12-05\n"
     ]
    },
    {
     "name": "stderr",
     "output_type": "stream",
     "text": [
      "                                                                                \r"
     ]
    },
    {
     "name": "stdout",
     "output_type": "stream",
     "text": [
      "day:\t 2022-12-06\n"
     ]
    },
    {
     "name": "stderr",
     "output_type": "stream",
     "text": [
      "                                                                                \r"
     ]
    },
    {
     "name": "stdout",
     "output_type": "stream",
     "text": [
      "day:\t 2022-12-07\n"
     ]
    },
    {
     "name": "stderr",
     "output_type": "stream",
     "text": [
      "                                                                                \r"
     ]
    },
    {
     "name": "stdout",
     "output_type": "stream",
     "text": [
      "day:\t 2022-12-08\n"
     ]
    },
    {
     "name": "stderr",
     "output_type": "stream",
     "text": [
      "                                                                                \r"
     ]
    },
    {
     "name": "stdout",
     "output_type": "stream",
     "text": [
      "day:\t 2022-12-09\n"
     ]
    },
    {
     "name": "stderr",
     "output_type": "stream",
     "text": [
      "                                                                                \r"
     ]
    },
    {
     "name": "stdout",
     "output_type": "stream",
     "text": [
      "day:\t 2022-12-10\n"
     ]
    },
    {
     "name": "stderr",
     "output_type": "stream",
     "text": [
      "                                                                                \r"
     ]
    },
    {
     "name": "stdout",
     "output_type": "stream",
     "text": [
      "day:\t 2022-12-11\n"
     ]
    },
    {
     "name": "stderr",
     "output_type": "stream",
     "text": [
      "                                                                                \r"
     ]
    },
    {
     "name": "stdout",
     "output_type": "stream",
     "text": [
      "day:\t 2022-12-12\n"
     ]
    },
    {
     "name": "stderr",
     "output_type": "stream",
     "text": [
      "                                                                                \r"
     ]
    },
    {
     "name": "stdout",
     "output_type": "stream",
     "text": [
      "day:\t 2022-12-13\n"
     ]
    },
    {
     "name": "stderr",
     "output_type": "stream",
     "text": [
      "                                                                                \r"
     ]
    },
    {
     "name": "stdout",
     "output_type": "stream",
     "text": [
      "day:\t 2022-12-14\n"
     ]
    },
    {
     "name": "stderr",
     "output_type": "stream",
     "text": [
      "                                                                                \r"
     ]
    },
    {
     "name": "stdout",
     "output_type": "stream",
     "text": [
      "day:\t 2022-12-15\n"
     ]
    },
    {
     "name": "stderr",
     "output_type": "stream",
     "text": [
      "                                                                                \r"
     ]
    },
    {
     "name": "stdout",
     "output_type": "stream",
     "text": [
      "day:\t 2022-12-16\n"
     ]
    },
    {
     "name": "stderr",
     "output_type": "stream",
     "text": [
      "                                                                                \r"
     ]
    },
    {
     "name": "stdout",
     "output_type": "stream",
     "text": [
      "day:\t 2022-12-17\n"
     ]
    },
    {
     "name": "stderr",
     "output_type": "stream",
     "text": [
      "                                                                                \r"
     ]
    },
    {
     "name": "stdout",
     "output_type": "stream",
     "text": [
      "day:\t 2022-12-18\n"
     ]
    },
    {
     "name": "stderr",
     "output_type": "stream",
     "text": [
      "                                                                                \r"
     ]
    },
    {
     "name": "stdout",
     "output_type": "stream",
     "text": [
      "day:\t 2022-12-19\n"
     ]
    },
    {
     "name": "stderr",
     "output_type": "stream",
     "text": [
      "                                                                                \r"
     ]
    },
    {
     "name": "stdout",
     "output_type": "stream",
     "text": [
      "day:\t 2022-12-20\n"
     ]
    },
    {
     "name": "stderr",
     "output_type": "stream",
     "text": [
      "                                                                                \r"
     ]
    },
    {
     "name": "stdout",
     "output_type": "stream",
     "text": [
      "day:\t 2022-12-21\n"
     ]
    },
    {
     "name": "stderr",
     "output_type": "stream",
     "text": [
      "                                                                                \r"
     ]
    },
    {
     "name": "stdout",
     "output_type": "stream",
     "text": [
      "day:\t 2022-12-22\n"
     ]
    },
    {
     "name": "stderr",
     "output_type": "stream",
     "text": [
      "                                                                                \r"
     ]
    },
    {
     "name": "stdout",
     "output_type": "stream",
     "text": [
      "day:\t 2022-12-23\n"
     ]
    },
    {
     "name": "stderr",
     "output_type": "stream",
     "text": [
      "                                                                                \r"
     ]
    },
    {
     "name": "stdout",
     "output_type": "stream",
     "text": [
      "day:\t 2022-12-24\n"
     ]
    },
    {
     "name": "stderr",
     "output_type": "stream",
     "text": [
      "                                                                                \r"
     ]
    },
    {
     "name": "stdout",
     "output_type": "stream",
     "text": [
      "day:\t 2022-12-25\n"
     ]
    },
    {
     "name": "stderr",
     "output_type": "stream",
     "text": [
      "                                                                                \r"
     ]
    },
    {
     "name": "stdout",
     "output_type": "stream",
     "text": [
      "day:\t 2022-12-26\n"
     ]
    },
    {
     "name": "stderr",
     "output_type": "stream",
     "text": [
      "                                                                                \r"
     ]
    },
    {
     "name": "stdout",
     "output_type": "stream",
     "text": [
      "day:\t 2022-12-27\n"
     ]
    },
    {
     "name": "stderr",
     "output_type": "stream",
     "text": [
      "                                                                                \r"
     ]
    },
    {
     "name": "stdout",
     "output_type": "stream",
     "text": [
      "day:\t 2022-12-28\n"
     ]
    },
    {
     "name": "stderr",
     "output_type": "stream",
     "text": [
      "                                                                                \r"
     ]
    },
    {
     "name": "stdout",
     "output_type": "stream",
     "text": [
      "day:\t 2022-12-29\n"
     ]
    },
    {
     "name": "stderr",
     "output_type": "stream",
     "text": [
      "                                                                                \r"
     ]
    },
    {
     "name": "stdout",
     "output_type": "stream",
     "text": [
      "day:\t 2022-12-30\n"
     ]
    },
    {
     "name": "stderr",
     "output_type": "stream",
     "text": [
      "                                                                                \r"
     ]
    },
    {
     "name": "stdout",
     "output_type": "stream",
     "text": [
      "day:\t 2022-12-31\n"
     ]
    },
    {
     "name": "stderr",
     "output_type": "stream",
     "text": [
      "                                                                                \r"
     ]
    }
   ],
   "source": [
    "# Lấy top 10 phim bộ được xem mỗi ngày trên mobile dựa theo đếm số lượt xem\n",
    "\n",
    "total_view_LogId111_mobile = 0\n",
    "ls_view_LogId111_each_day_mobile = []\n",
    "\n",
    "dict_top_10_phimbo_mobile_each_day_by_count_duration = dict()\n",
    "\n",
    "for day, path_hdfs_1_day_mobile in zip(ls_day, path_hdfs_mobile):\n",
    "    print(\"day:\\t\", day)\n",
    "    df_mobile = spark.read.orc(path_hdfs_1_day_mobile)\n",
    "    \n",
    "    df_mobile = df_mobile.filter(lower(col('AppName')) == \"phim bộ\")\n",
    "    df_grb_mobile = df_mobile.groupby(\"ItemId\").agg(ps_count('duration').alias(\"count_duration\"), ps_sum('duration').alias(\"sum_duration\"))\n",
    "    df_grb_mobile = df_grb_mobile.sort(col('count_duration').desc())\n",
    "    df_mobile = df_grb_mobile.limit(20).toPandas()\n",
    "\n",
    "    df_mobile = df_mobile[df_mobile[\"ItemId\"].apply(len) > 12]\n",
    "    df_mobile = df_mobile.reset_index(drop=True)\n",
    "    df_mobile = df_mobile.iloc[:10]\n",
    "\n",
    "    dict_title_title_vie = get_title_title_vie(ls_idx = df_mobile[\"ItemId\"])\n",
    "    df_mobile[\"title\"] = dict_title_title_vie[\"title\"]\n",
    "    df_mobile[\"title_vie\"] = dict_title_title_vie[\"title_vie\"]\n",
    "\n",
    "    info = df_mobile.to_dict(orient='records')\n",
    "    dict_top_10_phimbo_mobile_each_day_by_count_duration.update({day:info})\n",
    "\n",
    "write_json(r\"{}/{}.json\".format(config.folder_save_json, \"dict_top_10_phimbo_mobile_each_day_by_count_duration\"), dict_top_10_phimbo_mobile_each_day_by_count_duration)"
   ]
  },
  {
   "cell_type": "code",
   "execution_count": 38,
   "metadata": {},
   "outputs": [
    {
     "name": "stdout",
     "output_type": "stream",
     "text": [
      "day:\t 2022-12-01\n"
     ]
    },
    {
     "name": "stderr",
     "output_type": "stream",
     "text": [
      "                                                                                \r"
     ]
    },
    {
     "name": "stdout",
     "output_type": "stream",
     "text": [
      "day:\t 2022-12-02\n"
     ]
    },
    {
     "name": "stderr",
     "output_type": "stream",
     "text": [
      "                                                                                \r"
     ]
    },
    {
     "name": "stdout",
     "output_type": "stream",
     "text": [
      "day:\t 2022-12-03\n"
     ]
    },
    {
     "name": "stderr",
     "output_type": "stream",
     "text": [
      "                                                                                \r"
     ]
    },
    {
     "name": "stdout",
     "output_type": "stream",
     "text": [
      "day:\t 2022-12-04\n"
     ]
    },
    {
     "name": "stderr",
     "output_type": "stream",
     "text": [
      "                                                                                \r"
     ]
    },
    {
     "name": "stdout",
     "output_type": "stream",
     "text": [
      "day:\t 2022-12-05\n"
     ]
    },
    {
     "name": "stderr",
     "output_type": "stream",
     "text": [
      "                                                                                \r"
     ]
    },
    {
     "name": "stdout",
     "output_type": "stream",
     "text": [
      "day:\t 2022-12-06\n"
     ]
    },
    {
     "name": "stderr",
     "output_type": "stream",
     "text": [
      "                                                                                \r"
     ]
    },
    {
     "name": "stdout",
     "output_type": "stream",
     "text": [
      "day:\t 2022-12-07\n"
     ]
    },
    {
     "name": "stderr",
     "output_type": "stream",
     "text": [
      "                                                                                \r"
     ]
    },
    {
     "name": "stdout",
     "output_type": "stream",
     "text": [
      "day:\t 2022-12-08\n"
     ]
    },
    {
     "name": "stderr",
     "output_type": "stream",
     "text": [
      "                                                                                \r"
     ]
    },
    {
     "name": "stdout",
     "output_type": "stream",
     "text": [
      "day:\t 2022-12-09\n"
     ]
    },
    {
     "name": "stderr",
     "output_type": "stream",
     "text": [
      "                                                                                \r"
     ]
    },
    {
     "name": "stdout",
     "output_type": "stream",
     "text": [
      "day:\t 2022-12-10\n"
     ]
    },
    {
     "name": "stderr",
     "output_type": "stream",
     "text": [
      "                                                                                \r"
     ]
    },
    {
     "name": "stdout",
     "output_type": "stream",
     "text": [
      "day:\t 2022-12-11\n"
     ]
    },
    {
     "name": "stderr",
     "output_type": "stream",
     "text": [
      "                                                                                \r"
     ]
    },
    {
     "name": "stdout",
     "output_type": "stream",
     "text": [
      "day:\t 2022-12-12\n"
     ]
    },
    {
     "name": "stderr",
     "output_type": "stream",
     "text": [
      "                                                                                \r"
     ]
    },
    {
     "name": "stdout",
     "output_type": "stream",
     "text": [
      "day:\t 2022-12-13\n"
     ]
    },
    {
     "name": "stderr",
     "output_type": "stream",
     "text": [
      "                                                                                \r"
     ]
    },
    {
     "name": "stdout",
     "output_type": "stream",
     "text": [
      "day:\t 2022-12-14\n"
     ]
    },
    {
     "name": "stderr",
     "output_type": "stream",
     "text": [
      "                                                                                \r"
     ]
    },
    {
     "name": "stdout",
     "output_type": "stream",
     "text": [
      "day:\t 2022-12-15\n"
     ]
    },
    {
     "name": "stderr",
     "output_type": "stream",
     "text": [
      "                                                                                \r"
     ]
    },
    {
     "name": "stdout",
     "output_type": "stream",
     "text": [
      "day:\t 2022-12-16\n"
     ]
    },
    {
     "name": "stderr",
     "output_type": "stream",
     "text": [
      "                                                                                \r"
     ]
    },
    {
     "name": "stdout",
     "output_type": "stream",
     "text": [
      "day:\t 2022-12-17\n"
     ]
    },
    {
     "name": "stderr",
     "output_type": "stream",
     "text": [
      "                                                                                \r"
     ]
    },
    {
     "name": "stdout",
     "output_type": "stream",
     "text": [
      "day:\t 2022-12-18\n"
     ]
    },
    {
     "name": "stderr",
     "output_type": "stream",
     "text": [
      "                                                                                \r"
     ]
    },
    {
     "name": "stdout",
     "output_type": "stream",
     "text": [
      "day:\t 2022-12-19\n"
     ]
    },
    {
     "name": "stderr",
     "output_type": "stream",
     "text": [
      "                                                                                \r"
     ]
    },
    {
     "name": "stdout",
     "output_type": "stream",
     "text": [
      "day:\t 2022-12-20\n"
     ]
    },
    {
     "name": "stderr",
     "output_type": "stream",
     "text": [
      "                                                                                \r"
     ]
    },
    {
     "name": "stdout",
     "output_type": "stream",
     "text": [
      "day:\t 2022-12-21\n"
     ]
    },
    {
     "name": "stderr",
     "output_type": "stream",
     "text": [
      "                                                                                \r"
     ]
    },
    {
     "name": "stdout",
     "output_type": "stream",
     "text": [
      "day:\t 2022-12-22\n"
     ]
    },
    {
     "name": "stderr",
     "output_type": "stream",
     "text": [
      "                                                                                \r"
     ]
    },
    {
     "name": "stdout",
     "output_type": "stream",
     "text": [
      "day:\t 2022-12-23\n"
     ]
    },
    {
     "name": "stderr",
     "output_type": "stream",
     "text": [
      "                                                                                \r"
     ]
    },
    {
     "name": "stdout",
     "output_type": "stream",
     "text": [
      "day:\t 2022-12-24\n"
     ]
    },
    {
     "name": "stderr",
     "output_type": "stream",
     "text": [
      "                                                                                \r"
     ]
    },
    {
     "name": "stdout",
     "output_type": "stream",
     "text": [
      "day:\t 2022-12-25\n"
     ]
    },
    {
     "name": "stderr",
     "output_type": "stream",
     "text": [
      "                                                                                \r"
     ]
    },
    {
     "name": "stdout",
     "output_type": "stream",
     "text": [
      "day:\t 2022-12-26\n"
     ]
    },
    {
     "name": "stderr",
     "output_type": "stream",
     "text": [
      "                                                                                \r"
     ]
    },
    {
     "name": "stdout",
     "output_type": "stream",
     "text": [
      "day:\t 2022-12-27\n"
     ]
    },
    {
     "name": "stderr",
     "output_type": "stream",
     "text": [
      "                                                                                \r"
     ]
    },
    {
     "name": "stdout",
     "output_type": "stream",
     "text": [
      "day:\t 2022-12-28\n"
     ]
    },
    {
     "name": "stderr",
     "output_type": "stream",
     "text": [
      "                                                                                \r"
     ]
    },
    {
     "name": "stdout",
     "output_type": "stream",
     "text": [
      "day:\t 2022-12-29\n"
     ]
    },
    {
     "name": "stderr",
     "output_type": "stream",
     "text": [
      "                                                                                \r"
     ]
    },
    {
     "name": "stdout",
     "output_type": "stream",
     "text": [
      "day:\t 2022-12-30\n"
     ]
    },
    {
     "name": "stderr",
     "output_type": "stream",
     "text": [
      "                                                                                \r"
     ]
    },
    {
     "name": "stdout",
     "output_type": "stream",
     "text": [
      "day:\t 2022-12-31\n"
     ]
    },
    {
     "name": "stderr",
     "output_type": "stream",
     "text": [
      "                                                                                \r"
     ]
    }
   ],
   "source": [
    "# Lấy top 10 phim bộ được xem mỗi ngày trên box dựa theo đếm số lượt xem\n",
    "\n",
    "total_view_LogId111_box = 0\n",
    "ls_view_LogId111_each_day_box = []\n",
    "\n",
    "dict_top_10_phimbo_box_each_day_by_count_duration = dict()\n",
    "\n",
    "for day, path_hdfs_1_day_box in zip(ls_day, path_hdfs_box):\n",
    "    print(\"day:\\t\", day)\n",
    "    df_box = spark.read.orc(path_hdfs_1_day_box)\n",
    "    \n",
    "    df_box = df_box.filter(lower(col('AppName')) == \"phim bộ\")\n",
    "    df_grb_box = df_box.groupby(\"ItemId\").agg(ps_count('duration').alias(\"count_duration\"), ps_sum('duration').alias(\"sum_duration\"))\n",
    "    df_grb_box = df_grb_box.sort(col('count_duration').desc())\n",
    "    df_box = df_grb_box.limit(20).toPandas()\n",
    "\n",
    "    df_box = df_box[df_box[\"ItemId\"].apply(len) > 12]\n",
    "    df_box = df_box.reset_index(drop=True)\n",
    "    df_box = df_box.iloc[:10]\n",
    "\n",
    "    dict_title_title_vie = get_title_title_vie(ls_idx = df_box[\"ItemId\"])\n",
    "    df_box[\"title\"] = dict_title_title_vie[\"title\"]\n",
    "    df_box[\"title_vie\"] = dict_title_title_vie[\"title_vie\"]\n",
    "\n",
    "    info = df_box.to_dict(orient='records')\n",
    "    dict_top_10_phimbo_box_each_day_by_count_duration.update({day:info})\n",
    "\n",
    "write_json(r\"{}/{}.json\".format(config.folder_save_json, \"dict_top_10_phimbo_box_each_day_by_count_duration\"), dict_top_10_phimbo_box_each_day_by_count_duration)"
   ]
  },
  {
   "cell_type": "code",
   "execution_count": 39,
   "metadata": {},
   "outputs": [
    {
     "name": "stdout",
     "output_type": "stream",
     "text": [
      "day:\t 2022-12-01\n"
     ]
    },
    {
     "name": "stderr",
     "output_type": "stream",
     "text": [
      "                                                                                \r"
     ]
    },
    {
     "name": "stdout",
     "output_type": "stream",
     "text": [
      "day:\t 2022-12-02\n"
     ]
    },
    {
     "name": "stderr",
     "output_type": "stream",
     "text": [
      "                                                                                \r"
     ]
    },
    {
     "name": "stdout",
     "output_type": "stream",
     "text": [
      "day:\t 2022-12-03\n"
     ]
    },
    {
     "name": "stderr",
     "output_type": "stream",
     "text": [
      "                                                                                \r"
     ]
    },
    {
     "name": "stdout",
     "output_type": "stream",
     "text": [
      "day:\t 2022-12-04\n"
     ]
    },
    {
     "name": "stderr",
     "output_type": "stream",
     "text": [
      "                                                                                \r"
     ]
    },
    {
     "name": "stdout",
     "output_type": "stream",
     "text": [
      "day:\t 2022-12-05\n"
     ]
    },
    {
     "name": "stderr",
     "output_type": "stream",
     "text": [
      "                                                                                \r"
     ]
    },
    {
     "name": "stdout",
     "output_type": "stream",
     "text": [
      "day:\t 2022-12-06\n"
     ]
    },
    {
     "name": "stderr",
     "output_type": "stream",
     "text": [
      "                                                                                \r"
     ]
    },
    {
     "name": "stdout",
     "output_type": "stream",
     "text": [
      "day:\t 2022-12-07\n"
     ]
    },
    {
     "name": "stderr",
     "output_type": "stream",
     "text": [
      "                                                                                \r"
     ]
    },
    {
     "name": "stdout",
     "output_type": "stream",
     "text": [
      "day:\t 2022-12-08\n"
     ]
    },
    {
     "name": "stderr",
     "output_type": "stream",
     "text": [
      "                                                                                \r"
     ]
    },
    {
     "name": "stdout",
     "output_type": "stream",
     "text": [
      "day:\t 2022-12-09\n"
     ]
    },
    {
     "name": "stderr",
     "output_type": "stream",
     "text": [
      "                                                                                \r"
     ]
    },
    {
     "name": "stdout",
     "output_type": "stream",
     "text": [
      "day:\t 2022-12-10\n"
     ]
    },
    {
     "name": "stderr",
     "output_type": "stream",
     "text": [
      "                                                                                \r"
     ]
    },
    {
     "name": "stdout",
     "output_type": "stream",
     "text": [
      "day:\t 2022-12-11\n"
     ]
    },
    {
     "name": "stderr",
     "output_type": "stream",
     "text": [
      "                                                                                \r"
     ]
    },
    {
     "name": "stdout",
     "output_type": "stream",
     "text": [
      "day:\t 2022-12-12\n"
     ]
    },
    {
     "name": "stderr",
     "output_type": "stream",
     "text": [
      "                                                                                \r"
     ]
    },
    {
     "name": "stdout",
     "output_type": "stream",
     "text": [
      "day:\t 2022-12-13\n"
     ]
    },
    {
     "name": "stderr",
     "output_type": "stream",
     "text": [
      "                                                                                \r"
     ]
    },
    {
     "name": "stdout",
     "output_type": "stream",
     "text": [
      "day:\t 2022-12-14\n"
     ]
    },
    {
     "name": "stderr",
     "output_type": "stream",
     "text": [
      "                                                                                \r"
     ]
    },
    {
     "name": "stdout",
     "output_type": "stream",
     "text": [
      "day:\t 2022-12-15\n"
     ]
    },
    {
     "name": "stderr",
     "output_type": "stream",
     "text": [
      "                                                                                \r"
     ]
    },
    {
     "name": "stdout",
     "output_type": "stream",
     "text": [
      "day:\t 2022-12-16\n"
     ]
    },
    {
     "name": "stderr",
     "output_type": "stream",
     "text": [
      "                                                                                \r"
     ]
    },
    {
     "name": "stdout",
     "output_type": "stream",
     "text": [
      "day:\t 2022-12-17\n"
     ]
    },
    {
     "name": "stderr",
     "output_type": "stream",
     "text": [
      "                                                                                \r"
     ]
    },
    {
     "name": "stdout",
     "output_type": "stream",
     "text": [
      "day:\t 2022-12-18\n"
     ]
    },
    {
     "name": "stderr",
     "output_type": "stream",
     "text": [
      "                                                                                \r"
     ]
    },
    {
     "name": "stdout",
     "output_type": "stream",
     "text": [
      "day:\t 2022-12-19\n"
     ]
    },
    {
     "name": "stderr",
     "output_type": "stream",
     "text": [
      "                                                                                \r"
     ]
    },
    {
     "name": "stdout",
     "output_type": "stream",
     "text": [
      "day:\t 2022-12-20\n"
     ]
    },
    {
     "name": "stderr",
     "output_type": "stream",
     "text": [
      "                                                                                \r"
     ]
    },
    {
     "name": "stdout",
     "output_type": "stream",
     "text": [
      "day:\t 2022-12-21\n"
     ]
    },
    {
     "name": "stderr",
     "output_type": "stream",
     "text": [
      "                                                                                \r"
     ]
    },
    {
     "name": "stdout",
     "output_type": "stream",
     "text": [
      "day:\t 2022-12-22\n"
     ]
    },
    {
     "name": "stderr",
     "output_type": "stream",
     "text": [
      "                                                                                \r"
     ]
    },
    {
     "name": "stdout",
     "output_type": "stream",
     "text": [
      "day:\t 2022-12-23\n"
     ]
    },
    {
     "name": "stderr",
     "output_type": "stream",
     "text": [
      "                                                                                \r"
     ]
    },
    {
     "name": "stdout",
     "output_type": "stream",
     "text": [
      "day:\t 2022-12-24\n"
     ]
    },
    {
     "name": "stderr",
     "output_type": "stream",
     "text": [
      "                                                                                \r"
     ]
    },
    {
     "name": "stdout",
     "output_type": "stream",
     "text": [
      "day:\t 2022-12-25\n"
     ]
    },
    {
     "name": "stderr",
     "output_type": "stream",
     "text": [
      "                                                                                \r"
     ]
    },
    {
     "name": "stdout",
     "output_type": "stream",
     "text": [
      "day:\t 2022-12-26\n"
     ]
    },
    {
     "name": "stderr",
     "output_type": "stream",
     "text": [
      "                                                                                \r"
     ]
    },
    {
     "name": "stdout",
     "output_type": "stream",
     "text": [
      "day:\t 2022-12-27\n"
     ]
    },
    {
     "name": "stderr",
     "output_type": "stream",
     "text": [
      "2023-01-30 14:59:25,503 WARN datasources.SharedInMemoryCache: Evicting cached table partition metadata from memory due to size constraints (spark.sql.hive.filesourcePartitionFileCacheSize = 262144000 bytes). This may impact query planning performance.\n"
     ]
    },
    {
     "name": "stdout",
     "output_type": "stream",
     "text": [
      "day:\t 2022-12-28\n"
     ]
    },
    {
     "name": "stderr",
     "output_type": "stream",
     "text": [
      "                                                                                \r"
     ]
    },
    {
     "name": "stdout",
     "output_type": "stream",
     "text": [
      "day:\t 2022-12-29\n"
     ]
    },
    {
     "name": "stderr",
     "output_type": "stream",
     "text": [
      "                                                                                \r"
     ]
    },
    {
     "name": "stdout",
     "output_type": "stream",
     "text": [
      "day:\t 2022-12-30\n"
     ]
    },
    {
     "name": "stderr",
     "output_type": "stream",
     "text": [
      "                                                                                \r"
     ]
    },
    {
     "name": "stdout",
     "output_type": "stream",
     "text": [
      "day:\t 2022-12-31\n"
     ]
    },
    {
     "name": "stderr",
     "output_type": "stream",
     "text": [
      "                                                                                \r"
     ]
    }
   ],
   "source": [
    "# Lấy top 10 phim bộ được xem mỗi ngày trên smarttv dựa theo đếm số lượt xem\n",
    "\n",
    "total_view_LogId111_smarttv = 0\n",
    "ls_view_LogId111_each_day_smarttv = []\n",
    "\n",
    "dict_top_10_phimbo_smarttv_each_day_by_count_duration = dict()\n",
    "\n",
    "for day, path_hdfs_1_day_smarttv in zip(ls_day, path_hdfs_smarttv):\n",
    "    print(\"day:\\t\", day)\n",
    "    df_smarttv = spark.read.orc(path_hdfs_1_day_smarttv)\n",
    "    \n",
    "    df_smarttv = df_smarttv.filter(lower(col('AppName')) == \"phim bộ\")\n",
    "    df_grb_smarttv = df_smarttv.groupby(\"ItemId\").agg(ps_count('duration').alias(\"count_duration\"), ps_sum('duration').alias(\"sum_duration\"))\n",
    "    df_grb_smarttv = df_grb_smarttv.sort(col('count_duration').desc())\n",
    "    df_smarttv = df_grb_smarttv.limit(20).toPandas()\n",
    "\n",
    "    df_smarttv = df_smarttv[df_smarttv[\"ItemId\"].apply(len) > 12]\n",
    "    df_smarttv = df_smarttv.reset_index(drop=True)\n",
    "    df_smarttv = df_smarttv.iloc[:10]\n",
    "\n",
    "    dict_title_title_vie = get_title_title_vie(ls_idx = df_smarttv[\"ItemId\"])\n",
    "    df_smarttv[\"title\"] = dict_title_title_vie[\"title\"]\n",
    "    df_smarttv[\"title_vie\"] = dict_title_title_vie[\"title_vie\"]\n",
    "\n",
    "    info = df_smarttv.to_dict(orient='records')\n",
    "    dict_top_10_phimbo_smarttv_each_day_by_count_duration.update({day:info})\n",
    "\n",
    "write_json(r\"{}/{}.json\".format(config.folder_save_json, \"dict_top_10_phimbo_smarttv_each_day_by_count_duration\"), dict_top_10_phimbo_smarttv_each_day_by_count_duration)"
   ]
  },
  {
   "cell_type": "code",
   "execution_count": 40,
   "metadata": {},
   "outputs": [],
   "source": [
    "ls_top_10_phim_bo_all_device = []\n",
    "for dict_device in dict_top_10_phimbo_mobile_each_day_by_count_duration, dict_top_10_phimbo_box_each_day_by_count_duration, dict_top_10_phimbo_smarttv_each_day_by_count_duration:\n",
    "    for day in dict_device:\n",
    "        info_1_day = dict_device[day]\n",
    "        ls_title_vie = [e[\"title_vie\"] for e in info_1_day]\n",
    "        ls_top_10_phim_bo_all_device += ls_title_vie\n",
    "\n",
    "ls_top_10_phim_bo_all_device = list(set(ls_top_10_phim_bo_all_device))"
   ]
  },
  {
   "cell_type": "code",
   "execution_count": 41,
   "metadata": {},
   "outputs": [],
   "source": [
    "df_top_10_all_device = pd.DataFrame(data = np.zeros((len(ls_top_10_phim_bo_all_device), 3), dtype = int), columns = [\"mobile\", \"box\", \"smarttv\"], index = ls_top_10_phim_bo_all_device)\n",
    "\n",
    "for dict_device, device in zip([dict_top_10_phimbo_mobile_each_day_by_count_duration, dict_top_10_phimbo_box_each_day_by_count_duration, dict_top_10_phimbo_smarttv_each_day_by_count_duration], device_ordering):\n",
    "    for day in dict_device:\n",
    "        info_1_day = dict_device[day]\n",
    "        for item in info_1_day:  \n",
    "            df_top_10_all_device.loc[item[\"title_vie\"], device] += item[\"count_duration\"]"
   ]
  },
  {
   "cell_type": "code",
   "execution_count": 42,
   "metadata": {},
   "outputs": [
    {
     "data": {
      "text/html": [
       "<div>\n",
       "<style scoped>\n",
       "    .dataframe tbody tr th:only-of-type {\n",
       "        vertical-align: middle;\n",
       "    }\n",
       "\n",
       "    .dataframe tbody tr th {\n",
       "        vertical-align: top;\n",
       "    }\n",
       "\n",
       "    .dataframe thead th {\n",
       "        text-align: right;\n",
       "    }\n",
       "</style>\n",
       "<table border=\"1\" class=\"dataframe\">\n",
       "  <thead>\n",
       "    <tr style=\"text-align: right;\">\n",
       "      <th></th>\n",
       "      <th>mobile</th>\n",
       "      <th>box</th>\n",
       "      <th>smarttv</th>\n",
       "    </tr>\n",
       "  </thead>\n",
       "  <tbody>\n",
       "    <tr>\n",
       "      <th>Những Quý Cô Say Xỉn (Phần 2)</th>\n",
       "      <td>0</td>\n",
       "      <td>682</td>\n",
       "      <td>1067</td>\n",
       "    </tr>\n",
       "    <tr>\n",
       "      <th>Dòng Máu Trăng Hoa</th>\n",
       "      <td>26890</td>\n",
       "      <td>15844</td>\n",
       "      <td>52978</td>\n",
       "    </tr>\n",
       "    <tr>\n",
       "      <th>Hướng Gió Mà Đi</th>\n",
       "      <td>3079</td>\n",
       "      <td>2113</td>\n",
       "      <td>4373</td>\n",
       "    </tr>\n",
       "    <tr>\n",
       "      <th>Vô Tình Nhặt Được Tổng Tài</th>\n",
       "      <td>4173</td>\n",
       "      <td>0</td>\n",
       "      <td>0</td>\n",
       "    </tr>\n",
       "    <tr>\n",
       "      <th>Cuộc Chiến Những Ngôi Sao</th>\n",
       "      <td>4720</td>\n",
       "      <td>0</td>\n",
       "      <td>0</td>\n",
       "    </tr>\n",
       "    <tr>\n",
       "      <th>Người Theo Đuổi Ánh Sáng</th>\n",
       "      <td>838</td>\n",
       "      <td>0</td>\n",
       "      <td>5957</td>\n",
       "    </tr>\n",
       "    <tr>\n",
       "      <th>Nghĩa Kỳ Quân Thân Yêu</th>\n",
       "      <td>1852</td>\n",
       "      <td>0</td>\n",
       "      <td>0</td>\n",
       "    </tr>\n",
       "    <tr>\n",
       "      <th>Rừng Hoa Rực Lửa</th>\n",
       "      <td>24572</td>\n",
       "      <td>987</td>\n",
       "      <td>2287</td>\n",
       "    </tr>\n",
       "    <tr>\n",
       "      <th>Ai Cũng Biết Em Yêu Anh</th>\n",
       "      <td>6752</td>\n",
       "      <td>1593</td>\n",
       "      <td>26330</td>\n",
       "    </tr>\n",
       "    <tr>\n",
       "      <th>Lấy Danh Nghĩa Người Nhà</th>\n",
       "      <td>0</td>\n",
       "      <td>1907</td>\n",
       "      <td>0</td>\n",
       "    </tr>\n",
       "    <tr>\n",
       "      <th>Quốc Sắc Thiên Hương</th>\n",
       "      <td>413</td>\n",
       "      <td>0</td>\n",
       "      <td>0</td>\n",
       "    </tr>\n",
       "    <tr>\n",
       "      <th>Thiếu Niên Dương Gia Tướng</th>\n",
       "      <td>750</td>\n",
       "      <td>11529</td>\n",
       "      <td>18359</td>\n",
       "    </tr>\n",
       "    <tr>\n",
       "      <th>Cuộc Sống Tình Yêu Dí Dỏm</th>\n",
       "      <td>3667</td>\n",
       "      <td>0</td>\n",
       "      <td>0</td>\n",
       "    </tr>\n",
       "    <tr>\n",
       "      <th>Mashimaro (Phần 1)</th>\n",
       "      <td>0</td>\n",
       "      <td>2219</td>\n",
       "      <td>0</td>\n",
       "    </tr>\n",
       "    <tr>\n",
       "      <th>Yên Chi</th>\n",
       "      <td>0</td>\n",
       "      <td>1069</td>\n",
       "      <td>0</td>\n",
       "    </tr>\n",
       "    <tr>\n",
       "      <th>Bậc Thầy Tình Dục (Phần 1)</th>\n",
       "      <td>0</td>\n",
       "      <td>6523</td>\n",
       "      <td>9083</td>\n",
       "    </tr>\n",
       "    <tr>\n",
       "      <th>Bóng Đen Tình Ái</th>\n",
       "      <td>4674</td>\n",
       "      <td>6169</td>\n",
       "      <td>22326</td>\n",
       "    </tr>\n",
       "    <tr>\n",
       "      <th>Mật Mã Lệch Lạc</th>\n",
       "      <td>1127</td>\n",
       "      <td>275</td>\n",
       "      <td>0</td>\n",
       "    </tr>\n",
       "    <tr>\n",
       "      <th>Yêu Từng Centimet</th>\n",
       "      <td>1990</td>\n",
       "      <td>0</td>\n",
       "      <td>0</td>\n",
       "    </tr>\n",
       "    <tr>\n",
       "      <th>Mặt Trái Của Mất Tích (Phần 2)</th>\n",
       "      <td>0</td>\n",
       "      <td>1419</td>\n",
       "      <td>4086</td>\n",
       "    </tr>\n",
       "    <tr>\n",
       "      <th>Xin Chào, Ngày Hôm Qua</th>\n",
       "      <td>864</td>\n",
       "      <td>759</td>\n",
       "      <td>769</td>\n",
       "    </tr>\n",
       "    <tr>\n",
       "      <th>Bậc Thầy Tình Dục (Phần 2)</th>\n",
       "      <td>0</td>\n",
       "      <td>6021</td>\n",
       "      <td>8054</td>\n",
       "    </tr>\n",
       "    <tr>\n",
       "      <th>Khanh Khanh Nhật Thường</th>\n",
       "      <td>72559</td>\n",
       "      <td>30000</td>\n",
       "      <td>111367</td>\n",
       "    </tr>\n",
       "    <tr>\n",
       "      <th>Công Chúa Ngổ Ngáo: Người Đẹp Ngủ Trong Rừng</th>\n",
       "      <td>452</td>\n",
       "      <td>347</td>\n",
       "      <td>0</td>\n",
       "    </tr>\n",
       "    <tr>\n",
       "      <th>Nguyệt Ca Hành</th>\n",
       "      <td>320</td>\n",
       "      <td>3745</td>\n",
       "      <td>7281</td>\n",
       "    </tr>\n",
       "    <tr>\n",
       "      <th>Trầm Thụy Hoa Viên</th>\n",
       "      <td>5055</td>\n",
       "      <td>1620</td>\n",
       "      <td>3703</td>\n",
       "    </tr>\n",
       "    <tr>\n",
       "      <th>Hạnh Phúc Đến Vạn Gia</th>\n",
       "      <td>0</td>\n",
       "      <td>740</td>\n",
       "      <td>0</td>\n",
       "    </tr>\n",
       "    <tr>\n",
       "      <th>Trợ Lý Thiên Vương</th>\n",
       "      <td>4835</td>\n",
       "      <td>0</td>\n",
       "      <td>0</td>\n",
       "    </tr>\n",
       "    <tr>\n",
       "      <th>Định Luật 80/20 Của Tình Yêu</th>\n",
       "      <td>54721</td>\n",
       "      <td>20915</td>\n",
       "      <td>83503</td>\n",
       "    </tr>\n",
       "    <tr>\n",
       "      <th>Trộm Phải Tim Chàng</th>\n",
       "      <td>427</td>\n",
       "      <td>363</td>\n",
       "      <td>721</td>\n",
       "    </tr>\n",
       "    <tr>\n",
       "      <th>Chân Tình Này Mẹ Không Ưng</th>\n",
       "      <td>2403</td>\n",
       "      <td>0</td>\n",
       "      <td>0</td>\n",
       "    </tr>\n",
       "    <tr>\n",
       "      <th>Yêu Nhầm Chị Dâu</th>\n",
       "      <td>3997</td>\n",
       "      <td>0</td>\n",
       "      <td>0</td>\n",
       "    </tr>\n",
       "    <tr>\n",
       "      <th>Vua Bóng Đá Pelé - Huyền Thoại Bất Tử</th>\n",
       "      <td>0</td>\n",
       "      <td>533</td>\n",
       "      <td>0</td>\n",
       "    </tr>\n",
       "    <tr>\n",
       "      <th>Bông Hoa Dục Vọng</th>\n",
       "      <td>0</td>\n",
       "      <td>1106</td>\n",
       "      <td>0</td>\n",
       "    </tr>\n",
       "    <tr>\n",
       "      <th>Cổ Tay Áo Màu Đỏ</th>\n",
       "      <td>2515</td>\n",
       "      <td>0</td>\n",
       "      <td>0</td>\n",
       "    </tr>\n",
       "    <tr>\n",
       "      <th>Mộng Hồ Điệp</th>\n",
       "      <td>5290</td>\n",
       "      <td>0</td>\n",
       "      <td>0</td>\n",
       "    </tr>\n",
       "    <tr>\n",
       "      <th>Tinh Hà Trường Minh</th>\n",
       "      <td>28446</td>\n",
       "      <td>15539</td>\n",
       "      <td>49518</td>\n",
       "    </tr>\n",
       "    <tr>\n",
       "      <th>Vé Xem Phim Chuyện Tình Đã Qua</th>\n",
       "      <td>366</td>\n",
       "      <td>332</td>\n",
       "      <td>0</td>\n",
       "    </tr>\n",
       "    <tr>\n",
       "      <th>Định Chế Hạnh Phúc</th>\n",
       "      <td>313</td>\n",
       "      <td>1271</td>\n",
       "      <td>6714</td>\n",
       "    </tr>\n",
       "    <tr>\n",
       "      <th>Phi Hồ Ngoại Truyện</th>\n",
       "      <td>0</td>\n",
       "      <td>2511</td>\n",
       "      <td>1820</td>\n",
       "    </tr>\n",
       "    <tr>\n",
       "      <th>Cứu Tinh Đời Tôi</th>\n",
       "      <td>8552</td>\n",
       "      <td>5631</td>\n",
       "      <td>13823</td>\n",
       "    </tr>\n",
       "    <tr>\n",
       "      <th>Võ Tắc Thiên</th>\n",
       "      <td>0</td>\n",
       "      <td>3564</td>\n",
       "      <td>0</td>\n",
       "    </tr>\n",
       "    <tr>\n",
       "      <th>Tinh Hà Xán Lạn</th>\n",
       "      <td>47908</td>\n",
       "      <td>14694</td>\n",
       "      <td>44802</td>\n",
       "    </tr>\n",
       "    <tr>\n",
       "      <th>Ân Oán Tình Thù</th>\n",
       "      <td>0</td>\n",
       "      <td>23430</td>\n",
       "      <td>0</td>\n",
       "    </tr>\n",
       "    <tr>\n",
       "      <th>Vân Tịch Truyện</th>\n",
       "      <td>0</td>\n",
       "      <td>1986</td>\n",
       "      <td>0</td>\n",
       "    </tr>\n",
       "    <tr>\n",
       "      <th>Hoàng Hậu Cuối Cùng</th>\n",
       "      <td>1558</td>\n",
       "      <td>1398</td>\n",
       "      <td>0</td>\n",
       "    </tr>\n",
       "    <tr>\n",
       "      <th>Nhất Kiến Khuynh Tâm</th>\n",
       "      <td>2189</td>\n",
       "      <td>0</td>\n",
       "      <td>0</td>\n",
       "    </tr>\n",
       "  </tbody>\n",
       "</table>\n",
       "</div>"
      ],
      "text/plain": [
       "                                              mobile    box  smarttv\n",
       "Những Quý Cô Say Xỉn (Phần 2)                      0    682     1067\n",
       "Dòng Máu Trăng Hoa                             26890  15844    52978\n",
       "Hướng Gió Mà Đi                                 3079   2113     4373\n",
       "Vô Tình Nhặt Được Tổng Tài                      4173      0        0\n",
       "Cuộc Chiến Những Ngôi Sao                       4720      0        0\n",
       "Người Theo Đuổi Ánh Sáng                         838      0     5957\n",
       "Nghĩa Kỳ Quân Thân Yêu                          1852      0        0\n",
       "Rừng Hoa Rực Lửa                               24572    987     2287\n",
       "Ai Cũng Biết Em Yêu Anh                         6752   1593    26330\n",
       "Lấy Danh Nghĩa Người Nhà                           0   1907        0\n",
       "Quốc Sắc Thiên Hương                             413      0        0\n",
       "Thiếu Niên Dương Gia Tướng                       750  11529    18359\n",
       "Cuộc Sống Tình Yêu Dí Dỏm                       3667      0        0\n",
       "Mashimaro (Phần 1)                                 0   2219        0\n",
       "Yên Chi                                            0   1069        0\n",
       "Bậc Thầy Tình Dục (Phần 1)                         0   6523     9083\n",
       "Bóng Đen Tình Ái                                4674   6169    22326\n",
       "Mật Mã Lệch Lạc                                 1127    275        0\n",
       "Yêu Từng Centimet                               1990      0        0\n",
       "Mặt Trái Của Mất Tích (Phần 2)                     0   1419     4086\n",
       "Xin Chào, Ngày Hôm Qua                           864    759      769\n",
       "Bậc Thầy Tình Dục (Phần 2)                         0   6021     8054\n",
       "Khanh Khanh Nhật Thường                        72559  30000   111367\n",
       "Công Chúa Ngổ Ngáo: Người Đẹp Ngủ Trong Rừng     452    347        0\n",
       "Nguyệt Ca Hành                                   320   3745     7281\n",
       "Trầm Thụy Hoa Viên                              5055   1620     3703\n",
       "Hạnh Phúc Đến Vạn Gia                              0    740        0\n",
       "Trợ Lý Thiên Vương                              4835      0        0\n",
       "Định Luật 80/20 Của Tình Yêu                   54721  20915    83503\n",
       "Trộm Phải Tim Chàng                              427    363      721\n",
       "Chân Tình Này Mẹ Không Ưng                      2403      0        0\n",
       "Yêu Nhầm Chị Dâu                                3997      0        0\n",
       "Vua Bóng Đá Pelé - Huyền Thoại Bất Tử              0    533        0\n",
       "Bông Hoa Dục Vọng                                  0   1106        0\n",
       "Cổ Tay Áo Màu Đỏ                                2515      0        0\n",
       "Mộng Hồ Điệp                                    5290      0        0\n",
       "Tinh Hà Trường Minh                            28446  15539    49518\n",
       "Vé Xem Phim Chuyện Tình Đã Qua                   366    332        0\n",
       "Định Chế Hạnh Phúc                               313   1271     6714\n",
       "Phi Hồ Ngoại Truyện                                0   2511     1820\n",
       "Cứu Tinh Đời Tôi                                8552   5631    13823\n",
       "Võ Tắc Thiên                                       0   3564        0\n",
       "Tinh Hà Xán Lạn                                47908  14694    44802\n",
       "Ân Oán Tình Thù                                    0  23430        0\n",
       "Vân Tịch Truyện                                    0   1986        0\n",
       "Hoàng Hậu Cuối Cùng                             1558   1398        0\n",
       "Nhất Kiến Khuynh Tâm                            2189      0        0"
      ]
     },
     "execution_count": 42,
     "metadata": {},
     "output_type": "execute_result"
    }
   ],
   "source": [
    "df_top_10_all_device"
   ]
  },
  {
   "cell_type": "code",
   "execution_count": 43,
   "metadata": {},
   "outputs": [
    {
     "data": {
      "image/png": "[encoded data removed]",
      "text/plain": [
       "<Figure size 1800x720 with 1 Axes>"
      ]
     },
     "metadata": {
      "needs_background": "light"
     },
     "output_type": "display_data"
    }
   ],
   "source": [
    "df_top_10_all_device.plot(kind = 'barh', \n",
    "                          stacked = True, \n",
    "                          title = 'Percentage Stacked Bar Graph', \n",
    "                          mark_right = True,\n",
    "                          figsize=(25, 10))\n",
    "plt.grid(axis='x')"
   ]
  },
  {
   "cell_type": "code",
   "execution_count": null,
   "metadata": {},
   "outputs": [],
   "source": []
  },
  {
   "cell_type": "code",
   "execution_count": null,
   "metadata": {},
   "outputs": [],
   "source": []
  },
  {
   "cell_type": "code",
   "execution_count": null,
   "metadata": {},
   "outputs": [],
   "source": []
  },
  {
   "cell_type": "code",
   "execution_count": null,
   "metadata": {},
   "outputs": [],
   "source": []
  },
  {
   "cell_type": "code",
   "execution_count": null,
   "metadata": {},
   "outputs": [],
   "source": []
  },
  {
   "cell_type": "code",
   "execution_count": null,
   "metadata": {},
   "outputs": [],
   "source": []
  },
  {
   "cell_type": "code",
   "execution_count": null,
   "metadata": {},
   "outputs": [],
   "source": []
  },
  {
   "cell_type": "code",
   "execution_count": null,
   "metadata": {},
   "outputs": [],
   "source": []
  },
  {
   "cell_type": "code",
   "execution_count": null,
   "metadata": {},
   "outputs": [],
   "source": []
  },
  {
   "cell_type": "code",
   "execution_count": null,
   "metadata": {},
   "outputs": [],
   "source": []
  },
  {
   "cell_type": "code",
   "execution_count": null,
   "metadata": {},
   "outputs": [],
   "source": []
  }
 ],
 "metadata": {
  "kernelspec": {
   "display_name": "Python 3 (ipykernel)",
   "language": "python",
   "name": "python3"
  },
  "language_info": {
   "codemirror_mode": {
    "name": "ipython",
    "version": 3
   },
   "file_extension": ".py",
   "mimetype": "text/x-python",
   "name": "python",
   "nbconvert_exporter": "python",
   "pygments_lexer": "ipython3",
   "version": "3.9.13"
  },
  "vscode": {
   "interpreter": {
    "hash": "ab838d746e936e2f8ef53150fb7b0de11fc395013257f4f375d55cc06c8bf2e1"
   }
  }
 },
 "nbformat": 4,
 "nbformat_minor": 2
}
