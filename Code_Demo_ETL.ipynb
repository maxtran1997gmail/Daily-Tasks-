{
 "cells": [
  {
   "cell_type": "code",
   "execution_count": 18,
   "metadata": {},
   "outputs": [],
   "source": [
    "import pandas as pd\n",
    "import pyodbc\n",
    "import psycopg2\n",
    "import time \n",
    "import datetime"
   ]
  },
  {
   "cell_type": "code",
   "execution_count": 19,
   "metadata": {},
   "outputs": [],
   "source": [
    "conn = psycopg2.connect(\n",
    "    host=host,\n",
    "    database=database,\n",
    "    user=user,\n",
    "    password=password)"
   ]
  },
  {
   "cell_type": "code",
   "execution_count": 20,
   "metadata": {},
   "outputs": [],
   "source": [
    "query = \"\"\"SELECT a.id,\n",
    "           active_user_id,\n",
    "           REGEXP_REPLACE(a.active_user_phone,'^84','0') as user_phone,\n",
    "           code as employee_phone,\n",
    "           e.email as employee_email,\n",
    "           concat(e.last_name,' ',e.first_name) as employee_name,\n",
    "           to_char(date(a.created_at),'yyyy-mm-dd') as invoice_created_date,\n",
    "           code,\n",
    "           case\n",
    "               when cast(a.created_at as date) >= cast(s.created_at as date) then 'Đã Đăng Ký'\n",
    "               else 'Chưa Đăng Ký'\n",
    "                   end as Status,\n",
    "           sum(count) as total_view,\n",
    "           sum(duration) as total_duration\n",
    "    FROM payment_report.pnc_invoices a\n",
    "    left join payment_report.pnc_employees e on e.phone = a.code\n",
    "    left join ( select \"userIdSysMap\",\n",
    "                       status,\n",
    "                       phone,\n",
    "                       created_at,\n",
    "                       user_id,\n",
    "                       type,\n",
    "                       count,\n",
    "                       \"Date\" from payment_report.code_demo_view\n",
    "    ) b\n",
    "    ON active_user_id = \"userIdSysMap\" and b.\"Date\" >= to_char(date(a.created_at),'yyyy-mm-dd')\n",
    "    left join ( select user_id,\n",
    "                       sum(duration) as duration\n",
    "                from payment_report.duration_code_demo\n",
    "                group by user_id) c\n",
    "    on a.active_user_id = c.user_id\n",
    "    left join payment_report.sub_customers S on S.user_id = a.active_user_id\n",
    "    Where serial = 'IBB' and active_plan_id IN (3290)\n",
    "    group by a.id,active_user_id,a.created_at,duration,e.first_name,e.last_name,email,e.phone,s.created_at,code\n",
    "    order by invoice_created_date desc\"\"\""
   ]
  },
  {
   "cell_type": "code",
   "execution_count": 21,
   "metadata": {},
   "outputs": [],
   "source": [
    "postgre = pd.read_sql(query,conn)"
   ]
  },
  {
   "cell_type": "code",
   "execution_count": 22,
   "metadata": {},
   "outputs": [],
   "source": [
    "postgre = postgre.fillna(0)"
   ]
  },
  {
   "cell_type": "code",
   "execution_count": 23,
   "metadata": {},
   "outputs": [],
   "source": [
    "postgre = postgre.astype({\"total_view\":\"int\",\"total_duration\":\"int\"})"
   ]
  },
  {
   "cell_type": "code",
   "execution_count": 24,
   "metadata": {},
   "outputs": [],
   "source": [
    "result = postgre[(postgre['total_view']>=20)&(postgre['status'] == 'Chưa Đăng Ký')]"
   ]
  },
  {
   "cell_type": "code",
   "execution_count": 25,
   "metadata": {},
   "outputs": [],
   "source": [
    "result = result[['id','active_user_id','user_phone','employee_phone','employee_email','employee_name','invoice_created_date']]"
   ]
  },
  {
   "cell_type": "code",
   "execution_count": 26,
   "metadata": {},
   "outputs": [],
   "source": [
    "a = datetime.datetime.now()\n",
    "a = datetime.datetime.strftime(a,\"%Y-%m-%d\")"
   ]
  },
  {
   "cell_type": "code",
   "execution_count": 29,
   "metadata": {},
   "outputs": [],
   "source": [
    "server = server\n",
    "database = database\n",
    "username = username\n",
    "password = password\n",
    "cnxn = pyodbc.connect('DRIVER={ODBC Driver 17 for SQL Server};SERVER='+server+';DATABASE='+database+';UID='+username+';PWD='+ password)"
   ]
  },
  {
   "cell_type": "code",
   "execution_count": 30,
   "metadata": {},
   "outputs": [],
   "source": [
    "query = \"\"\"select * from OTT_Code_Demo\"\"\""
   ]
  },
  {
   "cell_type": "code",
   "execution_count": 31,
   "metadata": {},
   "outputs": [],
   "source": [
    "data = pd.read_sql(query,cnxn)"
   ]
  },
  {
   "cell_type": "code",
   "execution_count": 33,
   "metadata": {},
   "outputs": [
    {
     "data": {
      "text/html": [
       "<div>\n",
       "<style scoped>\n",
       "    .dataframe tbody tr th:only-of-type {\n",
       "        vertical-align: middle;\n",
       "    }\n",
       "\n",
       "    .dataframe tbody tr th {\n",
       "        vertical-align: top;\n",
       "    }\n",
       "\n",
       "    .dataframe thead th {\n",
       "        text-align: right;\n",
       "    }\n",
       "</style>\n",
       "<table border=\"1\" class=\"dataframe\">\n",
       "  <thead>\n",
       "    <tr style=\"text-align: right;\">\n",
       "      <th></th>\n",
       "      <th>id</th>\n",
       "      <th>active_user_id</th>\n",
       "      <th>user_phone</th>\n",
       "      <th>employee_phone</th>\n",
       "      <th>employee_email</th>\n",
       "      <th>employee_name</th>\n",
       "      <th>invoice_created_date</th>\n",
       "      <th>updated_at</th>\n",
       "    </tr>\n",
       "  </thead>\n",
       "  <tbody>\n",
       "    <tr>\n",
       "      <th>0</th>\n",
       "      <td>693</td>\n",
       "      <td>27246696</td>\n",
       "      <td>0943915903</td>\n",
       "      <td>0865087383</td>\n",
       "      <td>quantm3@fpt.com.vn</td>\n",
       "      <td>Tran Minh Quan</td>\n",
       "      <td>2022-06-14</td>\n",
       "      <td>2022-06-14</td>\n",
       "    </tr>\n",
       "    <tr>\n",
       "      <th>1</th>\n",
       "      <td>693</td>\n",
       "      <td>27246696</td>\n",
       "      <td>0943915903</td>\n",
       "      <td>0865087383</td>\n",
       "      <td>thuydb5@fpt.com.vn</td>\n",
       "      <td>Duong Bich Thuy</td>\n",
       "      <td>2022-06-14</td>\n",
       "      <td>2022-06-14</td>\n",
       "    </tr>\n",
       "    <tr>\n",
       "      <th>2</th>\n",
       "      <td>693</td>\n",
       "      <td>27246696</td>\n",
       "      <td>0943915903</td>\n",
       "      <td>0865087383</td>\n",
       "      <td>manntm4@fpt.com.vn</td>\n",
       "      <td>Nguyen Thi Minh Man</td>\n",
       "      <td>2022-06-14</td>\n",
       "      <td>2022-06-14</td>\n",
       "    </tr>\n",
       "    <tr>\n",
       "      <th>3</th>\n",
       "      <td>69256</td>\n",
       "      <td>29972223</td>\n",
       "      <td>0904066364</td>\n",
       "      <td>0977022591</td>\n",
       "      <td>HanhPT12@fpt.com.vn</td>\n",
       "      <td>Phùng Th? H?nh</td>\n",
       "      <td>2022-06-13</td>\n",
       "      <td>2022-06-14</td>\n",
       "    </tr>\n",
       "    <tr>\n",
       "      <th>4</th>\n",
       "      <td>69240</td>\n",
       "      <td>13106993</td>\n",
       "      <td>0929222095</td>\n",
       "      <td>0352003094</td>\n",
       "      <td>Huyennt129@fpt.com.vn</td>\n",
       "      <td>Huy?n  Nguy?n Th?</td>\n",
       "      <td>2022-06-13</td>\n",
       "      <td>2022-06-14</td>\n",
       "    </tr>\n",
       "    <tr>\n",
       "      <th>...</th>\n",
       "      <td>...</td>\n",
       "      <td>...</td>\n",
       "      <td>...</td>\n",
       "      <td>...</td>\n",
       "      <td>...</td>\n",
       "      <td>...</td>\n",
       "      <td>...</td>\n",
       "      <td>...</td>\n",
       "    </tr>\n",
       "    <tr>\n",
       "      <th>14582</th>\n",
       "      <td>693</td>\n",
       "      <td>27246696</td>\n",
       "      <td>0943915903</td>\n",
       "      <td>0865087383</td>\n",
       "      <td>longth17@fpt.com.vn</td>\n",
       "      <td>Tran Hoang Long</td>\n",
       "      <td>2022-06-14</td>\n",
       "      <td>2022-06-14</td>\n",
       "    </tr>\n",
       "    <tr>\n",
       "      <th>14583</th>\n",
       "      <td>788</td>\n",
       "      <td>23500780</td>\n",
       "      <td>0399568943</td>\n",
       "      <td>0862469688</td>\n",
       "      <td>tuanlq21@fpt.com.vn</td>\n",
       "      <td>Lâm Qu?c  Tu?n</td>\n",
       "      <td>2021-09-26</td>\n",
       "      <td>2022-06-14</td>\n",
       "    </tr>\n",
       "    <tr>\n",
       "      <th>14584</th>\n",
       "      <td>697</td>\n",
       "      <td>7255661</td>\n",
       "      <td>0988032759</td>\n",
       "      <td>0988032759</td>\n",
       "      <td>Thanhlv32@fpt.com.vn</td>\n",
       "      <td>Lê Van Thành</td>\n",
       "      <td>2021-09-25</td>\n",
       "      <td>2022-06-14</td>\n",
       "    </tr>\n",
       "    <tr>\n",
       "      <th>14585</th>\n",
       "      <td>692</td>\n",
       "      <td>27133227</td>\n",
       "      <td>0904568385</td>\n",
       "      <td>0359487408</td>\n",
       "      <td>NamNT58@fpt.com.vn</td>\n",
       "      <td>Nguy?n Ti?n Nam Nam</td>\n",
       "      <td>2021-09-25</td>\n",
       "      <td>2022-06-14</td>\n",
       "    </tr>\n",
       "    <tr>\n",
       "      <th>14586</th>\n",
       "      <td>685</td>\n",
       "      <td>4795974</td>\n",
       "      <td>0948059995</td>\n",
       "      <td>0834694333</td>\n",
       "      <td>quyennct@fpt.com.vn</td>\n",
       "      <td>Nguy?n Công Tr?ng Quy?n</td>\n",
       "      <td>2021-09-25</td>\n",
       "      <td>2022-06-14</td>\n",
       "    </tr>\n",
       "  </tbody>\n",
       "</table>\n",
       "<p>14587 rows × 8 columns</p>\n",
       "</div>"
      ],
      "text/plain": [
       "          id  active_user_id  user_phone employee_phone  \\\n",
       "0        693        27246696  0943915903     0865087383   \n",
       "1        693        27246696  0943915903     0865087383   \n",
       "2        693        27246696  0943915903     0865087383   \n",
       "3      69256        29972223  0904066364     0977022591   \n",
       "4      69240        13106993  0929222095     0352003094   \n",
       "...      ...             ...         ...            ...   \n",
       "14582    693        27246696  0943915903     0865087383   \n",
       "14583    788        23500780  0399568943     0862469688   \n",
       "14584    697         7255661  0988032759     0988032759   \n",
       "14585    692        27133227  0904568385     0359487408   \n",
       "14586    685         4795974  0948059995     0834694333   \n",
       "\n",
       "              employee_email            employee_name invoice_created_date  \\\n",
       "0         quantm3@fpt.com.vn           Tran Minh Quan           2022-06-14   \n",
       "1         thuydb5@fpt.com.vn          Duong Bich Thuy           2022-06-14   \n",
       "2         manntm4@fpt.com.vn      Nguyen Thi Minh Man           2022-06-14   \n",
       "3        HanhPT12@fpt.com.vn           Phùng Th? H?nh           2022-06-13   \n",
       "4      Huyennt129@fpt.com.vn       Huy?n  Nguy?n Th?            2022-06-13   \n",
       "...                      ...                      ...                  ...   \n",
       "14582    longth17@fpt.com.vn          Tran Hoang Long           2022-06-14   \n",
       "14583    tuanlq21@fpt.com.vn           Lâm Qu?c  Tu?n           2021-09-26   \n",
       "14584   Thanhlv32@fpt.com.vn             Lê Van Thành           2021-09-25   \n",
       "14585     NamNT58@fpt.com.vn      Nguy?n Ti?n Nam Nam           2021-09-25   \n",
       "14586    quyennct@fpt.com.vn  Nguy?n Công Tr?ng Quy?n           2021-09-25   \n",
       "\n",
       "       updated_at  \n",
       "0      2022-06-14  \n",
       "1      2022-06-14  \n",
       "2      2022-06-14  \n",
       "3      2022-06-14  \n",
       "4      2022-06-14  \n",
       "...           ...  \n",
       "14582  2022-06-14  \n",
       "14583  2022-06-14  \n",
       "14584  2022-06-14  \n",
       "14585  2022-06-14  \n",
       "14586  2022-06-14  \n",
       "\n",
       "[14587 rows x 8 columns]"
      ]
     },
     "execution_count": 33,
     "metadata": {},
     "output_type": "execute_result"
    }
   ],
   "source": [
    "data"
   ]
  },
  {
   "cell_type": "code",
   "execution_count": 40,
   "metadata": {},
   "outputs": [
    {
     "data": {
      "text/html": [
       "<div>\n",
       "<style scoped>\n",
       "    .dataframe tbody tr th:only-of-type {\n",
       "        vertical-align: middle;\n",
       "    }\n",
       "\n",
       "    .dataframe tbody tr th {\n",
       "        vertical-align: top;\n",
       "    }\n",
       "\n",
       "    .dataframe thead th {\n",
       "        text-align: right;\n",
       "    }\n",
       "</style>\n",
       "<table border=\"1\" class=\"dataframe\">\n",
       "  <thead>\n",
       "    <tr style=\"text-align: right;\">\n",
       "      <th></th>\n",
       "      <th>id</th>\n",
       "      <th>active_user_id</th>\n",
       "      <th>user_phone</th>\n",
       "      <th>employee_phone</th>\n",
       "      <th>employee_email</th>\n",
       "      <th>employee_name</th>\n",
       "      <th>invoice_created_date</th>\n",
       "      <th>updated_at</th>\n",
       "    </tr>\n",
       "  </thead>\n",
       "  <tbody>\n",
       "    <tr>\n",
       "      <th>4</th>\n",
       "      <td>69240</td>\n",
       "      <td>13106993</td>\n",
       "      <td>0929222095</td>\n",
       "      <td>0352003094</td>\n",
       "      <td>Huyennt129@fpt.com.vn</td>\n",
       "      <td>Huy?n  Nguy?n Th?</td>\n",
       "      <td>2022-06-13</td>\n",
       "      <td>2022-06-14</td>\n",
       "    </tr>\n",
       "  </tbody>\n",
       "</table>\n",
       "</div>"
      ],
      "text/plain": [
       "      id  active_user_id  user_phone employee_phone         employee_email  \\\n",
       "4  69240        13106993  0929222095     0352003094  Huyennt129@fpt.com.vn   \n",
       "\n",
       "        employee_name invoice_created_date  updated_at  \n",
       "4  Huy?n  Nguy?n Th?            2022-06-13  2022-06-14  "
      ]
     },
     "execution_count": 40,
     "metadata": {},
     "output_type": "execute_result"
    }
   ],
   "source": [
    "data[data['id'] == 69240]"
   ]
  },
  {
   "cell_type": "code",
   "execution_count": 34,
   "metadata": {},
   "outputs": [],
   "source": [
    "list_id = data['id'].to_list()"
   ]
  },
  {
   "cell_type": "code",
   "execution_count": 38,
   "metadata": {},
   "outputs": [
    {
     "data": {
      "text/plain": [
       "14587"
      ]
     },
     "execution_count": 38,
     "metadata": {},
     "output_type": "execute_result"
    }
   ],
   "source": [
    "len(list_id)"
   ]
  },
  {
   "cell_type": "code",
   "execution_count": 35,
   "metadata": {},
   "outputs": [],
   "source": [
    "result = result[~result['id'].isin(list_id)]"
   ]
  },
  {
   "cell_type": "code",
   "execution_count": 36,
   "metadata": {},
   "outputs": [
    {
     "data": {
      "text/html": [
       "<div>\n",
       "<style scoped>\n",
       "    .dataframe tbody tr th:only-of-type {\n",
       "        vertical-align: middle;\n",
       "    }\n",
       "\n",
       "    .dataframe tbody tr th {\n",
       "        vertical-align: top;\n",
       "    }\n",
       "\n",
       "    .dataframe thead th {\n",
       "        text-align: right;\n",
       "    }\n",
       "</style>\n",
       "<table border=\"1\" class=\"dataframe\">\n",
       "  <thead>\n",
       "    <tr style=\"text-align: right;\">\n",
       "      <th></th>\n",
       "      <th>id</th>\n",
       "      <th>active_user_id</th>\n",
       "      <th>user_phone</th>\n",
       "      <th>employee_phone</th>\n",
       "      <th>employee_email</th>\n",
       "      <th>employee_name</th>\n",
       "      <th>invoice_created_date</th>\n",
       "      <th>updated_at</th>\n",
       "    </tr>\n",
       "  </thead>\n",
       "  <tbody>\n",
       "    <tr>\n",
       "      <th>22225</th>\n",
       "      <td>47288</td>\n",
       "      <td>18666174</td>\n",
       "      <td>0788350789</td>\n",
       "      <td>0788350789</td>\n",
       "      <td>luanta2@fpt.com.vn</td>\n",
       "      <td>Trần Anh  Luân</td>\n",
       "      <td>2022-03-17</td>\n",
       "      <td>2022-06-15</td>\n",
       "    </tr>\n",
       "    <tr>\n",
       "      <th>44236</th>\n",
       "      <td>25486</td>\n",
       "      <td>18027032</td>\n",
       "      <td>0337921098</td>\n",
       "      <td>0978432998</td>\n",
       "      <td>DuyPT28@fpt.com.vn</td>\n",
       "      <td>Duy Phạm Tuấn</td>\n",
       "      <td>2022-01-20</td>\n",
       "      <td>2022-06-15</td>\n",
       "    </tr>\n",
       "  </tbody>\n",
       "</table>\n",
       "</div>"
      ],
      "text/plain": [
       "          id  active_user_id  user_phone employee_phone      employee_email  \\\n",
       "22225  47288        18666174  0788350789     0788350789  luanta2@fpt.com.vn   \n",
       "44236  25486        18027032  0337921098     0978432998  DuyPT28@fpt.com.vn   \n",
       "\n",
       "        employee_name invoice_created_date  updated_at  \n",
       "22225  Trần Anh  Luân           2022-03-17  2022-06-15  \n",
       "44236  Duy Phạm Tuấn            2022-01-20  2022-06-15  "
      ]
     },
     "execution_count": 36,
     "metadata": {},
     "output_type": "execute_result"
    }
   ],
   "source": [
    "result"
   ]
  },
  {
   "cell_type": "code",
   "execution_count": 27,
   "metadata": {},
   "outputs": [],
   "source": [
    "result['updated_at'] = a"
   ]
  },
  {
   "cell_type": "code",
   "execution_count": 28,
   "metadata": {},
   "outputs": [
    {
     "data": {
      "text/html": [
       "<div>\n",
       "<style scoped>\n",
       "    .dataframe tbody tr th:only-of-type {\n",
       "        vertical-align: middle;\n",
       "    }\n",
       "\n",
       "    .dataframe tbody tr th {\n",
       "        vertical-align: top;\n",
       "    }\n",
       "\n",
       "    .dataframe thead th {\n",
       "        text-align: right;\n",
       "    }\n",
       "</style>\n",
       "<table border=\"1\" class=\"dataframe\">\n",
       "  <thead>\n",
       "    <tr style=\"text-align: right;\">\n",
       "      <th></th>\n",
       "      <th>id</th>\n",
       "      <th>active_user_id</th>\n",
       "      <th>user_phone</th>\n",
       "      <th>employee_phone</th>\n",
       "      <th>employee_email</th>\n",
       "      <th>employee_name</th>\n",
       "      <th>invoice_created_date</th>\n",
       "      <th>updated_at</th>\n",
       "    </tr>\n",
       "  </thead>\n",
       "  <tbody>\n",
       "    <tr>\n",
       "      <th>55</th>\n",
       "      <td>69240</td>\n",
       "      <td>13106993</td>\n",
       "      <td>0929222095</td>\n",
       "      <td>0352003094</td>\n",
       "      <td>Huyennt129@fpt.com.vn</td>\n",
       "      <td>Huyền  Nguyễn Thị</td>\n",
       "      <td>2022-06-13</td>\n",
       "      <td>2022-06-15</td>\n",
       "    </tr>\n",
       "    <tr>\n",
       "      <th>97</th>\n",
       "      <td>69256</td>\n",
       "      <td>29972223</td>\n",
       "      <td>0904066364</td>\n",
       "      <td>0977022591</td>\n",
       "      <td>HanhPT12@fpt.com.vn</td>\n",
       "      <td>Phùng Thị Hạnh</td>\n",
       "      <td>2022-06-13</td>\n",
       "      <td>2022-06-15</td>\n",
       "    </tr>\n",
       "    <tr>\n",
       "      <th>107</th>\n",
       "      <td>69203</td>\n",
       "      <td>3865804</td>\n",
       "      <td>0372331799</td>\n",
       "      <td>0941404582</td>\n",
       "      <td>Dongtv6@fpt.com.vn</td>\n",
       "      <td>Trương Văn Đông</td>\n",
       "      <td>2022-06-12</td>\n",
       "      <td>2022-06-15</td>\n",
       "    </tr>\n",
       "    <tr>\n",
       "      <th>115</th>\n",
       "      <td>69236</td>\n",
       "      <td>6430459</td>\n",
       "      <td>0962742730</td>\n",
       "      <td>0968178998</td>\n",
       "      <td>Duongnd4@fpt.com.vn</td>\n",
       "      <td>Dương Nguyễn Đức</td>\n",
       "      <td>2022-06-12</td>\n",
       "      <td>2022-06-15</td>\n",
       "    </tr>\n",
       "    <tr>\n",
       "      <th>131</th>\n",
       "      <td>69219</td>\n",
       "      <td>30221741</td>\n",
       "      <td>0937150982</td>\n",
       "      <td>0988795663</td>\n",
       "      <td>thanhnm30@fpt.com.vn</td>\n",
       "      <td>Nguyễn Minh  Thành</td>\n",
       "      <td>2022-06-12</td>\n",
       "      <td>2022-06-15</td>\n",
       "    </tr>\n",
       "  </tbody>\n",
       "</table>\n",
       "</div>"
      ],
      "text/plain": [
       "        id  active_user_id  user_phone employee_phone         employee_email  \\\n",
       "55   69240        13106993  0929222095     0352003094  Huyennt129@fpt.com.vn   \n",
       "97   69256        29972223  0904066364     0977022591    HanhPT12@fpt.com.vn   \n",
       "107  69203         3865804  0372331799     0941404582     Dongtv6@fpt.com.vn   \n",
       "115  69236         6430459  0962742730     0968178998    Duongnd4@fpt.com.vn   \n",
       "131  69219        30221741  0937150982     0988795663   thanhnm30@fpt.com.vn   \n",
       "\n",
       "          employee_name invoice_created_date  updated_at  \n",
       "55   Huyền  Nguyễn Thị            2022-06-13  2022-06-15  \n",
       "97       Phùng Thị Hạnh           2022-06-13  2022-06-15  \n",
       "107     Trương Văn Đông           2022-06-12  2022-06-15  \n",
       "115   Dương Nguyễn Đức            2022-06-12  2022-06-15  \n",
       "131  Nguyễn Minh  Thành           2022-06-12  2022-06-15  "
      ]
     },
     "execution_count": 28,
     "metadata": {},
     "output_type": "execute_result"
    }
   ],
   "source": [
    "result.head()"
   ]
  },
  {
   "cell_type": "code",
   "execution_count": 42,
   "metadata": {},
   "outputs": [],
   "source": [
    "i=0\n",
    "sql = \"SET IDENTITY_INSERT OTT_Code_Demo ON INSERT INTO\" + \" \" + \"OTT_Code_Demo\" + \" \" + \"(\" + 'id'+ ',' + \" \" + 'active_user_id'+ ',' + \" \" + 'user_phone' + \",\"+ \"employee_phone\"+ ',' + \" \" + 'employee_email'+ ',' + \" \" + 'employee_name' + \",\"+ \"invoice_created_date\"+ \",\"+ \"updated_at\"+ \")\" + \" \" +'VALUES'+ ' ' + '(' +\"'\"+ str(result['id'].to_list()[i]) + \"'\"+ ',' + \"'\" +str(result['active_user_id'].to_list()[i]) +  \"'\" + ',' +\"'\" + str(result['user_phone'].to_list()[i]) + \"'\" + ',' +\"'\" + str(result['employee_phone'].to_list()[i]) +\"'\" +\",\" + \"'\"+str(result['employee_email'].to_list()[i]) + \"'\"+ ',' +'N'+ \"'\" +str(result['employee_name'].to_list()[i]) +  \"'\" + ',' +\"'\" + str(result['invoice_created_date'].to_list()[i]) + \"'\"+ ',' +\"'\" + str(result['updated_at'].to_list()[i]) + \"'\" + ')'  \n"
   ]
  },
  {
   "cell_type": "code",
   "execution_count": 43,
   "metadata": {},
   "outputs": [
    {
     "data": {
      "text/plain": [
       "\"SET IDENTITY_INSERT OTT_Code_Demo ON INSERT INTO OTT_Code_Demo (id, active_user_id, user_phone,employee_phone, employee_email, employee_name,invoice_created_date,updated_at) VALUES ('47288','18666174','0788350789','0788350789','luanta2@fpt.com.vn','Trần Anh  Luân','2022-03-17','2022-06-15')\""
      ]
     },
     "execution_count": 43,
     "metadata": {},
     "output_type": "execute_result"
    }
   ],
   "source": [
    "sql"
   ]
  },
  {
   "cell_type": "code",
   "execution_count": 34,
   "metadata": {},
   "outputs": [],
   "source": [
    "for i in range(len(result)):\n",
    "    server = server\n",
    "    database = database\n",
    "    username = username\n",
    "    password = password\n",
    "    cnxn = pyodbc.connect('DRIVER={ODBC Driver 17 for SQL Server};SERVER='+server+';DATABASE='+database+';UID='+username+';PWD='+ password)\n",
    "    cursor = cnxn.cursor()\n",
    "    sql = \"SET IDENTITY_INSERT OTT_Code_Demo ON INSERT INTO\" + \" \" + \"OTT_Code_Demo\" + \" \" + \"(\" + 'id'+ ',' + \" \" + 'active_user_id'+ ',' + \" \" + 'user_phone' + \",\"+ \"employee_phone\"+ ',' + \" \" + 'employee_email'+ ',' + \" \" + 'employee_name' + \",\"+ \"invoice_created_date\"+ \",\"+ \"updated_at\"+ \")\" + \" \" +'VALUES'+ ' ' + '(' +\"'\"+ str(result['id'].to_list()[i]) + \"'\"+ ',' + \"'\" +str(result['active_user_id'].to_list()[i]) +  \"'\" + ',' +\"'\" + str(result['user_phone'].to_list()[i]) + \"'\" + ',' +\"'\" + str(result['employee_phone'].to_list()[i]) +\"'\" +\",\" + \"'\"+str(result['employee_email'].to_list()[i]) + \"'\"+ ',' + \"'\" +str(result['employee_name'].to_list()[i]) +  \"'\" + ',' +\"'\" + str(result['invoice_created_date'].to_list()[i]) + \"'\"+ ',' +\"'\" + str(result['updated_at'].to_list()[i]) + \"'\" + ')'  \n",
    "    #print(sql)\n",
    "    cursor.execute(sql)\n",
    "    cnxn.commit()\n",
    "    #time.sleep(0.1)"
   ]
  },
  {
   "cell_type": "code",
   "execution_count": null,
   "metadata": {},
   "outputs": [],
   "source": [
    "cnxn.close()"
   ]
  },
  {
   "cell_type": "code",
   "execution_count": 42,
   "metadata": {},
   "outputs": [
    {
     "name": "stdout",
     "output_type": "stream",
     "text": [
      "INSERT INTO OTT_Code_Demo (id, active_user_id, user_phone,employee_phone, employee_email, employee_name,invoice_created_date,updated_at) VALUES ('693','27246696','0943915903','0865087383','longth17@fpt.com.vn','Tran Hoang Long','2022-06-14','2022-06-14')\n"
     ]
    }
   ],
   "source": [
    "server = server\n",
    "database = database\n",
    "username = username\n",
    "password = password\n",
    "cnxn = pyodbc.connect('DRIVER={ODBC Driver 17 for SQL Server};SERVER='+server+';DATABASE='+database+';UID='+username+';PWD='+ password)\n",
    "cursor = cnxn.cursor()\n",
    "sql = \"INSERT INTO\" + \" \" + \"OTT_Code_Demo\" + \" \" + \"(\" + 'id'+ ',' + \" \" + 'active_user_id'+ ',' + \" \" + 'user_phone' + \",\"+ \"employee_phone\"+ ',' + \" \" + 'employee_email'+ ',' + \" \" + 'employee_name' + \",\"+ \"invoice_created_date\"+ \",\"+ \"updated_at\"+ \")\" + \" \" +'VALUES'+ ' ' + '(' +\"'\"+ '0855606043' + \"'\"+ ',' + \"'\" +'0855606043' +  \"'\" + ',' +\"'\" + '0855606043' + \"'\" + ',' +\"'\" + '0855606043' +\"'\" +\",\" + \"'\" + 'longth17@fpt.com.vn' + \"'\"+ ',' +'N'+ \"'\" +'Tran Hoang Long' +  \"'\" + ',' +\"'\" + '2022-06-14' + \"'\"+ ',' +\"'\" + '2022-06-14' + \"'\" + ')'\n",
    "print(sql)\n",
    "cursor.execute(sql)\n",
    "cnxn.commit()"
   ]
  },
  {
   "cell_type": "code",
   "execution_count": 1,
   "metadata": {},
   "outputs": [
    {
     "name": "stdout",
     "output_type": "stream",
     "text": [
      "INSERT INTO OTT_Code_Demo (id, active_user_id, user_phone,employee_phone, employee_email, employee_name,invoice_created_date,updated_at) VALUES ('0855606043','0855606043','0855606043','0855606043','longth17@fpt.com.vn',N'Tran Hoang Long','2022-06-14','2022-06-14')\n"
     ]
    }
   ],
   "source": [
    "sql = \"INSERT INTO\" + \" \" + \"OTT_Code_Demo\" + \" \" + \"(\" + 'id'+ ',' + \" \" + 'active_user_id'+ ',' + \" \" + 'user_phone' + \",\"+ \"employee_phone\"+ ',' + \" \" + 'employee_email'+ ',' + \" \" + 'employee_name' + \",\"+ \"invoice_created_date\"+ \",\"+ \"updated_at\"+ \")\" + \" \" +'VALUES'+ ' ' + '(' +\"'\"+ '0855606043' + \"'\"+ ',' + \"'\" +'0855606043' +  \"'\" + ',' +\"'\" + '0855606043' + \"'\" + ',' +\"'\" + '0855606043' +\"'\" +\",\" + \"'\" + 'longth17@fpt.com.vn' + \"'\"+ ',' +'N'+ \"'\" +'Tran Hoang Long' +  \"'\" + ',' +\"'\" + '2022-06-14' + \"'\"+ ',' +\"'\" + '2022-06-14' + \"'\" + ')'\n",
    "print(sql)"
   ]
  },
  {
   "cell_type": "code",
   "execution_count": null,
   "metadata": {},
   "outputs": [],
   "source": []
  }
 ],
 "metadata": {
  "kernelspec": {
   "display_name": "Python 3",
   "language": "python",
   "name": "python3"
  },
  "language_info": {
   "codemirror_mode": {
    "name": "ipython",
    "version": 3
   },
   "file_extension": ".py",
   "mimetype": "text/x-python",
   "name": "python",
   "nbconvert_exporter": "python",
   "pygments_lexer": "ipython3",
   "version": "3.8.3"
  }
 },
 "nbformat": 4,
 "nbformat_minor": 4
}
