{
 "cells": [
  {
   "cell_type": "code",
   "execution_count": null,
   "metadata": {},
   "outputs": [],
   "source": [
    "import requests\n",
    "import json\n",
    "import sys\n",
    "import pymssql\n",
    "\n",
    "r = requests.post(\"http://evoucherapiv2.fpt.vn/api/services/Paytv/Paytv_Module/GetPromotionEventListPayTV\", data=json.dumps({'colen':''}), proxies={'http':None, 'https':None}).json()\n",
    "scon = pymssql.connect(server='172.20.2.110', user='gpkt', password='Paytv@gpkt~!@#', database='RecommendDB', charset='UTF-8', as_dict=True)\n",
    "cur = scon.cursor()\n",
    "form = '<T ID=\"%s\" Name=\"%s\" eventCode=\"%s\"  description=\"%s\" discount=\"%s\" fromDate=\"%s\" toDate=\"%s\" Status=\"%s\" quotaGeneralCode=\"%s\" quotaPrivateCode=\"%s\" images=\"%s\" vourcherType=\"%s\" serviceName=\"%s\" serviceType=\"%s\"/>'\n",
    "xmls = []\n",
    "for hit in r['data']:\n",
    "    xdata = form%(hit['id'],hit['name'], hit['eventCode'],\"\", int(hit['discount']), hit['fromDate'][0:10], hit['toDate'][0:10], hit['status'], hit['quotaGeneralCode'], hit['quotaPrivateCode'], hit['images'], hit['voucherType'], \"\", hit['serviceType'])\n",
    "    xmls.append(xdata)\n",
    "\n",
    "cur.execute(\"exec PBI_Voucher_GetInfo '%s'\"%(''.join(xmls)))\n",
    "scon.commit()"
   ]
  }
 ],
 "metadata": {
  "kernelspec": {
   "display_name": "Python 3",
   "language": "python",
   "name": "python3"
  },
  "language_info": {
   "codemirror_mode": {
    "name": "ipython",
    "version": 3
   },
   "file_extension": ".py",
   "mimetype": "text/x-python",
   "name": "python",
   "nbconvert_exporter": "python",
   "pygments_lexer": "ipython3",
   "version": "3.7.6"
  }
 },
 "nbformat": 4,
 "nbformat_minor": 4
}
